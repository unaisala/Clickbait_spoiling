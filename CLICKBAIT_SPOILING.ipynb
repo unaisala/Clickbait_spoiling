{
  "nbformat": 4,
  "nbformat_minor": 0,
  "metadata": {
    "colab": {
      "provenance": [],
      "gpuType": "T4",
      "collapsed_sections": [
        "e04knJADNbhU",
        "-o4e6Zc1uroO"
      ]
    },
    "kernelspec": {
      "name": "python3",
      "display_name": "Python 3"
    },
    "language_info": {
      "name": "python"
    },
    "widgets": {
      "application/vnd.jupyter.widget-state+json": {
        "5cf5a984423340abb5ee27af5af372c4": {
          "model_module": "@jupyter-widgets/controls",
          "model_name": "HBoxModel",
          "model_module_version": "1.5.0",
          "state": {
            "_dom_classes": [],
            "_model_module": "@jupyter-widgets/controls",
            "_model_module_version": "1.5.0",
            "_model_name": "HBoxModel",
            "_view_count": null,
            "_view_module": "@jupyter-widgets/controls",
            "_view_module_version": "1.5.0",
            "_view_name": "HBoxView",
            "box_style": "",
            "children": [
              "IPY_MODEL_2e49d4af96214fe88d5dda90fd51fe52",
              "IPY_MODEL_28c713e101a346e79bcf8d9625c5acde",
              "IPY_MODEL_f509b8f679c74f07ab7d8482ca8fe7d2"
            ],
            "layout": "IPY_MODEL_f2af6e3fbf334b0c83fbd919b8df8854"
          }
        },
        "2e49d4af96214fe88d5dda90fd51fe52": {
          "model_module": "@jupyter-widgets/controls",
          "model_name": "HTMLModel",
          "model_module_version": "1.5.0",
          "state": {
            "_dom_classes": [],
            "_model_module": "@jupyter-widgets/controls",
            "_model_module_version": "1.5.0",
            "_model_name": "HTMLModel",
            "_view_count": null,
            "_view_module": "@jupyter-widgets/controls",
            "_view_module_version": "1.5.0",
            "_view_name": "HTMLView",
            "description": "",
            "description_tooltip": null,
            "layout": "IPY_MODEL_91d83c0d3a5b466caf5d1c678770807a",
            "placeholder": "​",
            "style": "IPY_MODEL_cfc1b30ea90c4c12b790b2322e8e1325",
            "value": "tokenizer_config.json: 100%"
          }
        },
        "28c713e101a346e79bcf8d9625c5acde": {
          "model_module": "@jupyter-widgets/controls",
          "model_name": "FloatProgressModel",
          "model_module_version": "1.5.0",
          "state": {
            "_dom_classes": [],
            "_model_module": "@jupyter-widgets/controls",
            "_model_module_version": "1.5.0",
            "_model_name": "FloatProgressModel",
            "_view_count": null,
            "_view_module": "@jupyter-widgets/controls",
            "_view_module_version": "1.5.0",
            "_view_name": "ProgressView",
            "bar_style": "success",
            "description": "",
            "description_tooltip": null,
            "layout": "IPY_MODEL_effd6c51f90044088e18d1a73607f74d",
            "max": 25,
            "min": 0,
            "orientation": "horizontal",
            "style": "IPY_MODEL_abfc09269bdb43a8aec0390e47d5c819",
            "value": 25
          }
        },
        "f509b8f679c74f07ab7d8482ca8fe7d2": {
          "model_module": "@jupyter-widgets/controls",
          "model_name": "HTMLModel",
          "model_module_version": "1.5.0",
          "state": {
            "_dom_classes": [],
            "_model_module": "@jupyter-widgets/controls",
            "_model_module_version": "1.5.0",
            "_model_name": "HTMLModel",
            "_view_count": null,
            "_view_module": "@jupyter-widgets/controls",
            "_view_module_version": "1.5.0",
            "_view_name": "HTMLView",
            "description": "",
            "description_tooltip": null,
            "layout": "IPY_MODEL_1352bfd8f46243fba1fc9fe83775f8fd",
            "placeholder": "​",
            "style": "IPY_MODEL_a6e2fe81499a4c2289eee87ca4b747dd",
            "value": " 25.0/25.0 [00:00&lt;00:00, 337B/s]"
          }
        },
        "f2af6e3fbf334b0c83fbd919b8df8854": {
          "model_module": "@jupyter-widgets/base",
          "model_name": "LayoutModel",
          "model_module_version": "1.2.0",
          "state": {
            "_model_module": "@jupyter-widgets/base",
            "_model_module_version": "1.2.0",
            "_model_name": "LayoutModel",
            "_view_count": null,
            "_view_module": "@jupyter-widgets/base",
            "_view_module_version": "1.2.0",
            "_view_name": "LayoutView",
            "align_content": null,
            "align_items": null,
            "align_self": null,
            "border": null,
            "bottom": null,
            "display": null,
            "flex": null,
            "flex_flow": null,
            "grid_area": null,
            "grid_auto_columns": null,
            "grid_auto_flow": null,
            "grid_auto_rows": null,
            "grid_column": null,
            "grid_gap": null,
            "grid_row": null,
            "grid_template_areas": null,
            "grid_template_columns": null,
            "grid_template_rows": null,
            "height": null,
            "justify_content": null,
            "justify_items": null,
            "left": null,
            "margin": null,
            "max_height": null,
            "max_width": null,
            "min_height": null,
            "min_width": null,
            "object_fit": null,
            "object_position": null,
            "order": null,
            "overflow": null,
            "overflow_x": null,
            "overflow_y": null,
            "padding": null,
            "right": null,
            "top": null,
            "visibility": null,
            "width": null
          }
        },
        "91d83c0d3a5b466caf5d1c678770807a": {
          "model_module": "@jupyter-widgets/base",
          "model_name": "LayoutModel",
          "model_module_version": "1.2.0",
          "state": {
            "_model_module": "@jupyter-widgets/base",
            "_model_module_version": "1.2.0",
            "_model_name": "LayoutModel",
            "_view_count": null,
            "_view_module": "@jupyter-widgets/base",
            "_view_module_version": "1.2.0",
            "_view_name": "LayoutView",
            "align_content": null,
            "align_items": null,
            "align_self": null,
            "border": null,
            "bottom": null,
            "display": null,
            "flex": null,
            "flex_flow": null,
            "grid_area": null,
            "grid_auto_columns": null,
            "grid_auto_flow": null,
            "grid_auto_rows": null,
            "grid_column": null,
            "grid_gap": null,
            "grid_row": null,
            "grid_template_areas": null,
            "grid_template_columns": null,
            "grid_template_rows": null,
            "height": null,
            "justify_content": null,
            "justify_items": null,
            "left": null,
            "margin": null,
            "max_height": null,
            "max_width": null,
            "min_height": null,
            "min_width": null,
            "object_fit": null,
            "object_position": null,
            "order": null,
            "overflow": null,
            "overflow_x": null,
            "overflow_y": null,
            "padding": null,
            "right": null,
            "top": null,
            "visibility": null,
            "width": null
          }
        },
        "cfc1b30ea90c4c12b790b2322e8e1325": {
          "model_module": "@jupyter-widgets/controls",
          "model_name": "DescriptionStyleModel",
          "model_module_version": "1.5.0",
          "state": {
            "_model_module": "@jupyter-widgets/controls",
            "_model_module_version": "1.5.0",
            "_model_name": "DescriptionStyleModel",
            "_view_count": null,
            "_view_module": "@jupyter-widgets/base",
            "_view_module_version": "1.2.0",
            "_view_name": "StyleView",
            "description_width": ""
          }
        },
        "effd6c51f90044088e18d1a73607f74d": {
          "model_module": "@jupyter-widgets/base",
          "model_name": "LayoutModel",
          "model_module_version": "1.2.0",
          "state": {
            "_model_module": "@jupyter-widgets/base",
            "_model_module_version": "1.2.0",
            "_model_name": "LayoutModel",
            "_view_count": null,
            "_view_module": "@jupyter-widgets/base",
            "_view_module_version": "1.2.0",
            "_view_name": "LayoutView",
            "align_content": null,
            "align_items": null,
            "align_self": null,
            "border": null,
            "bottom": null,
            "display": null,
            "flex": null,
            "flex_flow": null,
            "grid_area": null,
            "grid_auto_columns": null,
            "grid_auto_flow": null,
            "grid_auto_rows": null,
            "grid_column": null,
            "grid_gap": null,
            "grid_row": null,
            "grid_template_areas": null,
            "grid_template_columns": null,
            "grid_template_rows": null,
            "height": null,
            "justify_content": null,
            "justify_items": null,
            "left": null,
            "margin": null,
            "max_height": null,
            "max_width": null,
            "min_height": null,
            "min_width": null,
            "object_fit": null,
            "object_position": null,
            "order": null,
            "overflow": null,
            "overflow_x": null,
            "overflow_y": null,
            "padding": null,
            "right": null,
            "top": null,
            "visibility": null,
            "width": null
          }
        },
        "abfc09269bdb43a8aec0390e47d5c819": {
          "model_module": "@jupyter-widgets/controls",
          "model_name": "ProgressStyleModel",
          "model_module_version": "1.5.0",
          "state": {
            "_model_module": "@jupyter-widgets/controls",
            "_model_module_version": "1.5.0",
            "_model_name": "ProgressStyleModel",
            "_view_count": null,
            "_view_module": "@jupyter-widgets/base",
            "_view_module_version": "1.2.0",
            "_view_name": "StyleView",
            "bar_color": null,
            "description_width": ""
          }
        },
        "1352bfd8f46243fba1fc9fe83775f8fd": {
          "model_module": "@jupyter-widgets/base",
          "model_name": "LayoutModel",
          "model_module_version": "1.2.0",
          "state": {
            "_model_module": "@jupyter-widgets/base",
            "_model_module_version": "1.2.0",
            "_model_name": "LayoutModel",
            "_view_count": null,
            "_view_module": "@jupyter-widgets/base",
            "_view_module_version": "1.2.0",
            "_view_name": "LayoutView",
            "align_content": null,
            "align_items": null,
            "align_self": null,
            "border": null,
            "bottom": null,
            "display": null,
            "flex": null,
            "flex_flow": null,
            "grid_area": null,
            "grid_auto_columns": null,
            "grid_auto_flow": null,
            "grid_auto_rows": null,
            "grid_column": null,
            "grid_gap": null,
            "grid_row": null,
            "grid_template_areas": null,
            "grid_template_columns": null,
            "grid_template_rows": null,
            "height": null,
            "justify_content": null,
            "justify_items": null,
            "left": null,
            "margin": null,
            "max_height": null,
            "max_width": null,
            "min_height": null,
            "min_width": null,
            "object_fit": null,
            "object_position": null,
            "order": null,
            "overflow": null,
            "overflow_x": null,
            "overflow_y": null,
            "padding": null,
            "right": null,
            "top": null,
            "visibility": null,
            "width": null
          }
        },
        "a6e2fe81499a4c2289eee87ca4b747dd": {
          "model_module": "@jupyter-widgets/controls",
          "model_name": "DescriptionStyleModel",
          "model_module_version": "1.5.0",
          "state": {
            "_model_module": "@jupyter-widgets/controls",
            "_model_module_version": "1.5.0",
            "_model_name": "DescriptionStyleModel",
            "_view_count": null,
            "_view_module": "@jupyter-widgets/base",
            "_view_module_version": "1.2.0",
            "_view_name": "StyleView",
            "description_width": ""
          }
        },
        "7e22604318c041c1b6fb1e98920a2621": {
          "model_module": "@jupyter-widgets/controls",
          "model_name": "HBoxModel",
          "model_module_version": "1.5.0",
          "state": {
            "_dom_classes": [],
            "_model_module": "@jupyter-widgets/controls",
            "_model_module_version": "1.5.0",
            "_model_name": "HBoxModel",
            "_view_count": null,
            "_view_module": "@jupyter-widgets/controls",
            "_view_module_version": "1.5.0",
            "_view_name": "HBoxView",
            "box_style": "",
            "children": [
              "IPY_MODEL_155622d589f74e6b97a9f832989d7b0a",
              "IPY_MODEL_205588f5a60c4547b9ce415226f2b8d1",
              "IPY_MODEL_be4dd0eaf96a45658451aed5c0495aff"
            ],
            "layout": "IPY_MODEL_5eb8051e04e546bfbe902af9d4a502f3"
          }
        },
        "155622d589f74e6b97a9f832989d7b0a": {
          "model_module": "@jupyter-widgets/controls",
          "model_name": "HTMLModel",
          "model_module_version": "1.5.0",
          "state": {
            "_dom_classes": [],
            "_model_module": "@jupyter-widgets/controls",
            "_model_module_version": "1.5.0",
            "_model_name": "HTMLModel",
            "_view_count": null,
            "_view_module": "@jupyter-widgets/controls",
            "_view_module_version": "1.5.0",
            "_view_name": "HTMLView",
            "description": "",
            "description_tooltip": null,
            "layout": "IPY_MODEL_d5ae04f53b67430f98b362babd14f110",
            "placeholder": "​",
            "style": "IPY_MODEL_bf28f301c36f4f1d91a74d36d660b0cc",
            "value": "config.json: 100%"
          }
        },
        "205588f5a60c4547b9ce415226f2b8d1": {
          "model_module": "@jupyter-widgets/controls",
          "model_name": "FloatProgressModel",
          "model_module_version": "1.5.0",
          "state": {
            "_dom_classes": [],
            "_model_module": "@jupyter-widgets/controls",
            "_model_module_version": "1.5.0",
            "_model_name": "FloatProgressModel",
            "_view_count": null,
            "_view_module": "@jupyter-widgets/controls",
            "_view_module_version": "1.5.0",
            "_view_name": "ProgressView",
            "bar_style": "success",
            "description": "",
            "description_tooltip": null,
            "layout": "IPY_MODEL_21be8dd99a234255b10833e0e0825c4f",
            "max": 482,
            "min": 0,
            "orientation": "horizontal",
            "style": "IPY_MODEL_57658961051644e2b8eba559c9289222",
            "value": 482
          }
        },
        "be4dd0eaf96a45658451aed5c0495aff": {
          "model_module": "@jupyter-widgets/controls",
          "model_name": "HTMLModel",
          "model_module_version": "1.5.0",
          "state": {
            "_dom_classes": [],
            "_model_module": "@jupyter-widgets/controls",
            "_model_module_version": "1.5.0",
            "_model_name": "HTMLModel",
            "_view_count": null,
            "_view_module": "@jupyter-widgets/controls",
            "_view_module_version": "1.5.0",
            "_view_name": "HTMLView",
            "description": "",
            "description_tooltip": null,
            "layout": "IPY_MODEL_7f70bb3794204988ac651300e997be1b",
            "placeholder": "​",
            "style": "IPY_MODEL_99309cccb0ac45b98e6b439058cbfb14",
            "value": " 482/482 [00:00&lt;00:00, 10.4kB/s]"
          }
        },
        "5eb8051e04e546bfbe902af9d4a502f3": {
          "model_module": "@jupyter-widgets/base",
          "model_name": "LayoutModel",
          "model_module_version": "1.2.0",
          "state": {
            "_model_module": "@jupyter-widgets/base",
            "_model_module_version": "1.2.0",
            "_model_name": "LayoutModel",
            "_view_count": null,
            "_view_module": "@jupyter-widgets/base",
            "_view_module_version": "1.2.0",
            "_view_name": "LayoutView",
            "align_content": null,
            "align_items": null,
            "align_self": null,
            "border": null,
            "bottom": null,
            "display": null,
            "flex": null,
            "flex_flow": null,
            "grid_area": null,
            "grid_auto_columns": null,
            "grid_auto_flow": null,
            "grid_auto_rows": null,
            "grid_column": null,
            "grid_gap": null,
            "grid_row": null,
            "grid_template_areas": null,
            "grid_template_columns": null,
            "grid_template_rows": null,
            "height": null,
            "justify_content": null,
            "justify_items": null,
            "left": null,
            "margin": null,
            "max_height": null,
            "max_width": null,
            "min_height": null,
            "min_width": null,
            "object_fit": null,
            "object_position": null,
            "order": null,
            "overflow": null,
            "overflow_x": null,
            "overflow_y": null,
            "padding": null,
            "right": null,
            "top": null,
            "visibility": null,
            "width": null
          }
        },
        "d5ae04f53b67430f98b362babd14f110": {
          "model_module": "@jupyter-widgets/base",
          "model_name": "LayoutModel",
          "model_module_version": "1.2.0",
          "state": {
            "_model_module": "@jupyter-widgets/base",
            "_model_module_version": "1.2.0",
            "_model_name": "LayoutModel",
            "_view_count": null,
            "_view_module": "@jupyter-widgets/base",
            "_view_module_version": "1.2.0",
            "_view_name": "LayoutView",
            "align_content": null,
            "align_items": null,
            "align_self": null,
            "border": null,
            "bottom": null,
            "display": null,
            "flex": null,
            "flex_flow": null,
            "grid_area": null,
            "grid_auto_columns": null,
            "grid_auto_flow": null,
            "grid_auto_rows": null,
            "grid_column": null,
            "grid_gap": null,
            "grid_row": null,
            "grid_template_areas": null,
            "grid_template_columns": null,
            "grid_template_rows": null,
            "height": null,
            "justify_content": null,
            "justify_items": null,
            "left": null,
            "margin": null,
            "max_height": null,
            "max_width": null,
            "min_height": null,
            "min_width": null,
            "object_fit": null,
            "object_position": null,
            "order": null,
            "overflow": null,
            "overflow_x": null,
            "overflow_y": null,
            "padding": null,
            "right": null,
            "top": null,
            "visibility": null,
            "width": null
          }
        },
        "bf28f301c36f4f1d91a74d36d660b0cc": {
          "model_module": "@jupyter-widgets/controls",
          "model_name": "DescriptionStyleModel",
          "model_module_version": "1.5.0",
          "state": {
            "_model_module": "@jupyter-widgets/controls",
            "_model_module_version": "1.5.0",
            "_model_name": "DescriptionStyleModel",
            "_view_count": null,
            "_view_module": "@jupyter-widgets/base",
            "_view_module_version": "1.2.0",
            "_view_name": "StyleView",
            "description_width": ""
          }
        },
        "21be8dd99a234255b10833e0e0825c4f": {
          "model_module": "@jupyter-widgets/base",
          "model_name": "LayoutModel",
          "model_module_version": "1.2.0",
          "state": {
            "_model_module": "@jupyter-widgets/base",
            "_model_module_version": "1.2.0",
            "_model_name": "LayoutModel",
            "_view_count": null,
            "_view_module": "@jupyter-widgets/base",
            "_view_module_version": "1.2.0",
            "_view_name": "LayoutView",
            "align_content": null,
            "align_items": null,
            "align_self": null,
            "border": null,
            "bottom": null,
            "display": null,
            "flex": null,
            "flex_flow": null,
            "grid_area": null,
            "grid_auto_columns": null,
            "grid_auto_flow": null,
            "grid_auto_rows": null,
            "grid_column": null,
            "grid_gap": null,
            "grid_row": null,
            "grid_template_areas": null,
            "grid_template_columns": null,
            "grid_template_rows": null,
            "height": null,
            "justify_content": null,
            "justify_items": null,
            "left": null,
            "margin": null,
            "max_height": null,
            "max_width": null,
            "min_height": null,
            "min_width": null,
            "object_fit": null,
            "object_position": null,
            "order": null,
            "overflow": null,
            "overflow_x": null,
            "overflow_y": null,
            "padding": null,
            "right": null,
            "top": null,
            "visibility": null,
            "width": null
          }
        },
        "57658961051644e2b8eba559c9289222": {
          "model_module": "@jupyter-widgets/controls",
          "model_name": "ProgressStyleModel",
          "model_module_version": "1.5.0",
          "state": {
            "_model_module": "@jupyter-widgets/controls",
            "_model_module_version": "1.5.0",
            "_model_name": "ProgressStyleModel",
            "_view_count": null,
            "_view_module": "@jupyter-widgets/base",
            "_view_module_version": "1.2.0",
            "_view_name": "StyleView",
            "bar_color": null,
            "description_width": ""
          }
        },
        "7f70bb3794204988ac651300e997be1b": {
          "model_module": "@jupyter-widgets/base",
          "model_name": "LayoutModel",
          "model_module_version": "1.2.0",
          "state": {
            "_model_module": "@jupyter-widgets/base",
            "_model_module_version": "1.2.0",
            "_model_name": "LayoutModel",
            "_view_count": null,
            "_view_module": "@jupyter-widgets/base",
            "_view_module_version": "1.2.0",
            "_view_name": "LayoutView",
            "align_content": null,
            "align_items": null,
            "align_self": null,
            "border": null,
            "bottom": null,
            "display": null,
            "flex": null,
            "flex_flow": null,
            "grid_area": null,
            "grid_auto_columns": null,
            "grid_auto_flow": null,
            "grid_auto_rows": null,
            "grid_column": null,
            "grid_gap": null,
            "grid_row": null,
            "grid_template_areas": null,
            "grid_template_columns": null,
            "grid_template_rows": null,
            "height": null,
            "justify_content": null,
            "justify_items": null,
            "left": null,
            "margin": null,
            "max_height": null,
            "max_width": null,
            "min_height": null,
            "min_width": null,
            "object_fit": null,
            "object_position": null,
            "order": null,
            "overflow": null,
            "overflow_x": null,
            "overflow_y": null,
            "padding": null,
            "right": null,
            "top": null,
            "visibility": null,
            "width": null
          }
        },
        "99309cccb0ac45b98e6b439058cbfb14": {
          "model_module": "@jupyter-widgets/controls",
          "model_name": "DescriptionStyleModel",
          "model_module_version": "1.5.0",
          "state": {
            "_model_module": "@jupyter-widgets/controls",
            "_model_module_version": "1.5.0",
            "_model_name": "DescriptionStyleModel",
            "_view_count": null,
            "_view_module": "@jupyter-widgets/base",
            "_view_module_version": "1.2.0",
            "_view_name": "StyleView",
            "description_width": ""
          }
        },
        "c63e678d637b457396988a70654eaabb": {
          "model_module": "@jupyter-widgets/controls",
          "model_name": "HBoxModel",
          "model_module_version": "1.5.0",
          "state": {
            "_dom_classes": [],
            "_model_module": "@jupyter-widgets/controls",
            "_model_module_version": "1.5.0",
            "_model_name": "HBoxModel",
            "_view_count": null,
            "_view_module": "@jupyter-widgets/controls",
            "_view_module_version": "1.5.0",
            "_view_name": "HBoxView",
            "box_style": "",
            "children": [
              "IPY_MODEL_2e14c2c039224fb5b7054d87b0446022",
              "IPY_MODEL_620d7fc5201f4493a94d019850a263d3",
              "IPY_MODEL_1c83b60399d544388d4196187c812f1d"
            ],
            "layout": "IPY_MODEL_cb779822d82640eeb04255a9ff0609b7"
          }
        },
        "2e14c2c039224fb5b7054d87b0446022": {
          "model_module": "@jupyter-widgets/controls",
          "model_name": "HTMLModel",
          "model_module_version": "1.5.0",
          "state": {
            "_dom_classes": [],
            "_model_module": "@jupyter-widgets/controls",
            "_model_module_version": "1.5.0",
            "_model_name": "HTMLModel",
            "_view_count": null,
            "_view_module": "@jupyter-widgets/controls",
            "_view_module_version": "1.5.0",
            "_view_name": "HTMLView",
            "description": "",
            "description_tooltip": null,
            "layout": "IPY_MODEL_6be5237024b6443384dcb1bf6ce14276",
            "placeholder": "​",
            "style": "IPY_MODEL_7ad45100ecb7448a91f7869bb5b39006",
            "value": "vocab.json: 100%"
          }
        },
        "620d7fc5201f4493a94d019850a263d3": {
          "model_module": "@jupyter-widgets/controls",
          "model_name": "FloatProgressModel",
          "model_module_version": "1.5.0",
          "state": {
            "_dom_classes": [],
            "_model_module": "@jupyter-widgets/controls",
            "_model_module_version": "1.5.0",
            "_model_name": "FloatProgressModel",
            "_view_count": null,
            "_view_module": "@jupyter-widgets/controls",
            "_view_module_version": "1.5.0",
            "_view_name": "ProgressView",
            "bar_style": "success",
            "description": "",
            "description_tooltip": null,
            "layout": "IPY_MODEL_9fae101ca23840c69a4be014309208cd",
            "max": 898823,
            "min": 0,
            "orientation": "horizontal",
            "style": "IPY_MODEL_af60347e1c9f40f2831fe674dc5f3cb9",
            "value": 898823
          }
        },
        "1c83b60399d544388d4196187c812f1d": {
          "model_module": "@jupyter-widgets/controls",
          "model_name": "HTMLModel",
          "model_module_version": "1.5.0",
          "state": {
            "_dom_classes": [],
            "_model_module": "@jupyter-widgets/controls",
            "_model_module_version": "1.5.0",
            "_model_name": "HTMLModel",
            "_view_count": null,
            "_view_module": "@jupyter-widgets/controls",
            "_view_module_version": "1.5.0",
            "_view_name": "HTMLView",
            "description": "",
            "description_tooltip": null,
            "layout": "IPY_MODEL_721b773ad4264d18954c7417e704e279",
            "placeholder": "​",
            "style": "IPY_MODEL_147a6937c88a446694a27f079fc8bb18",
            "value": " 899k/899k [00:00&lt;00:00, 4.97MB/s]"
          }
        },
        "cb779822d82640eeb04255a9ff0609b7": {
          "model_module": "@jupyter-widgets/base",
          "model_name": "LayoutModel",
          "model_module_version": "1.2.0",
          "state": {
            "_model_module": "@jupyter-widgets/base",
            "_model_module_version": "1.2.0",
            "_model_name": "LayoutModel",
            "_view_count": null,
            "_view_module": "@jupyter-widgets/base",
            "_view_module_version": "1.2.0",
            "_view_name": "LayoutView",
            "align_content": null,
            "align_items": null,
            "align_self": null,
            "border": null,
            "bottom": null,
            "display": null,
            "flex": null,
            "flex_flow": null,
            "grid_area": null,
            "grid_auto_columns": null,
            "grid_auto_flow": null,
            "grid_auto_rows": null,
            "grid_column": null,
            "grid_gap": null,
            "grid_row": null,
            "grid_template_areas": null,
            "grid_template_columns": null,
            "grid_template_rows": null,
            "height": null,
            "justify_content": null,
            "justify_items": null,
            "left": null,
            "margin": null,
            "max_height": null,
            "max_width": null,
            "min_height": null,
            "min_width": null,
            "object_fit": null,
            "object_position": null,
            "order": null,
            "overflow": null,
            "overflow_x": null,
            "overflow_y": null,
            "padding": null,
            "right": null,
            "top": null,
            "visibility": null,
            "width": null
          }
        },
        "6be5237024b6443384dcb1bf6ce14276": {
          "model_module": "@jupyter-widgets/base",
          "model_name": "LayoutModel",
          "model_module_version": "1.2.0",
          "state": {
            "_model_module": "@jupyter-widgets/base",
            "_model_module_version": "1.2.0",
            "_model_name": "LayoutModel",
            "_view_count": null,
            "_view_module": "@jupyter-widgets/base",
            "_view_module_version": "1.2.0",
            "_view_name": "LayoutView",
            "align_content": null,
            "align_items": null,
            "align_self": null,
            "border": null,
            "bottom": null,
            "display": null,
            "flex": null,
            "flex_flow": null,
            "grid_area": null,
            "grid_auto_columns": null,
            "grid_auto_flow": null,
            "grid_auto_rows": null,
            "grid_column": null,
            "grid_gap": null,
            "grid_row": null,
            "grid_template_areas": null,
            "grid_template_columns": null,
            "grid_template_rows": null,
            "height": null,
            "justify_content": null,
            "justify_items": null,
            "left": null,
            "margin": null,
            "max_height": null,
            "max_width": null,
            "min_height": null,
            "min_width": null,
            "object_fit": null,
            "object_position": null,
            "order": null,
            "overflow": null,
            "overflow_x": null,
            "overflow_y": null,
            "padding": null,
            "right": null,
            "top": null,
            "visibility": null,
            "width": null
          }
        },
        "7ad45100ecb7448a91f7869bb5b39006": {
          "model_module": "@jupyter-widgets/controls",
          "model_name": "DescriptionStyleModel",
          "model_module_version": "1.5.0",
          "state": {
            "_model_module": "@jupyter-widgets/controls",
            "_model_module_version": "1.5.0",
            "_model_name": "DescriptionStyleModel",
            "_view_count": null,
            "_view_module": "@jupyter-widgets/base",
            "_view_module_version": "1.2.0",
            "_view_name": "StyleView",
            "description_width": ""
          }
        },
        "9fae101ca23840c69a4be014309208cd": {
          "model_module": "@jupyter-widgets/base",
          "model_name": "LayoutModel",
          "model_module_version": "1.2.0",
          "state": {
            "_model_module": "@jupyter-widgets/base",
            "_model_module_version": "1.2.0",
            "_model_name": "LayoutModel",
            "_view_count": null,
            "_view_module": "@jupyter-widgets/base",
            "_view_module_version": "1.2.0",
            "_view_name": "LayoutView",
            "align_content": null,
            "align_items": null,
            "align_self": null,
            "border": null,
            "bottom": null,
            "display": null,
            "flex": null,
            "flex_flow": null,
            "grid_area": null,
            "grid_auto_columns": null,
            "grid_auto_flow": null,
            "grid_auto_rows": null,
            "grid_column": null,
            "grid_gap": null,
            "grid_row": null,
            "grid_template_areas": null,
            "grid_template_columns": null,
            "grid_template_rows": null,
            "height": null,
            "justify_content": null,
            "justify_items": null,
            "left": null,
            "margin": null,
            "max_height": null,
            "max_width": null,
            "min_height": null,
            "min_width": null,
            "object_fit": null,
            "object_position": null,
            "order": null,
            "overflow": null,
            "overflow_x": null,
            "overflow_y": null,
            "padding": null,
            "right": null,
            "top": null,
            "visibility": null,
            "width": null
          }
        },
        "af60347e1c9f40f2831fe674dc5f3cb9": {
          "model_module": "@jupyter-widgets/controls",
          "model_name": "ProgressStyleModel",
          "model_module_version": "1.5.0",
          "state": {
            "_model_module": "@jupyter-widgets/controls",
            "_model_module_version": "1.5.0",
            "_model_name": "ProgressStyleModel",
            "_view_count": null,
            "_view_module": "@jupyter-widgets/base",
            "_view_module_version": "1.2.0",
            "_view_name": "StyleView",
            "bar_color": null,
            "description_width": ""
          }
        },
        "721b773ad4264d18954c7417e704e279": {
          "model_module": "@jupyter-widgets/base",
          "model_name": "LayoutModel",
          "model_module_version": "1.2.0",
          "state": {
            "_model_module": "@jupyter-widgets/base",
            "_model_module_version": "1.2.0",
            "_model_name": "LayoutModel",
            "_view_count": null,
            "_view_module": "@jupyter-widgets/base",
            "_view_module_version": "1.2.0",
            "_view_name": "LayoutView",
            "align_content": null,
            "align_items": null,
            "align_self": null,
            "border": null,
            "bottom": null,
            "display": null,
            "flex": null,
            "flex_flow": null,
            "grid_area": null,
            "grid_auto_columns": null,
            "grid_auto_flow": null,
            "grid_auto_rows": null,
            "grid_column": null,
            "grid_gap": null,
            "grid_row": null,
            "grid_template_areas": null,
            "grid_template_columns": null,
            "grid_template_rows": null,
            "height": null,
            "justify_content": null,
            "justify_items": null,
            "left": null,
            "margin": null,
            "max_height": null,
            "max_width": null,
            "min_height": null,
            "min_width": null,
            "object_fit": null,
            "object_position": null,
            "order": null,
            "overflow": null,
            "overflow_x": null,
            "overflow_y": null,
            "padding": null,
            "right": null,
            "top": null,
            "visibility": null,
            "width": null
          }
        },
        "147a6937c88a446694a27f079fc8bb18": {
          "model_module": "@jupyter-widgets/controls",
          "model_name": "DescriptionStyleModel",
          "model_module_version": "1.5.0",
          "state": {
            "_model_module": "@jupyter-widgets/controls",
            "_model_module_version": "1.5.0",
            "_model_name": "DescriptionStyleModel",
            "_view_count": null,
            "_view_module": "@jupyter-widgets/base",
            "_view_module_version": "1.2.0",
            "_view_name": "StyleView",
            "description_width": ""
          }
        },
        "8dd123e35aab46efaad6551a5a975834": {
          "model_module": "@jupyter-widgets/controls",
          "model_name": "HBoxModel",
          "model_module_version": "1.5.0",
          "state": {
            "_dom_classes": [],
            "_model_module": "@jupyter-widgets/controls",
            "_model_module_version": "1.5.0",
            "_model_name": "HBoxModel",
            "_view_count": null,
            "_view_module": "@jupyter-widgets/controls",
            "_view_module_version": "1.5.0",
            "_view_name": "HBoxView",
            "box_style": "",
            "children": [
              "IPY_MODEL_bf232195f54a4374877e1fa5bc16847d",
              "IPY_MODEL_1dbc5a602d5b4b31beb105d77af889ae",
              "IPY_MODEL_1b82b997050c45688f48080c5f17ab83"
            ],
            "layout": "IPY_MODEL_90e3a1b15ba84ec7a9af595877a3f2b8"
          }
        },
        "bf232195f54a4374877e1fa5bc16847d": {
          "model_module": "@jupyter-widgets/controls",
          "model_name": "HTMLModel",
          "model_module_version": "1.5.0",
          "state": {
            "_dom_classes": [],
            "_model_module": "@jupyter-widgets/controls",
            "_model_module_version": "1.5.0",
            "_model_name": "HTMLModel",
            "_view_count": null,
            "_view_module": "@jupyter-widgets/controls",
            "_view_module_version": "1.5.0",
            "_view_name": "HTMLView",
            "description": "",
            "description_tooltip": null,
            "layout": "IPY_MODEL_93b2b7ac5edd427abe983e48619cc6aa",
            "placeholder": "​",
            "style": "IPY_MODEL_545f41b64f61450fa64b87b93acfaf08",
            "value": "merges.txt: 100%"
          }
        },
        "1dbc5a602d5b4b31beb105d77af889ae": {
          "model_module": "@jupyter-widgets/controls",
          "model_name": "FloatProgressModel",
          "model_module_version": "1.5.0",
          "state": {
            "_dom_classes": [],
            "_model_module": "@jupyter-widgets/controls",
            "_model_module_version": "1.5.0",
            "_model_name": "FloatProgressModel",
            "_view_count": null,
            "_view_module": "@jupyter-widgets/controls",
            "_view_module_version": "1.5.0",
            "_view_name": "ProgressView",
            "bar_style": "success",
            "description": "",
            "description_tooltip": null,
            "layout": "IPY_MODEL_fc2a0f91debb4121bea207d5083ba238",
            "max": 456318,
            "min": 0,
            "orientation": "horizontal",
            "style": "IPY_MODEL_b3785f0aed914bcd8efa8a90e3dff608",
            "value": 456318
          }
        },
        "1b82b997050c45688f48080c5f17ab83": {
          "model_module": "@jupyter-widgets/controls",
          "model_name": "HTMLModel",
          "model_module_version": "1.5.0",
          "state": {
            "_dom_classes": [],
            "_model_module": "@jupyter-widgets/controls",
            "_model_module_version": "1.5.0",
            "_model_name": "HTMLModel",
            "_view_count": null,
            "_view_module": "@jupyter-widgets/controls",
            "_view_module_version": "1.5.0",
            "_view_name": "HTMLView",
            "description": "",
            "description_tooltip": null,
            "layout": "IPY_MODEL_270d0f3348004811b1952477542f8867",
            "placeholder": "​",
            "style": "IPY_MODEL_c83c20959e8a4c49992bc79248fab135",
            "value": " 456k/456k [00:00&lt;00:00, 5.32MB/s]"
          }
        },
        "90e3a1b15ba84ec7a9af595877a3f2b8": {
          "model_module": "@jupyter-widgets/base",
          "model_name": "LayoutModel",
          "model_module_version": "1.2.0",
          "state": {
            "_model_module": "@jupyter-widgets/base",
            "_model_module_version": "1.2.0",
            "_model_name": "LayoutModel",
            "_view_count": null,
            "_view_module": "@jupyter-widgets/base",
            "_view_module_version": "1.2.0",
            "_view_name": "LayoutView",
            "align_content": null,
            "align_items": null,
            "align_self": null,
            "border": null,
            "bottom": null,
            "display": null,
            "flex": null,
            "flex_flow": null,
            "grid_area": null,
            "grid_auto_columns": null,
            "grid_auto_flow": null,
            "grid_auto_rows": null,
            "grid_column": null,
            "grid_gap": null,
            "grid_row": null,
            "grid_template_areas": null,
            "grid_template_columns": null,
            "grid_template_rows": null,
            "height": null,
            "justify_content": null,
            "justify_items": null,
            "left": null,
            "margin": null,
            "max_height": null,
            "max_width": null,
            "min_height": null,
            "min_width": null,
            "object_fit": null,
            "object_position": null,
            "order": null,
            "overflow": null,
            "overflow_x": null,
            "overflow_y": null,
            "padding": null,
            "right": null,
            "top": null,
            "visibility": null,
            "width": null
          }
        },
        "93b2b7ac5edd427abe983e48619cc6aa": {
          "model_module": "@jupyter-widgets/base",
          "model_name": "LayoutModel",
          "model_module_version": "1.2.0",
          "state": {
            "_model_module": "@jupyter-widgets/base",
            "_model_module_version": "1.2.0",
            "_model_name": "LayoutModel",
            "_view_count": null,
            "_view_module": "@jupyter-widgets/base",
            "_view_module_version": "1.2.0",
            "_view_name": "LayoutView",
            "align_content": null,
            "align_items": null,
            "align_self": null,
            "border": null,
            "bottom": null,
            "display": null,
            "flex": null,
            "flex_flow": null,
            "grid_area": null,
            "grid_auto_columns": null,
            "grid_auto_flow": null,
            "grid_auto_rows": null,
            "grid_column": null,
            "grid_gap": null,
            "grid_row": null,
            "grid_template_areas": null,
            "grid_template_columns": null,
            "grid_template_rows": null,
            "height": null,
            "justify_content": null,
            "justify_items": null,
            "left": null,
            "margin": null,
            "max_height": null,
            "max_width": null,
            "min_height": null,
            "min_width": null,
            "object_fit": null,
            "object_position": null,
            "order": null,
            "overflow": null,
            "overflow_x": null,
            "overflow_y": null,
            "padding": null,
            "right": null,
            "top": null,
            "visibility": null,
            "width": null
          }
        },
        "545f41b64f61450fa64b87b93acfaf08": {
          "model_module": "@jupyter-widgets/controls",
          "model_name": "DescriptionStyleModel",
          "model_module_version": "1.5.0",
          "state": {
            "_model_module": "@jupyter-widgets/controls",
            "_model_module_version": "1.5.0",
            "_model_name": "DescriptionStyleModel",
            "_view_count": null,
            "_view_module": "@jupyter-widgets/base",
            "_view_module_version": "1.2.0",
            "_view_name": "StyleView",
            "description_width": ""
          }
        },
        "fc2a0f91debb4121bea207d5083ba238": {
          "model_module": "@jupyter-widgets/base",
          "model_name": "LayoutModel",
          "model_module_version": "1.2.0",
          "state": {
            "_model_module": "@jupyter-widgets/base",
            "_model_module_version": "1.2.0",
            "_model_name": "LayoutModel",
            "_view_count": null,
            "_view_module": "@jupyter-widgets/base",
            "_view_module_version": "1.2.0",
            "_view_name": "LayoutView",
            "align_content": null,
            "align_items": null,
            "align_self": null,
            "border": null,
            "bottom": null,
            "display": null,
            "flex": null,
            "flex_flow": null,
            "grid_area": null,
            "grid_auto_columns": null,
            "grid_auto_flow": null,
            "grid_auto_rows": null,
            "grid_column": null,
            "grid_gap": null,
            "grid_row": null,
            "grid_template_areas": null,
            "grid_template_columns": null,
            "grid_template_rows": null,
            "height": null,
            "justify_content": null,
            "justify_items": null,
            "left": null,
            "margin": null,
            "max_height": null,
            "max_width": null,
            "min_height": null,
            "min_width": null,
            "object_fit": null,
            "object_position": null,
            "order": null,
            "overflow": null,
            "overflow_x": null,
            "overflow_y": null,
            "padding": null,
            "right": null,
            "top": null,
            "visibility": null,
            "width": null
          }
        },
        "b3785f0aed914bcd8efa8a90e3dff608": {
          "model_module": "@jupyter-widgets/controls",
          "model_name": "ProgressStyleModel",
          "model_module_version": "1.5.0",
          "state": {
            "_model_module": "@jupyter-widgets/controls",
            "_model_module_version": "1.5.0",
            "_model_name": "ProgressStyleModel",
            "_view_count": null,
            "_view_module": "@jupyter-widgets/base",
            "_view_module_version": "1.2.0",
            "_view_name": "StyleView",
            "bar_color": null,
            "description_width": ""
          }
        },
        "270d0f3348004811b1952477542f8867": {
          "model_module": "@jupyter-widgets/base",
          "model_name": "LayoutModel",
          "model_module_version": "1.2.0",
          "state": {
            "_model_module": "@jupyter-widgets/base",
            "_model_module_version": "1.2.0",
            "_model_name": "LayoutModel",
            "_view_count": null,
            "_view_module": "@jupyter-widgets/base",
            "_view_module_version": "1.2.0",
            "_view_name": "LayoutView",
            "align_content": null,
            "align_items": null,
            "align_self": null,
            "border": null,
            "bottom": null,
            "display": null,
            "flex": null,
            "flex_flow": null,
            "grid_area": null,
            "grid_auto_columns": null,
            "grid_auto_flow": null,
            "grid_auto_rows": null,
            "grid_column": null,
            "grid_gap": null,
            "grid_row": null,
            "grid_template_areas": null,
            "grid_template_columns": null,
            "grid_template_rows": null,
            "height": null,
            "justify_content": null,
            "justify_items": null,
            "left": null,
            "margin": null,
            "max_height": null,
            "max_width": null,
            "min_height": null,
            "min_width": null,
            "object_fit": null,
            "object_position": null,
            "order": null,
            "overflow": null,
            "overflow_x": null,
            "overflow_y": null,
            "padding": null,
            "right": null,
            "top": null,
            "visibility": null,
            "width": null
          }
        },
        "c83c20959e8a4c49992bc79248fab135": {
          "model_module": "@jupyter-widgets/controls",
          "model_name": "DescriptionStyleModel",
          "model_module_version": "1.5.0",
          "state": {
            "_model_module": "@jupyter-widgets/controls",
            "_model_module_version": "1.5.0",
            "_model_name": "DescriptionStyleModel",
            "_view_count": null,
            "_view_module": "@jupyter-widgets/base",
            "_view_module_version": "1.2.0",
            "_view_name": "StyleView",
            "description_width": ""
          }
        },
        "4b6cdc6d63c24382a6522414b602a736": {
          "model_module": "@jupyter-widgets/controls",
          "model_name": "HBoxModel",
          "model_module_version": "1.5.0",
          "state": {
            "_dom_classes": [],
            "_model_module": "@jupyter-widgets/controls",
            "_model_module_version": "1.5.0",
            "_model_name": "HBoxModel",
            "_view_count": null,
            "_view_module": "@jupyter-widgets/controls",
            "_view_module_version": "1.5.0",
            "_view_name": "HBoxView",
            "box_style": "",
            "children": [
              "IPY_MODEL_b8e79318adc847feacec45661194df67",
              "IPY_MODEL_4786e53e3cfe4abb81a26dbb3631d50a",
              "IPY_MODEL_a148e73b71144da7b524367bbf563e6b"
            ],
            "layout": "IPY_MODEL_6dcc4ad601b144b59af9f145d895dd83"
          }
        },
        "b8e79318adc847feacec45661194df67": {
          "model_module": "@jupyter-widgets/controls",
          "model_name": "HTMLModel",
          "model_module_version": "1.5.0",
          "state": {
            "_dom_classes": [],
            "_model_module": "@jupyter-widgets/controls",
            "_model_module_version": "1.5.0",
            "_model_name": "HTMLModel",
            "_view_count": null,
            "_view_module": "@jupyter-widgets/controls",
            "_view_module_version": "1.5.0",
            "_view_name": "HTMLView",
            "description": "",
            "description_tooltip": null,
            "layout": "IPY_MODEL_e1439b7bb6c44a10a0c8fc8bf83efea0",
            "placeholder": "​",
            "style": "IPY_MODEL_e33ffda4f587426983ef025f349f50cd",
            "value": "tokenizer.json: 100%"
          }
        },
        "4786e53e3cfe4abb81a26dbb3631d50a": {
          "model_module": "@jupyter-widgets/controls",
          "model_name": "FloatProgressModel",
          "model_module_version": "1.5.0",
          "state": {
            "_dom_classes": [],
            "_model_module": "@jupyter-widgets/controls",
            "_model_module_version": "1.5.0",
            "_model_name": "FloatProgressModel",
            "_view_count": null,
            "_view_module": "@jupyter-widgets/controls",
            "_view_module_version": "1.5.0",
            "_view_name": "ProgressView",
            "bar_style": "success",
            "description": "",
            "description_tooltip": null,
            "layout": "IPY_MODEL_33d9879097cb4eec893b5e9eb80a037b",
            "max": 1355863,
            "min": 0,
            "orientation": "horizontal",
            "style": "IPY_MODEL_31a7ddbd2364417680afb274698e410a",
            "value": 1355863
          }
        },
        "a148e73b71144da7b524367bbf563e6b": {
          "model_module": "@jupyter-widgets/controls",
          "model_name": "HTMLModel",
          "model_module_version": "1.5.0",
          "state": {
            "_dom_classes": [],
            "_model_module": "@jupyter-widgets/controls",
            "_model_module_version": "1.5.0",
            "_model_name": "HTMLModel",
            "_view_count": null,
            "_view_module": "@jupyter-widgets/controls",
            "_view_module_version": "1.5.0",
            "_view_name": "HTMLView",
            "description": "",
            "description_tooltip": null,
            "layout": "IPY_MODEL_e193b0ea9d244f0fa2c292d13c4c5dfa",
            "placeholder": "​",
            "style": "IPY_MODEL_139fcbe2d2b24f59a782f692b656729f",
            "value": " 1.36M/1.36M [00:00&lt;00:00, 13.4MB/s]"
          }
        },
        "6dcc4ad601b144b59af9f145d895dd83": {
          "model_module": "@jupyter-widgets/base",
          "model_name": "LayoutModel",
          "model_module_version": "1.2.0",
          "state": {
            "_model_module": "@jupyter-widgets/base",
            "_model_module_version": "1.2.0",
            "_model_name": "LayoutModel",
            "_view_count": null,
            "_view_module": "@jupyter-widgets/base",
            "_view_module_version": "1.2.0",
            "_view_name": "LayoutView",
            "align_content": null,
            "align_items": null,
            "align_self": null,
            "border": null,
            "bottom": null,
            "display": null,
            "flex": null,
            "flex_flow": null,
            "grid_area": null,
            "grid_auto_columns": null,
            "grid_auto_flow": null,
            "grid_auto_rows": null,
            "grid_column": null,
            "grid_gap": null,
            "grid_row": null,
            "grid_template_areas": null,
            "grid_template_columns": null,
            "grid_template_rows": null,
            "height": null,
            "justify_content": null,
            "justify_items": null,
            "left": null,
            "margin": null,
            "max_height": null,
            "max_width": null,
            "min_height": null,
            "min_width": null,
            "object_fit": null,
            "object_position": null,
            "order": null,
            "overflow": null,
            "overflow_x": null,
            "overflow_y": null,
            "padding": null,
            "right": null,
            "top": null,
            "visibility": null,
            "width": null
          }
        },
        "e1439b7bb6c44a10a0c8fc8bf83efea0": {
          "model_module": "@jupyter-widgets/base",
          "model_name": "LayoutModel",
          "model_module_version": "1.2.0",
          "state": {
            "_model_module": "@jupyter-widgets/base",
            "_model_module_version": "1.2.0",
            "_model_name": "LayoutModel",
            "_view_count": null,
            "_view_module": "@jupyter-widgets/base",
            "_view_module_version": "1.2.0",
            "_view_name": "LayoutView",
            "align_content": null,
            "align_items": null,
            "align_self": null,
            "border": null,
            "bottom": null,
            "display": null,
            "flex": null,
            "flex_flow": null,
            "grid_area": null,
            "grid_auto_columns": null,
            "grid_auto_flow": null,
            "grid_auto_rows": null,
            "grid_column": null,
            "grid_gap": null,
            "grid_row": null,
            "grid_template_areas": null,
            "grid_template_columns": null,
            "grid_template_rows": null,
            "height": null,
            "justify_content": null,
            "justify_items": null,
            "left": null,
            "margin": null,
            "max_height": null,
            "max_width": null,
            "min_height": null,
            "min_width": null,
            "object_fit": null,
            "object_position": null,
            "order": null,
            "overflow": null,
            "overflow_x": null,
            "overflow_y": null,
            "padding": null,
            "right": null,
            "top": null,
            "visibility": null,
            "width": null
          }
        },
        "e33ffda4f587426983ef025f349f50cd": {
          "model_module": "@jupyter-widgets/controls",
          "model_name": "DescriptionStyleModel",
          "model_module_version": "1.5.0",
          "state": {
            "_model_module": "@jupyter-widgets/controls",
            "_model_module_version": "1.5.0",
            "_model_name": "DescriptionStyleModel",
            "_view_count": null,
            "_view_module": "@jupyter-widgets/base",
            "_view_module_version": "1.2.0",
            "_view_name": "StyleView",
            "description_width": ""
          }
        },
        "33d9879097cb4eec893b5e9eb80a037b": {
          "model_module": "@jupyter-widgets/base",
          "model_name": "LayoutModel",
          "model_module_version": "1.2.0",
          "state": {
            "_model_module": "@jupyter-widgets/base",
            "_model_module_version": "1.2.0",
            "_model_name": "LayoutModel",
            "_view_count": null,
            "_view_module": "@jupyter-widgets/base",
            "_view_module_version": "1.2.0",
            "_view_name": "LayoutView",
            "align_content": null,
            "align_items": null,
            "align_self": null,
            "border": null,
            "bottom": null,
            "display": null,
            "flex": null,
            "flex_flow": null,
            "grid_area": null,
            "grid_auto_columns": null,
            "grid_auto_flow": null,
            "grid_auto_rows": null,
            "grid_column": null,
            "grid_gap": null,
            "grid_row": null,
            "grid_template_areas": null,
            "grid_template_columns": null,
            "grid_template_rows": null,
            "height": null,
            "justify_content": null,
            "justify_items": null,
            "left": null,
            "margin": null,
            "max_height": null,
            "max_width": null,
            "min_height": null,
            "min_width": null,
            "object_fit": null,
            "object_position": null,
            "order": null,
            "overflow": null,
            "overflow_x": null,
            "overflow_y": null,
            "padding": null,
            "right": null,
            "top": null,
            "visibility": null,
            "width": null
          }
        },
        "31a7ddbd2364417680afb274698e410a": {
          "model_module": "@jupyter-widgets/controls",
          "model_name": "ProgressStyleModel",
          "model_module_version": "1.5.0",
          "state": {
            "_model_module": "@jupyter-widgets/controls",
            "_model_module_version": "1.5.0",
            "_model_name": "ProgressStyleModel",
            "_view_count": null,
            "_view_module": "@jupyter-widgets/base",
            "_view_module_version": "1.2.0",
            "_view_name": "StyleView",
            "bar_color": null,
            "description_width": ""
          }
        },
        "e193b0ea9d244f0fa2c292d13c4c5dfa": {
          "model_module": "@jupyter-widgets/base",
          "model_name": "LayoutModel",
          "model_module_version": "1.2.0",
          "state": {
            "_model_module": "@jupyter-widgets/base",
            "_model_module_version": "1.2.0",
            "_model_name": "LayoutModel",
            "_view_count": null,
            "_view_module": "@jupyter-widgets/base",
            "_view_module_version": "1.2.0",
            "_view_name": "LayoutView",
            "align_content": null,
            "align_items": null,
            "align_self": null,
            "border": null,
            "bottom": null,
            "display": null,
            "flex": null,
            "flex_flow": null,
            "grid_area": null,
            "grid_auto_columns": null,
            "grid_auto_flow": null,
            "grid_auto_rows": null,
            "grid_column": null,
            "grid_gap": null,
            "grid_row": null,
            "grid_template_areas": null,
            "grid_template_columns": null,
            "grid_template_rows": null,
            "height": null,
            "justify_content": null,
            "justify_items": null,
            "left": null,
            "margin": null,
            "max_height": null,
            "max_width": null,
            "min_height": null,
            "min_width": null,
            "object_fit": null,
            "object_position": null,
            "order": null,
            "overflow": null,
            "overflow_x": null,
            "overflow_y": null,
            "padding": null,
            "right": null,
            "top": null,
            "visibility": null,
            "width": null
          }
        },
        "139fcbe2d2b24f59a782f692b656729f": {
          "model_module": "@jupyter-widgets/controls",
          "model_name": "DescriptionStyleModel",
          "model_module_version": "1.5.0",
          "state": {
            "_model_module": "@jupyter-widgets/controls",
            "_model_module_version": "1.5.0",
            "_model_name": "DescriptionStyleModel",
            "_view_count": null,
            "_view_module": "@jupyter-widgets/base",
            "_view_module_version": "1.2.0",
            "_view_name": "StyleView",
            "description_width": ""
          }
        },
        "7082ffe1934e4acb9e2e8885559b43eb": {
          "model_module": "@jupyter-widgets/controls",
          "model_name": "HBoxModel",
          "model_module_version": "1.5.0",
          "state": {
            "_dom_classes": [],
            "_model_module": "@jupyter-widgets/controls",
            "_model_module_version": "1.5.0",
            "_model_name": "HBoxModel",
            "_view_count": null,
            "_view_module": "@jupyter-widgets/controls",
            "_view_module_version": "1.5.0",
            "_view_name": "HBoxView",
            "box_style": "",
            "children": [
              "IPY_MODEL_ae285149ac764671a4dc399e918617b5",
              "IPY_MODEL_f4d4f8d264544c9e85f8c9c8e19dd916",
              "IPY_MODEL_044cca7bca2349d5b0e7314a661febfc"
            ],
            "layout": "IPY_MODEL_bd527de1db7649cf82e8a9f2f9046640"
          }
        },
        "ae285149ac764671a4dc399e918617b5": {
          "model_module": "@jupyter-widgets/controls",
          "model_name": "HTMLModel",
          "model_module_version": "1.5.0",
          "state": {
            "_dom_classes": [],
            "_model_module": "@jupyter-widgets/controls",
            "_model_module_version": "1.5.0",
            "_model_name": "HTMLModel",
            "_view_count": null,
            "_view_module": "@jupyter-widgets/controls",
            "_view_module_version": "1.5.0",
            "_view_name": "HTMLView",
            "description": "",
            "description_tooltip": null,
            "layout": "IPY_MODEL_c5a9409ae81e4aad952e288880bd7690",
            "placeholder": "​",
            "style": "IPY_MODEL_7fb9f670cbe745509f2a0769a7a52efe",
            "value": "model.safetensors: 100%"
          }
        },
        "f4d4f8d264544c9e85f8c9c8e19dd916": {
          "model_module": "@jupyter-widgets/controls",
          "model_name": "FloatProgressModel",
          "model_module_version": "1.5.0",
          "state": {
            "_dom_classes": [],
            "_model_module": "@jupyter-widgets/controls",
            "_model_module_version": "1.5.0",
            "_model_name": "FloatProgressModel",
            "_view_count": null,
            "_view_module": "@jupyter-widgets/controls",
            "_view_module_version": "1.5.0",
            "_view_name": "ProgressView",
            "bar_style": "success",
            "description": "",
            "description_tooltip": null,
            "layout": "IPY_MODEL_4636198a5cc44300b5416f054ea200cb",
            "max": 1421700479,
            "min": 0,
            "orientation": "horizontal",
            "style": "IPY_MODEL_d8437a009257464b8f781a6c9c0ff03f",
            "value": 1421700479
          }
        },
        "044cca7bca2349d5b0e7314a661febfc": {
          "model_module": "@jupyter-widgets/controls",
          "model_name": "HTMLModel",
          "model_module_version": "1.5.0",
          "state": {
            "_dom_classes": [],
            "_model_module": "@jupyter-widgets/controls",
            "_model_module_version": "1.5.0",
            "_model_name": "HTMLModel",
            "_view_count": null,
            "_view_module": "@jupyter-widgets/controls",
            "_view_module_version": "1.5.0",
            "_view_name": "HTMLView",
            "description": "",
            "description_tooltip": null,
            "layout": "IPY_MODEL_8a1a2095eefb4520b013156692421c25",
            "placeholder": "​",
            "style": "IPY_MODEL_803b3c61882741da96bd89f32a864823",
            "value": " 1.42G/1.42G [00:18&lt;00:00, 117MB/s]"
          }
        },
        "bd527de1db7649cf82e8a9f2f9046640": {
          "model_module": "@jupyter-widgets/base",
          "model_name": "LayoutModel",
          "model_module_version": "1.2.0",
          "state": {
            "_model_module": "@jupyter-widgets/base",
            "_model_module_version": "1.2.0",
            "_model_name": "LayoutModel",
            "_view_count": null,
            "_view_module": "@jupyter-widgets/base",
            "_view_module_version": "1.2.0",
            "_view_name": "LayoutView",
            "align_content": null,
            "align_items": null,
            "align_self": null,
            "border": null,
            "bottom": null,
            "display": null,
            "flex": null,
            "flex_flow": null,
            "grid_area": null,
            "grid_auto_columns": null,
            "grid_auto_flow": null,
            "grid_auto_rows": null,
            "grid_column": null,
            "grid_gap": null,
            "grid_row": null,
            "grid_template_areas": null,
            "grid_template_columns": null,
            "grid_template_rows": null,
            "height": null,
            "justify_content": null,
            "justify_items": null,
            "left": null,
            "margin": null,
            "max_height": null,
            "max_width": null,
            "min_height": null,
            "min_width": null,
            "object_fit": null,
            "object_position": null,
            "order": null,
            "overflow": null,
            "overflow_x": null,
            "overflow_y": null,
            "padding": null,
            "right": null,
            "top": null,
            "visibility": null,
            "width": null
          }
        },
        "c5a9409ae81e4aad952e288880bd7690": {
          "model_module": "@jupyter-widgets/base",
          "model_name": "LayoutModel",
          "model_module_version": "1.2.0",
          "state": {
            "_model_module": "@jupyter-widgets/base",
            "_model_module_version": "1.2.0",
            "_model_name": "LayoutModel",
            "_view_count": null,
            "_view_module": "@jupyter-widgets/base",
            "_view_module_version": "1.2.0",
            "_view_name": "LayoutView",
            "align_content": null,
            "align_items": null,
            "align_self": null,
            "border": null,
            "bottom": null,
            "display": null,
            "flex": null,
            "flex_flow": null,
            "grid_area": null,
            "grid_auto_columns": null,
            "grid_auto_flow": null,
            "grid_auto_rows": null,
            "grid_column": null,
            "grid_gap": null,
            "grid_row": null,
            "grid_template_areas": null,
            "grid_template_columns": null,
            "grid_template_rows": null,
            "height": null,
            "justify_content": null,
            "justify_items": null,
            "left": null,
            "margin": null,
            "max_height": null,
            "max_width": null,
            "min_height": null,
            "min_width": null,
            "object_fit": null,
            "object_position": null,
            "order": null,
            "overflow": null,
            "overflow_x": null,
            "overflow_y": null,
            "padding": null,
            "right": null,
            "top": null,
            "visibility": null,
            "width": null
          }
        },
        "7fb9f670cbe745509f2a0769a7a52efe": {
          "model_module": "@jupyter-widgets/controls",
          "model_name": "DescriptionStyleModel",
          "model_module_version": "1.5.0",
          "state": {
            "_model_module": "@jupyter-widgets/controls",
            "_model_module_version": "1.5.0",
            "_model_name": "DescriptionStyleModel",
            "_view_count": null,
            "_view_module": "@jupyter-widgets/base",
            "_view_module_version": "1.2.0",
            "_view_name": "StyleView",
            "description_width": ""
          }
        },
        "4636198a5cc44300b5416f054ea200cb": {
          "model_module": "@jupyter-widgets/base",
          "model_name": "LayoutModel",
          "model_module_version": "1.2.0",
          "state": {
            "_model_module": "@jupyter-widgets/base",
            "_model_module_version": "1.2.0",
            "_model_name": "LayoutModel",
            "_view_count": null,
            "_view_module": "@jupyter-widgets/base",
            "_view_module_version": "1.2.0",
            "_view_name": "LayoutView",
            "align_content": null,
            "align_items": null,
            "align_self": null,
            "border": null,
            "bottom": null,
            "display": null,
            "flex": null,
            "flex_flow": null,
            "grid_area": null,
            "grid_auto_columns": null,
            "grid_auto_flow": null,
            "grid_auto_rows": null,
            "grid_column": null,
            "grid_gap": null,
            "grid_row": null,
            "grid_template_areas": null,
            "grid_template_columns": null,
            "grid_template_rows": null,
            "height": null,
            "justify_content": null,
            "justify_items": null,
            "left": null,
            "margin": null,
            "max_height": null,
            "max_width": null,
            "min_height": null,
            "min_width": null,
            "object_fit": null,
            "object_position": null,
            "order": null,
            "overflow": null,
            "overflow_x": null,
            "overflow_y": null,
            "padding": null,
            "right": null,
            "top": null,
            "visibility": null,
            "width": null
          }
        },
        "d8437a009257464b8f781a6c9c0ff03f": {
          "model_module": "@jupyter-widgets/controls",
          "model_name": "ProgressStyleModel",
          "model_module_version": "1.5.0",
          "state": {
            "_model_module": "@jupyter-widgets/controls",
            "_model_module_version": "1.5.0",
            "_model_name": "ProgressStyleModel",
            "_view_count": null,
            "_view_module": "@jupyter-widgets/base",
            "_view_module_version": "1.2.0",
            "_view_name": "StyleView",
            "bar_color": null,
            "description_width": ""
          }
        },
        "8a1a2095eefb4520b013156692421c25": {
          "model_module": "@jupyter-widgets/base",
          "model_name": "LayoutModel",
          "model_module_version": "1.2.0",
          "state": {
            "_model_module": "@jupyter-widgets/base",
            "_model_module_version": "1.2.0",
            "_model_name": "LayoutModel",
            "_view_count": null,
            "_view_module": "@jupyter-widgets/base",
            "_view_module_version": "1.2.0",
            "_view_name": "LayoutView",
            "align_content": null,
            "align_items": null,
            "align_self": null,
            "border": null,
            "bottom": null,
            "display": null,
            "flex": null,
            "flex_flow": null,
            "grid_area": null,
            "grid_auto_columns": null,
            "grid_auto_flow": null,
            "grid_auto_rows": null,
            "grid_column": null,
            "grid_gap": null,
            "grid_row": null,
            "grid_template_areas": null,
            "grid_template_columns": null,
            "grid_template_rows": null,
            "height": null,
            "justify_content": null,
            "justify_items": null,
            "left": null,
            "margin": null,
            "max_height": null,
            "max_width": null,
            "min_height": null,
            "min_width": null,
            "object_fit": null,
            "object_position": null,
            "order": null,
            "overflow": null,
            "overflow_x": null,
            "overflow_y": null,
            "padding": null,
            "right": null,
            "top": null,
            "visibility": null,
            "width": null
          }
        },
        "803b3c61882741da96bd89f32a864823": {
          "model_module": "@jupyter-widgets/controls",
          "model_name": "DescriptionStyleModel",
          "model_module_version": "1.5.0",
          "state": {
            "_model_module": "@jupyter-widgets/controls",
            "_model_module_version": "1.5.0",
            "_model_name": "DescriptionStyleModel",
            "_view_count": null,
            "_view_module": "@jupyter-widgets/base",
            "_view_module_version": "1.2.0",
            "_view_name": "StyleView",
            "description_width": ""
          }
        },
        "ed20fe223aa64022bcab2a0f2d808cb6": {
          "model_module": "@jupyter-widgets/controls",
          "model_name": "HBoxModel",
          "model_module_version": "1.5.0",
          "state": {
            "_dom_classes": [],
            "_model_module": "@jupyter-widgets/controls",
            "_model_module_version": "1.5.0",
            "_model_name": "HBoxModel",
            "_view_count": null,
            "_view_module": "@jupyter-widgets/controls",
            "_view_module_version": "1.5.0",
            "_view_name": "HBoxView",
            "box_style": "",
            "children": [
              "IPY_MODEL_ebcbb42540534dd88833dbad901c50a7",
              "IPY_MODEL_51c14bf161ea4cb783c1d362545a928b",
              "IPY_MODEL_616dced1bdd643a495e11cc663aba1c7"
            ],
            "layout": "IPY_MODEL_1bd56459191c490499574fc58f498c64"
          }
        },
        "ebcbb42540534dd88833dbad901c50a7": {
          "model_module": "@jupyter-widgets/controls",
          "model_name": "HTMLModel",
          "model_module_version": "1.5.0",
          "state": {
            "_dom_classes": [],
            "_model_module": "@jupyter-widgets/controls",
            "_model_module_version": "1.5.0",
            "_model_name": "HTMLModel",
            "_view_count": null,
            "_view_module": "@jupyter-widgets/controls",
            "_view_module_version": "1.5.0",
            "_view_name": "HTMLView",
            "description": "",
            "description_tooltip": null,
            "layout": "IPY_MODEL_a9ea2ffcf22a47709f263371fc88bbd0",
            "placeholder": "​",
            "style": "IPY_MODEL_348b4ea774394ca991415d94da40cb43",
            "value": "config.json: 100%"
          }
        },
        "51c14bf161ea4cb783c1d362545a928b": {
          "model_module": "@jupyter-widgets/controls",
          "model_name": "FloatProgressModel",
          "model_module_version": "1.5.0",
          "state": {
            "_dom_classes": [],
            "_model_module": "@jupyter-widgets/controls",
            "_model_module_version": "1.5.0",
            "_model_name": "FloatProgressModel",
            "_view_count": null,
            "_view_module": "@jupyter-widgets/controls",
            "_view_module_version": "1.5.0",
            "_view_name": "ProgressView",
            "bar_style": "success",
            "description": "",
            "description_tooltip": null,
            "layout": "IPY_MODEL_a81be1b6c9ec4b1289718daba7f69dc8",
            "max": 481,
            "min": 0,
            "orientation": "horizontal",
            "style": "IPY_MODEL_ee4320213d7845ea9732362ac1ec91bb",
            "value": 481
          }
        },
        "616dced1bdd643a495e11cc663aba1c7": {
          "model_module": "@jupyter-widgets/controls",
          "model_name": "HTMLModel",
          "model_module_version": "1.5.0",
          "state": {
            "_dom_classes": [],
            "_model_module": "@jupyter-widgets/controls",
            "_model_module_version": "1.5.0",
            "_model_name": "HTMLModel",
            "_view_count": null,
            "_view_module": "@jupyter-widgets/controls",
            "_view_module_version": "1.5.0",
            "_view_name": "HTMLView",
            "description": "",
            "description_tooltip": null,
            "layout": "IPY_MODEL_433f8bab34804cfc9215d4aae84f7682",
            "placeholder": "​",
            "style": "IPY_MODEL_aaa7337fe63343e79718b45046a5244a",
            "value": " 481/481 [00:00&lt;00:00, 32.0kB/s]"
          }
        },
        "1bd56459191c490499574fc58f498c64": {
          "model_module": "@jupyter-widgets/base",
          "model_name": "LayoutModel",
          "model_module_version": "1.2.0",
          "state": {
            "_model_module": "@jupyter-widgets/base",
            "_model_module_version": "1.2.0",
            "_model_name": "LayoutModel",
            "_view_count": null,
            "_view_module": "@jupyter-widgets/base",
            "_view_module_version": "1.2.0",
            "_view_name": "LayoutView",
            "align_content": null,
            "align_items": null,
            "align_self": null,
            "border": null,
            "bottom": null,
            "display": null,
            "flex": null,
            "flex_flow": null,
            "grid_area": null,
            "grid_auto_columns": null,
            "grid_auto_flow": null,
            "grid_auto_rows": null,
            "grid_column": null,
            "grid_gap": null,
            "grid_row": null,
            "grid_template_areas": null,
            "grid_template_columns": null,
            "grid_template_rows": null,
            "height": null,
            "justify_content": null,
            "justify_items": null,
            "left": null,
            "margin": null,
            "max_height": null,
            "max_width": null,
            "min_height": null,
            "min_width": null,
            "object_fit": null,
            "object_position": null,
            "order": null,
            "overflow": null,
            "overflow_x": null,
            "overflow_y": null,
            "padding": null,
            "right": null,
            "top": null,
            "visibility": null,
            "width": null
          }
        },
        "a9ea2ffcf22a47709f263371fc88bbd0": {
          "model_module": "@jupyter-widgets/base",
          "model_name": "LayoutModel",
          "model_module_version": "1.2.0",
          "state": {
            "_model_module": "@jupyter-widgets/base",
            "_model_module_version": "1.2.0",
            "_model_name": "LayoutModel",
            "_view_count": null,
            "_view_module": "@jupyter-widgets/base",
            "_view_module_version": "1.2.0",
            "_view_name": "LayoutView",
            "align_content": null,
            "align_items": null,
            "align_self": null,
            "border": null,
            "bottom": null,
            "display": null,
            "flex": null,
            "flex_flow": null,
            "grid_area": null,
            "grid_auto_columns": null,
            "grid_auto_flow": null,
            "grid_auto_rows": null,
            "grid_column": null,
            "grid_gap": null,
            "grid_row": null,
            "grid_template_areas": null,
            "grid_template_columns": null,
            "grid_template_rows": null,
            "height": null,
            "justify_content": null,
            "justify_items": null,
            "left": null,
            "margin": null,
            "max_height": null,
            "max_width": null,
            "min_height": null,
            "min_width": null,
            "object_fit": null,
            "object_position": null,
            "order": null,
            "overflow": null,
            "overflow_x": null,
            "overflow_y": null,
            "padding": null,
            "right": null,
            "top": null,
            "visibility": null,
            "width": null
          }
        },
        "348b4ea774394ca991415d94da40cb43": {
          "model_module": "@jupyter-widgets/controls",
          "model_name": "DescriptionStyleModel",
          "model_module_version": "1.5.0",
          "state": {
            "_model_module": "@jupyter-widgets/controls",
            "_model_module_version": "1.5.0",
            "_model_name": "DescriptionStyleModel",
            "_view_count": null,
            "_view_module": "@jupyter-widgets/base",
            "_view_module_version": "1.2.0",
            "_view_name": "StyleView",
            "description_width": ""
          }
        },
        "a81be1b6c9ec4b1289718daba7f69dc8": {
          "model_module": "@jupyter-widgets/base",
          "model_name": "LayoutModel",
          "model_module_version": "1.2.0",
          "state": {
            "_model_module": "@jupyter-widgets/base",
            "_model_module_version": "1.2.0",
            "_model_name": "LayoutModel",
            "_view_count": null,
            "_view_module": "@jupyter-widgets/base",
            "_view_module_version": "1.2.0",
            "_view_name": "LayoutView",
            "align_content": null,
            "align_items": null,
            "align_self": null,
            "border": null,
            "bottom": null,
            "display": null,
            "flex": null,
            "flex_flow": null,
            "grid_area": null,
            "grid_auto_columns": null,
            "grid_auto_flow": null,
            "grid_auto_rows": null,
            "grid_column": null,
            "grid_gap": null,
            "grid_row": null,
            "grid_template_areas": null,
            "grid_template_columns": null,
            "grid_template_rows": null,
            "height": null,
            "justify_content": null,
            "justify_items": null,
            "left": null,
            "margin": null,
            "max_height": null,
            "max_width": null,
            "min_height": null,
            "min_width": null,
            "object_fit": null,
            "object_position": null,
            "order": null,
            "overflow": null,
            "overflow_x": null,
            "overflow_y": null,
            "padding": null,
            "right": null,
            "top": null,
            "visibility": null,
            "width": null
          }
        },
        "ee4320213d7845ea9732362ac1ec91bb": {
          "model_module": "@jupyter-widgets/controls",
          "model_name": "ProgressStyleModel",
          "model_module_version": "1.5.0",
          "state": {
            "_model_module": "@jupyter-widgets/controls",
            "_model_module_version": "1.5.0",
            "_model_name": "ProgressStyleModel",
            "_view_count": null,
            "_view_module": "@jupyter-widgets/base",
            "_view_module_version": "1.2.0",
            "_view_name": "StyleView",
            "bar_color": null,
            "description_width": ""
          }
        },
        "433f8bab34804cfc9215d4aae84f7682": {
          "model_module": "@jupyter-widgets/base",
          "model_name": "LayoutModel",
          "model_module_version": "1.2.0",
          "state": {
            "_model_module": "@jupyter-widgets/base",
            "_model_module_version": "1.2.0",
            "_model_name": "LayoutModel",
            "_view_count": null,
            "_view_module": "@jupyter-widgets/base",
            "_view_module_version": "1.2.0",
            "_view_name": "LayoutView",
            "align_content": null,
            "align_items": null,
            "align_self": null,
            "border": null,
            "bottom": null,
            "display": null,
            "flex": null,
            "flex_flow": null,
            "grid_area": null,
            "grid_auto_columns": null,
            "grid_auto_flow": null,
            "grid_auto_rows": null,
            "grid_column": null,
            "grid_gap": null,
            "grid_row": null,
            "grid_template_areas": null,
            "grid_template_columns": null,
            "grid_template_rows": null,
            "height": null,
            "justify_content": null,
            "justify_items": null,
            "left": null,
            "margin": null,
            "max_height": null,
            "max_width": null,
            "min_height": null,
            "min_width": null,
            "object_fit": null,
            "object_position": null,
            "order": null,
            "overflow": null,
            "overflow_x": null,
            "overflow_y": null,
            "padding": null,
            "right": null,
            "top": null,
            "visibility": null,
            "width": null
          }
        },
        "aaa7337fe63343e79718b45046a5244a": {
          "model_module": "@jupyter-widgets/controls",
          "model_name": "DescriptionStyleModel",
          "model_module_version": "1.5.0",
          "state": {
            "_model_module": "@jupyter-widgets/controls",
            "_model_module_version": "1.5.0",
            "_model_name": "DescriptionStyleModel",
            "_view_count": null,
            "_view_module": "@jupyter-widgets/base",
            "_view_module_version": "1.2.0",
            "_view_name": "StyleView",
            "description_width": ""
          }
        },
        "0ea8917e9ee04219acbf1a72aaa2dcf3": {
          "model_module": "@jupyter-widgets/controls",
          "model_name": "HBoxModel",
          "model_module_version": "1.5.0",
          "state": {
            "_dom_classes": [],
            "_model_module": "@jupyter-widgets/controls",
            "_model_module_version": "1.5.0",
            "_model_name": "HBoxModel",
            "_view_count": null,
            "_view_module": "@jupyter-widgets/controls",
            "_view_module_version": "1.5.0",
            "_view_name": "HBoxView",
            "box_style": "",
            "children": [
              "IPY_MODEL_a57cff9a6db04030b658feacaafc535e",
              "IPY_MODEL_3e61b30e76ff4d55b35142e6bb17f500",
              "IPY_MODEL_a14f4a250cf14dcea013e8ce3c1c98f9"
            ],
            "layout": "IPY_MODEL_95052d04319d4d45ace3581161c34cd3"
          }
        },
        "a57cff9a6db04030b658feacaafc535e": {
          "model_module": "@jupyter-widgets/controls",
          "model_name": "HTMLModel",
          "model_module_version": "1.5.0",
          "state": {
            "_dom_classes": [],
            "_model_module": "@jupyter-widgets/controls",
            "_model_module_version": "1.5.0",
            "_model_name": "HTMLModel",
            "_view_count": null,
            "_view_module": "@jupyter-widgets/controls",
            "_view_module_version": "1.5.0",
            "_view_name": "HTMLView",
            "description": "",
            "description_tooltip": null,
            "layout": "IPY_MODEL_1ca9a7289a46453a81b2c1952c6cb424",
            "placeholder": "​",
            "style": "IPY_MODEL_5138a47de38a41fbbf743efae58c5882",
            "value": "model.safetensors: 100%"
          }
        },
        "3e61b30e76ff4d55b35142e6bb17f500": {
          "model_module": "@jupyter-widgets/controls",
          "model_name": "FloatProgressModel",
          "model_module_version": "1.5.0",
          "state": {
            "_dom_classes": [],
            "_model_module": "@jupyter-widgets/controls",
            "_model_module_version": "1.5.0",
            "_model_name": "FloatProgressModel",
            "_view_count": null,
            "_view_module": "@jupyter-widgets/controls",
            "_view_module_version": "1.5.0",
            "_view_name": "ProgressView",
            "bar_style": "success",
            "description": "",
            "description_tooltip": null,
            "layout": "IPY_MODEL_c54bf1d3255b4ae48689638a7097a42b",
            "max": 498818054,
            "min": 0,
            "orientation": "horizontal",
            "style": "IPY_MODEL_f08e0344b62b4bf99e0394c5dcbff611",
            "value": 498818054
          }
        },
        "a14f4a250cf14dcea013e8ce3c1c98f9": {
          "model_module": "@jupyter-widgets/controls",
          "model_name": "HTMLModel",
          "model_module_version": "1.5.0",
          "state": {
            "_dom_classes": [],
            "_model_module": "@jupyter-widgets/controls",
            "_model_module_version": "1.5.0",
            "_model_name": "HTMLModel",
            "_view_count": null,
            "_view_module": "@jupyter-widgets/controls",
            "_view_module_version": "1.5.0",
            "_view_name": "HTMLView",
            "description": "",
            "description_tooltip": null,
            "layout": "IPY_MODEL_56c73c647d554a79b40498f45cf5b578",
            "placeholder": "​",
            "style": "IPY_MODEL_c9853fa3754d43ba8ab7377278d3a27a",
            "value": " 499M/499M [00:03&lt;00:00, 167MB/s]"
          }
        },
        "95052d04319d4d45ace3581161c34cd3": {
          "model_module": "@jupyter-widgets/base",
          "model_name": "LayoutModel",
          "model_module_version": "1.2.0",
          "state": {
            "_model_module": "@jupyter-widgets/base",
            "_model_module_version": "1.2.0",
            "_model_name": "LayoutModel",
            "_view_count": null,
            "_view_module": "@jupyter-widgets/base",
            "_view_module_version": "1.2.0",
            "_view_name": "LayoutView",
            "align_content": null,
            "align_items": null,
            "align_self": null,
            "border": null,
            "bottom": null,
            "display": null,
            "flex": null,
            "flex_flow": null,
            "grid_area": null,
            "grid_auto_columns": null,
            "grid_auto_flow": null,
            "grid_auto_rows": null,
            "grid_column": null,
            "grid_gap": null,
            "grid_row": null,
            "grid_template_areas": null,
            "grid_template_columns": null,
            "grid_template_rows": null,
            "height": null,
            "justify_content": null,
            "justify_items": null,
            "left": null,
            "margin": null,
            "max_height": null,
            "max_width": null,
            "min_height": null,
            "min_width": null,
            "object_fit": null,
            "object_position": null,
            "order": null,
            "overflow": null,
            "overflow_x": null,
            "overflow_y": null,
            "padding": null,
            "right": null,
            "top": null,
            "visibility": null,
            "width": null
          }
        },
        "1ca9a7289a46453a81b2c1952c6cb424": {
          "model_module": "@jupyter-widgets/base",
          "model_name": "LayoutModel",
          "model_module_version": "1.2.0",
          "state": {
            "_model_module": "@jupyter-widgets/base",
            "_model_module_version": "1.2.0",
            "_model_name": "LayoutModel",
            "_view_count": null,
            "_view_module": "@jupyter-widgets/base",
            "_view_module_version": "1.2.0",
            "_view_name": "LayoutView",
            "align_content": null,
            "align_items": null,
            "align_self": null,
            "border": null,
            "bottom": null,
            "display": null,
            "flex": null,
            "flex_flow": null,
            "grid_area": null,
            "grid_auto_columns": null,
            "grid_auto_flow": null,
            "grid_auto_rows": null,
            "grid_column": null,
            "grid_gap": null,
            "grid_row": null,
            "grid_template_areas": null,
            "grid_template_columns": null,
            "grid_template_rows": null,
            "height": null,
            "justify_content": null,
            "justify_items": null,
            "left": null,
            "margin": null,
            "max_height": null,
            "max_width": null,
            "min_height": null,
            "min_width": null,
            "object_fit": null,
            "object_position": null,
            "order": null,
            "overflow": null,
            "overflow_x": null,
            "overflow_y": null,
            "padding": null,
            "right": null,
            "top": null,
            "visibility": null,
            "width": null
          }
        },
        "5138a47de38a41fbbf743efae58c5882": {
          "model_module": "@jupyter-widgets/controls",
          "model_name": "DescriptionStyleModel",
          "model_module_version": "1.5.0",
          "state": {
            "_model_module": "@jupyter-widgets/controls",
            "_model_module_version": "1.5.0",
            "_model_name": "DescriptionStyleModel",
            "_view_count": null,
            "_view_module": "@jupyter-widgets/base",
            "_view_module_version": "1.2.0",
            "_view_name": "StyleView",
            "description_width": ""
          }
        },
        "c54bf1d3255b4ae48689638a7097a42b": {
          "model_module": "@jupyter-widgets/base",
          "model_name": "LayoutModel",
          "model_module_version": "1.2.0",
          "state": {
            "_model_module": "@jupyter-widgets/base",
            "_model_module_version": "1.2.0",
            "_model_name": "LayoutModel",
            "_view_count": null,
            "_view_module": "@jupyter-widgets/base",
            "_view_module_version": "1.2.0",
            "_view_name": "LayoutView",
            "align_content": null,
            "align_items": null,
            "align_self": null,
            "border": null,
            "bottom": null,
            "display": null,
            "flex": null,
            "flex_flow": null,
            "grid_area": null,
            "grid_auto_columns": null,
            "grid_auto_flow": null,
            "grid_auto_rows": null,
            "grid_column": null,
            "grid_gap": null,
            "grid_row": null,
            "grid_template_areas": null,
            "grid_template_columns": null,
            "grid_template_rows": null,
            "height": null,
            "justify_content": null,
            "justify_items": null,
            "left": null,
            "margin": null,
            "max_height": null,
            "max_width": null,
            "min_height": null,
            "min_width": null,
            "object_fit": null,
            "object_position": null,
            "order": null,
            "overflow": null,
            "overflow_x": null,
            "overflow_y": null,
            "padding": null,
            "right": null,
            "top": null,
            "visibility": null,
            "width": null
          }
        },
        "f08e0344b62b4bf99e0394c5dcbff611": {
          "model_module": "@jupyter-widgets/controls",
          "model_name": "ProgressStyleModel",
          "model_module_version": "1.5.0",
          "state": {
            "_model_module": "@jupyter-widgets/controls",
            "_model_module_version": "1.5.0",
            "_model_name": "ProgressStyleModel",
            "_view_count": null,
            "_view_module": "@jupyter-widgets/base",
            "_view_module_version": "1.2.0",
            "_view_name": "StyleView",
            "bar_color": null,
            "description_width": ""
          }
        },
        "56c73c647d554a79b40498f45cf5b578": {
          "model_module": "@jupyter-widgets/base",
          "model_name": "LayoutModel",
          "model_module_version": "1.2.0",
          "state": {
            "_model_module": "@jupyter-widgets/base",
            "_model_module_version": "1.2.0",
            "_model_name": "LayoutModel",
            "_view_count": null,
            "_view_module": "@jupyter-widgets/base",
            "_view_module_version": "1.2.0",
            "_view_name": "LayoutView",
            "align_content": null,
            "align_items": null,
            "align_self": null,
            "border": null,
            "bottom": null,
            "display": null,
            "flex": null,
            "flex_flow": null,
            "grid_area": null,
            "grid_auto_columns": null,
            "grid_auto_flow": null,
            "grid_auto_rows": null,
            "grid_column": null,
            "grid_gap": null,
            "grid_row": null,
            "grid_template_areas": null,
            "grid_template_columns": null,
            "grid_template_rows": null,
            "height": null,
            "justify_content": null,
            "justify_items": null,
            "left": null,
            "margin": null,
            "max_height": null,
            "max_width": null,
            "min_height": null,
            "min_width": null,
            "object_fit": null,
            "object_position": null,
            "order": null,
            "overflow": null,
            "overflow_x": null,
            "overflow_y": null,
            "padding": null,
            "right": null,
            "top": null,
            "visibility": null,
            "width": null
          }
        },
        "c9853fa3754d43ba8ab7377278d3a27a": {
          "model_module": "@jupyter-widgets/controls",
          "model_name": "DescriptionStyleModel",
          "model_module_version": "1.5.0",
          "state": {
            "_model_module": "@jupyter-widgets/controls",
            "_model_module_version": "1.5.0",
            "_model_name": "DescriptionStyleModel",
            "_view_count": null,
            "_view_module": "@jupyter-widgets/base",
            "_view_module_version": "1.2.0",
            "_view_name": "StyleView",
            "description_width": ""
          }
        },
        "575c735988b942cfa64d9a79ab55da5e": {
          "model_module": "@jupyter-widgets/controls",
          "model_name": "HBoxModel",
          "model_module_version": "1.5.0",
          "state": {
            "_dom_classes": [],
            "_model_module": "@jupyter-widgets/controls",
            "_model_module_version": "1.5.0",
            "_model_name": "HBoxModel",
            "_view_count": null,
            "_view_module": "@jupyter-widgets/controls",
            "_view_module_version": "1.5.0",
            "_view_name": "HBoxView",
            "box_style": "",
            "children": [
              "IPY_MODEL_215624c5c2784db894aea4e0c20278d1",
              "IPY_MODEL_97b3ce95190a49b5b8538dd0f84acf5e",
              "IPY_MODEL_3a82c8a2b6de4aafb9ce6123bd81c85d"
            ],
            "layout": "IPY_MODEL_ad5e429ea27f4dcca28207cf914c3440"
          }
        },
        "215624c5c2784db894aea4e0c20278d1": {
          "model_module": "@jupyter-widgets/controls",
          "model_name": "HTMLModel",
          "model_module_version": "1.5.0",
          "state": {
            "_dom_classes": [],
            "_model_module": "@jupyter-widgets/controls",
            "_model_module_version": "1.5.0",
            "_model_name": "HTMLModel",
            "_view_count": null,
            "_view_module": "@jupyter-widgets/controls",
            "_view_module_version": "1.5.0",
            "_view_name": "HTMLView",
            "description": "",
            "description_tooltip": null,
            "layout": "IPY_MODEL_83fb9e7575bf4e09ba63a90e44ec3be9",
            "placeholder": "​",
            "style": "IPY_MODEL_35ada48d89354a60a8b7e3d71215bdde",
            "value": "tokenizer_config.json: 100%"
          }
        },
        "97b3ce95190a49b5b8538dd0f84acf5e": {
          "model_module": "@jupyter-widgets/controls",
          "model_name": "FloatProgressModel",
          "model_module_version": "1.5.0",
          "state": {
            "_dom_classes": [],
            "_model_module": "@jupyter-widgets/controls",
            "_model_module_version": "1.5.0",
            "_model_name": "FloatProgressModel",
            "_view_count": null,
            "_view_module": "@jupyter-widgets/controls",
            "_view_module_version": "1.5.0",
            "_view_name": "ProgressView",
            "bar_style": "success",
            "description": "",
            "description_tooltip": null,
            "layout": "IPY_MODEL_00b435a72f6b4eacb3d47cab994baad8",
            "max": 25,
            "min": 0,
            "orientation": "horizontal",
            "style": "IPY_MODEL_6102f72141c3404797ed72676764748c",
            "value": 25
          }
        },
        "3a82c8a2b6de4aafb9ce6123bd81c85d": {
          "model_module": "@jupyter-widgets/controls",
          "model_name": "HTMLModel",
          "model_module_version": "1.5.0",
          "state": {
            "_dom_classes": [],
            "_model_module": "@jupyter-widgets/controls",
            "_model_module_version": "1.5.0",
            "_model_name": "HTMLModel",
            "_view_count": null,
            "_view_module": "@jupyter-widgets/controls",
            "_view_module_version": "1.5.0",
            "_view_name": "HTMLView",
            "description": "",
            "description_tooltip": null,
            "layout": "IPY_MODEL_5265ebdfda71450a8eba7a234205cf1d",
            "placeholder": "​",
            "style": "IPY_MODEL_8b3c8157315c47a1b9d9af11c1b8a5bf",
            "value": " 25.0/25.0 [00:00&lt;00:00, 1.46kB/s]"
          }
        },
        "ad5e429ea27f4dcca28207cf914c3440": {
          "model_module": "@jupyter-widgets/base",
          "model_name": "LayoutModel",
          "model_module_version": "1.2.0",
          "state": {
            "_model_module": "@jupyter-widgets/base",
            "_model_module_version": "1.2.0",
            "_model_name": "LayoutModel",
            "_view_count": null,
            "_view_module": "@jupyter-widgets/base",
            "_view_module_version": "1.2.0",
            "_view_name": "LayoutView",
            "align_content": null,
            "align_items": null,
            "align_self": null,
            "border": null,
            "bottom": null,
            "display": null,
            "flex": null,
            "flex_flow": null,
            "grid_area": null,
            "grid_auto_columns": null,
            "grid_auto_flow": null,
            "grid_auto_rows": null,
            "grid_column": null,
            "grid_gap": null,
            "grid_row": null,
            "grid_template_areas": null,
            "grid_template_columns": null,
            "grid_template_rows": null,
            "height": null,
            "justify_content": null,
            "justify_items": null,
            "left": null,
            "margin": null,
            "max_height": null,
            "max_width": null,
            "min_height": null,
            "min_width": null,
            "object_fit": null,
            "object_position": null,
            "order": null,
            "overflow": null,
            "overflow_x": null,
            "overflow_y": null,
            "padding": null,
            "right": null,
            "top": null,
            "visibility": null,
            "width": null
          }
        },
        "83fb9e7575bf4e09ba63a90e44ec3be9": {
          "model_module": "@jupyter-widgets/base",
          "model_name": "LayoutModel",
          "model_module_version": "1.2.0",
          "state": {
            "_model_module": "@jupyter-widgets/base",
            "_model_module_version": "1.2.0",
            "_model_name": "LayoutModel",
            "_view_count": null,
            "_view_module": "@jupyter-widgets/base",
            "_view_module_version": "1.2.0",
            "_view_name": "LayoutView",
            "align_content": null,
            "align_items": null,
            "align_self": null,
            "border": null,
            "bottom": null,
            "display": null,
            "flex": null,
            "flex_flow": null,
            "grid_area": null,
            "grid_auto_columns": null,
            "grid_auto_flow": null,
            "grid_auto_rows": null,
            "grid_column": null,
            "grid_gap": null,
            "grid_row": null,
            "grid_template_areas": null,
            "grid_template_columns": null,
            "grid_template_rows": null,
            "height": null,
            "justify_content": null,
            "justify_items": null,
            "left": null,
            "margin": null,
            "max_height": null,
            "max_width": null,
            "min_height": null,
            "min_width": null,
            "object_fit": null,
            "object_position": null,
            "order": null,
            "overflow": null,
            "overflow_x": null,
            "overflow_y": null,
            "padding": null,
            "right": null,
            "top": null,
            "visibility": null,
            "width": null
          }
        },
        "35ada48d89354a60a8b7e3d71215bdde": {
          "model_module": "@jupyter-widgets/controls",
          "model_name": "DescriptionStyleModel",
          "model_module_version": "1.5.0",
          "state": {
            "_model_module": "@jupyter-widgets/controls",
            "_model_module_version": "1.5.0",
            "_model_name": "DescriptionStyleModel",
            "_view_count": null,
            "_view_module": "@jupyter-widgets/base",
            "_view_module_version": "1.2.0",
            "_view_name": "StyleView",
            "description_width": ""
          }
        },
        "00b435a72f6b4eacb3d47cab994baad8": {
          "model_module": "@jupyter-widgets/base",
          "model_name": "LayoutModel",
          "model_module_version": "1.2.0",
          "state": {
            "_model_module": "@jupyter-widgets/base",
            "_model_module_version": "1.2.0",
            "_model_name": "LayoutModel",
            "_view_count": null,
            "_view_module": "@jupyter-widgets/base",
            "_view_module_version": "1.2.0",
            "_view_name": "LayoutView",
            "align_content": null,
            "align_items": null,
            "align_self": null,
            "border": null,
            "bottom": null,
            "display": null,
            "flex": null,
            "flex_flow": null,
            "grid_area": null,
            "grid_auto_columns": null,
            "grid_auto_flow": null,
            "grid_auto_rows": null,
            "grid_column": null,
            "grid_gap": null,
            "grid_row": null,
            "grid_template_areas": null,
            "grid_template_columns": null,
            "grid_template_rows": null,
            "height": null,
            "justify_content": null,
            "justify_items": null,
            "left": null,
            "margin": null,
            "max_height": null,
            "max_width": null,
            "min_height": null,
            "min_width": null,
            "object_fit": null,
            "object_position": null,
            "order": null,
            "overflow": null,
            "overflow_x": null,
            "overflow_y": null,
            "padding": null,
            "right": null,
            "top": null,
            "visibility": null,
            "width": null
          }
        },
        "6102f72141c3404797ed72676764748c": {
          "model_module": "@jupyter-widgets/controls",
          "model_name": "ProgressStyleModel",
          "model_module_version": "1.5.0",
          "state": {
            "_model_module": "@jupyter-widgets/controls",
            "_model_module_version": "1.5.0",
            "_model_name": "ProgressStyleModel",
            "_view_count": null,
            "_view_module": "@jupyter-widgets/base",
            "_view_module_version": "1.2.0",
            "_view_name": "StyleView",
            "bar_color": null,
            "description_width": ""
          }
        },
        "5265ebdfda71450a8eba7a234205cf1d": {
          "model_module": "@jupyter-widgets/base",
          "model_name": "LayoutModel",
          "model_module_version": "1.2.0",
          "state": {
            "_model_module": "@jupyter-widgets/base",
            "_model_module_version": "1.2.0",
            "_model_name": "LayoutModel",
            "_view_count": null,
            "_view_module": "@jupyter-widgets/base",
            "_view_module_version": "1.2.0",
            "_view_name": "LayoutView",
            "align_content": null,
            "align_items": null,
            "align_self": null,
            "border": null,
            "bottom": null,
            "display": null,
            "flex": null,
            "flex_flow": null,
            "grid_area": null,
            "grid_auto_columns": null,
            "grid_auto_flow": null,
            "grid_auto_rows": null,
            "grid_column": null,
            "grid_gap": null,
            "grid_row": null,
            "grid_template_areas": null,
            "grid_template_columns": null,
            "grid_template_rows": null,
            "height": null,
            "justify_content": null,
            "justify_items": null,
            "left": null,
            "margin": null,
            "max_height": null,
            "max_width": null,
            "min_height": null,
            "min_width": null,
            "object_fit": null,
            "object_position": null,
            "order": null,
            "overflow": null,
            "overflow_x": null,
            "overflow_y": null,
            "padding": null,
            "right": null,
            "top": null,
            "visibility": null,
            "width": null
          }
        },
        "8b3c8157315c47a1b9d9af11c1b8a5bf": {
          "model_module": "@jupyter-widgets/controls",
          "model_name": "DescriptionStyleModel",
          "model_module_version": "1.5.0",
          "state": {
            "_model_module": "@jupyter-widgets/controls",
            "_model_module_version": "1.5.0",
            "_model_name": "DescriptionStyleModel",
            "_view_count": null,
            "_view_module": "@jupyter-widgets/base",
            "_view_module_version": "1.2.0",
            "_view_name": "StyleView",
            "description_width": ""
          }
        },
        "403bfc0c979949ebb93d0e67c48285c0": {
          "model_module": "@jupyter-widgets/controls",
          "model_name": "HBoxModel",
          "model_module_version": "1.5.0",
          "state": {
            "_dom_classes": [],
            "_model_module": "@jupyter-widgets/controls",
            "_model_module_version": "1.5.0",
            "_model_name": "HBoxModel",
            "_view_count": null,
            "_view_module": "@jupyter-widgets/controls",
            "_view_module_version": "1.5.0",
            "_view_name": "HBoxView",
            "box_style": "",
            "children": [
              "IPY_MODEL_6cee11717c4a426dadebaa161927ea9e",
              "IPY_MODEL_74090536bc7548d39fde2409c61e651a",
              "IPY_MODEL_dd335b8a8a994a98ae436fab74a58d51"
            ],
            "layout": "IPY_MODEL_59c9cceabe864c39be95dfe1ae4d0dfe"
          }
        },
        "6cee11717c4a426dadebaa161927ea9e": {
          "model_module": "@jupyter-widgets/controls",
          "model_name": "HTMLModel",
          "model_module_version": "1.5.0",
          "state": {
            "_dom_classes": [],
            "_model_module": "@jupyter-widgets/controls",
            "_model_module_version": "1.5.0",
            "_model_name": "HTMLModel",
            "_view_count": null,
            "_view_module": "@jupyter-widgets/controls",
            "_view_module_version": "1.5.0",
            "_view_name": "HTMLView",
            "description": "",
            "description_tooltip": null,
            "layout": "IPY_MODEL_46b452b78f464d32926cabf3a5e25736",
            "placeholder": "​",
            "style": "IPY_MODEL_8c20b59cb9224719ab0af48ed6f22f5d",
            "value": "vocab.json: 100%"
          }
        },
        "74090536bc7548d39fde2409c61e651a": {
          "model_module": "@jupyter-widgets/controls",
          "model_name": "FloatProgressModel",
          "model_module_version": "1.5.0",
          "state": {
            "_dom_classes": [],
            "_model_module": "@jupyter-widgets/controls",
            "_model_module_version": "1.5.0",
            "_model_name": "FloatProgressModel",
            "_view_count": null,
            "_view_module": "@jupyter-widgets/controls",
            "_view_module_version": "1.5.0",
            "_view_name": "ProgressView",
            "bar_style": "success",
            "description": "",
            "description_tooltip": null,
            "layout": "IPY_MODEL_939b31d9162a40d2b187839961f38e78",
            "max": 898823,
            "min": 0,
            "orientation": "horizontal",
            "style": "IPY_MODEL_c45de9e2c265462686ee684085f7e645",
            "value": 898823
          }
        },
        "dd335b8a8a994a98ae436fab74a58d51": {
          "model_module": "@jupyter-widgets/controls",
          "model_name": "HTMLModel",
          "model_module_version": "1.5.0",
          "state": {
            "_dom_classes": [],
            "_model_module": "@jupyter-widgets/controls",
            "_model_module_version": "1.5.0",
            "_model_name": "HTMLModel",
            "_view_count": null,
            "_view_module": "@jupyter-widgets/controls",
            "_view_module_version": "1.5.0",
            "_view_name": "HTMLView",
            "description": "",
            "description_tooltip": null,
            "layout": "IPY_MODEL_c6612d0c3b6d4daa87378edfe8cb95a2",
            "placeholder": "​",
            "style": "IPY_MODEL_c78cea1366bd46a3abab6fe313dd7a40",
            "value": " 899k/899k [00:00&lt;00:00, 12.2MB/s]"
          }
        },
        "59c9cceabe864c39be95dfe1ae4d0dfe": {
          "model_module": "@jupyter-widgets/base",
          "model_name": "LayoutModel",
          "model_module_version": "1.2.0",
          "state": {
            "_model_module": "@jupyter-widgets/base",
            "_model_module_version": "1.2.0",
            "_model_name": "LayoutModel",
            "_view_count": null,
            "_view_module": "@jupyter-widgets/base",
            "_view_module_version": "1.2.0",
            "_view_name": "LayoutView",
            "align_content": null,
            "align_items": null,
            "align_self": null,
            "border": null,
            "bottom": null,
            "display": null,
            "flex": null,
            "flex_flow": null,
            "grid_area": null,
            "grid_auto_columns": null,
            "grid_auto_flow": null,
            "grid_auto_rows": null,
            "grid_column": null,
            "grid_gap": null,
            "grid_row": null,
            "grid_template_areas": null,
            "grid_template_columns": null,
            "grid_template_rows": null,
            "height": null,
            "justify_content": null,
            "justify_items": null,
            "left": null,
            "margin": null,
            "max_height": null,
            "max_width": null,
            "min_height": null,
            "min_width": null,
            "object_fit": null,
            "object_position": null,
            "order": null,
            "overflow": null,
            "overflow_x": null,
            "overflow_y": null,
            "padding": null,
            "right": null,
            "top": null,
            "visibility": null,
            "width": null
          }
        },
        "46b452b78f464d32926cabf3a5e25736": {
          "model_module": "@jupyter-widgets/base",
          "model_name": "LayoutModel",
          "model_module_version": "1.2.0",
          "state": {
            "_model_module": "@jupyter-widgets/base",
            "_model_module_version": "1.2.0",
            "_model_name": "LayoutModel",
            "_view_count": null,
            "_view_module": "@jupyter-widgets/base",
            "_view_module_version": "1.2.0",
            "_view_name": "LayoutView",
            "align_content": null,
            "align_items": null,
            "align_self": null,
            "border": null,
            "bottom": null,
            "display": null,
            "flex": null,
            "flex_flow": null,
            "grid_area": null,
            "grid_auto_columns": null,
            "grid_auto_flow": null,
            "grid_auto_rows": null,
            "grid_column": null,
            "grid_gap": null,
            "grid_row": null,
            "grid_template_areas": null,
            "grid_template_columns": null,
            "grid_template_rows": null,
            "height": null,
            "justify_content": null,
            "justify_items": null,
            "left": null,
            "margin": null,
            "max_height": null,
            "max_width": null,
            "min_height": null,
            "min_width": null,
            "object_fit": null,
            "object_position": null,
            "order": null,
            "overflow": null,
            "overflow_x": null,
            "overflow_y": null,
            "padding": null,
            "right": null,
            "top": null,
            "visibility": null,
            "width": null
          }
        },
        "8c20b59cb9224719ab0af48ed6f22f5d": {
          "model_module": "@jupyter-widgets/controls",
          "model_name": "DescriptionStyleModel",
          "model_module_version": "1.5.0",
          "state": {
            "_model_module": "@jupyter-widgets/controls",
            "_model_module_version": "1.5.0",
            "_model_name": "DescriptionStyleModel",
            "_view_count": null,
            "_view_module": "@jupyter-widgets/base",
            "_view_module_version": "1.2.0",
            "_view_name": "StyleView",
            "description_width": ""
          }
        },
        "939b31d9162a40d2b187839961f38e78": {
          "model_module": "@jupyter-widgets/base",
          "model_name": "LayoutModel",
          "model_module_version": "1.2.0",
          "state": {
            "_model_module": "@jupyter-widgets/base",
            "_model_module_version": "1.2.0",
            "_model_name": "LayoutModel",
            "_view_count": null,
            "_view_module": "@jupyter-widgets/base",
            "_view_module_version": "1.2.0",
            "_view_name": "LayoutView",
            "align_content": null,
            "align_items": null,
            "align_self": null,
            "border": null,
            "bottom": null,
            "display": null,
            "flex": null,
            "flex_flow": null,
            "grid_area": null,
            "grid_auto_columns": null,
            "grid_auto_flow": null,
            "grid_auto_rows": null,
            "grid_column": null,
            "grid_gap": null,
            "grid_row": null,
            "grid_template_areas": null,
            "grid_template_columns": null,
            "grid_template_rows": null,
            "height": null,
            "justify_content": null,
            "justify_items": null,
            "left": null,
            "margin": null,
            "max_height": null,
            "max_width": null,
            "min_height": null,
            "min_width": null,
            "object_fit": null,
            "object_position": null,
            "order": null,
            "overflow": null,
            "overflow_x": null,
            "overflow_y": null,
            "padding": null,
            "right": null,
            "top": null,
            "visibility": null,
            "width": null
          }
        },
        "c45de9e2c265462686ee684085f7e645": {
          "model_module": "@jupyter-widgets/controls",
          "model_name": "ProgressStyleModel",
          "model_module_version": "1.5.0",
          "state": {
            "_model_module": "@jupyter-widgets/controls",
            "_model_module_version": "1.5.0",
            "_model_name": "ProgressStyleModel",
            "_view_count": null,
            "_view_module": "@jupyter-widgets/base",
            "_view_module_version": "1.2.0",
            "_view_name": "StyleView",
            "bar_color": null,
            "description_width": ""
          }
        },
        "c6612d0c3b6d4daa87378edfe8cb95a2": {
          "model_module": "@jupyter-widgets/base",
          "model_name": "LayoutModel",
          "model_module_version": "1.2.0",
          "state": {
            "_model_module": "@jupyter-widgets/base",
            "_model_module_version": "1.2.0",
            "_model_name": "LayoutModel",
            "_view_count": null,
            "_view_module": "@jupyter-widgets/base",
            "_view_module_version": "1.2.0",
            "_view_name": "LayoutView",
            "align_content": null,
            "align_items": null,
            "align_self": null,
            "border": null,
            "bottom": null,
            "display": null,
            "flex": null,
            "flex_flow": null,
            "grid_area": null,
            "grid_auto_columns": null,
            "grid_auto_flow": null,
            "grid_auto_rows": null,
            "grid_column": null,
            "grid_gap": null,
            "grid_row": null,
            "grid_template_areas": null,
            "grid_template_columns": null,
            "grid_template_rows": null,
            "height": null,
            "justify_content": null,
            "justify_items": null,
            "left": null,
            "margin": null,
            "max_height": null,
            "max_width": null,
            "min_height": null,
            "min_width": null,
            "object_fit": null,
            "object_position": null,
            "order": null,
            "overflow": null,
            "overflow_x": null,
            "overflow_y": null,
            "padding": null,
            "right": null,
            "top": null,
            "visibility": null,
            "width": null
          }
        },
        "c78cea1366bd46a3abab6fe313dd7a40": {
          "model_module": "@jupyter-widgets/controls",
          "model_name": "DescriptionStyleModel",
          "model_module_version": "1.5.0",
          "state": {
            "_model_module": "@jupyter-widgets/controls",
            "_model_module_version": "1.5.0",
            "_model_name": "DescriptionStyleModel",
            "_view_count": null,
            "_view_module": "@jupyter-widgets/base",
            "_view_module_version": "1.2.0",
            "_view_name": "StyleView",
            "description_width": ""
          }
        },
        "f511291da85e4d73a03f5122ab0a0e13": {
          "model_module": "@jupyter-widgets/controls",
          "model_name": "HBoxModel",
          "model_module_version": "1.5.0",
          "state": {
            "_dom_classes": [],
            "_model_module": "@jupyter-widgets/controls",
            "_model_module_version": "1.5.0",
            "_model_name": "HBoxModel",
            "_view_count": null,
            "_view_module": "@jupyter-widgets/controls",
            "_view_module_version": "1.5.0",
            "_view_name": "HBoxView",
            "box_style": "",
            "children": [
              "IPY_MODEL_38c1c8ee1ee7476183e808f9ffc96dd8",
              "IPY_MODEL_f21251a6753347e0a306f2ef0e92c3ad",
              "IPY_MODEL_45c08a9e9ca44922892c85d6ec297a92"
            ],
            "layout": "IPY_MODEL_1b09875dd6bd47cdb7ccadd9ebc20f16"
          }
        },
        "38c1c8ee1ee7476183e808f9ffc96dd8": {
          "model_module": "@jupyter-widgets/controls",
          "model_name": "HTMLModel",
          "model_module_version": "1.5.0",
          "state": {
            "_dom_classes": [],
            "_model_module": "@jupyter-widgets/controls",
            "_model_module_version": "1.5.0",
            "_model_name": "HTMLModel",
            "_view_count": null,
            "_view_module": "@jupyter-widgets/controls",
            "_view_module_version": "1.5.0",
            "_view_name": "HTMLView",
            "description": "",
            "description_tooltip": null,
            "layout": "IPY_MODEL_f8f5ff9fdb364409aa8f5466bca17b72",
            "placeholder": "​",
            "style": "IPY_MODEL_f26412790dff4028827071b6b2b6d931",
            "value": "merges.txt: 100%"
          }
        },
        "f21251a6753347e0a306f2ef0e92c3ad": {
          "model_module": "@jupyter-widgets/controls",
          "model_name": "FloatProgressModel",
          "model_module_version": "1.5.0",
          "state": {
            "_dom_classes": [],
            "_model_module": "@jupyter-widgets/controls",
            "_model_module_version": "1.5.0",
            "_model_name": "FloatProgressModel",
            "_view_count": null,
            "_view_module": "@jupyter-widgets/controls",
            "_view_module_version": "1.5.0",
            "_view_name": "ProgressView",
            "bar_style": "success",
            "description": "",
            "description_tooltip": null,
            "layout": "IPY_MODEL_4273a1efcc6a4585ba2ce2b4f7613dbb",
            "max": 456318,
            "min": 0,
            "orientation": "horizontal",
            "style": "IPY_MODEL_e39593da53c1486dbaf1cd445c65ffa8",
            "value": 456318
          }
        },
        "45c08a9e9ca44922892c85d6ec297a92": {
          "model_module": "@jupyter-widgets/controls",
          "model_name": "HTMLModel",
          "model_module_version": "1.5.0",
          "state": {
            "_dom_classes": [],
            "_model_module": "@jupyter-widgets/controls",
            "_model_module_version": "1.5.0",
            "_model_name": "HTMLModel",
            "_view_count": null,
            "_view_module": "@jupyter-widgets/controls",
            "_view_module_version": "1.5.0",
            "_view_name": "HTMLView",
            "description": "",
            "description_tooltip": null,
            "layout": "IPY_MODEL_fa4a517b6aec459d813bf6aada2c9274",
            "placeholder": "​",
            "style": "IPY_MODEL_5d5418ebe6a446ebaa43421c2296b1ca",
            "value": " 456k/456k [00:00&lt;00:00, 6.25MB/s]"
          }
        },
        "1b09875dd6bd47cdb7ccadd9ebc20f16": {
          "model_module": "@jupyter-widgets/base",
          "model_name": "LayoutModel",
          "model_module_version": "1.2.0",
          "state": {
            "_model_module": "@jupyter-widgets/base",
            "_model_module_version": "1.2.0",
            "_model_name": "LayoutModel",
            "_view_count": null,
            "_view_module": "@jupyter-widgets/base",
            "_view_module_version": "1.2.0",
            "_view_name": "LayoutView",
            "align_content": null,
            "align_items": null,
            "align_self": null,
            "border": null,
            "bottom": null,
            "display": null,
            "flex": null,
            "flex_flow": null,
            "grid_area": null,
            "grid_auto_columns": null,
            "grid_auto_flow": null,
            "grid_auto_rows": null,
            "grid_column": null,
            "grid_gap": null,
            "grid_row": null,
            "grid_template_areas": null,
            "grid_template_columns": null,
            "grid_template_rows": null,
            "height": null,
            "justify_content": null,
            "justify_items": null,
            "left": null,
            "margin": null,
            "max_height": null,
            "max_width": null,
            "min_height": null,
            "min_width": null,
            "object_fit": null,
            "object_position": null,
            "order": null,
            "overflow": null,
            "overflow_x": null,
            "overflow_y": null,
            "padding": null,
            "right": null,
            "top": null,
            "visibility": null,
            "width": null
          }
        },
        "f8f5ff9fdb364409aa8f5466bca17b72": {
          "model_module": "@jupyter-widgets/base",
          "model_name": "LayoutModel",
          "model_module_version": "1.2.0",
          "state": {
            "_model_module": "@jupyter-widgets/base",
            "_model_module_version": "1.2.0",
            "_model_name": "LayoutModel",
            "_view_count": null,
            "_view_module": "@jupyter-widgets/base",
            "_view_module_version": "1.2.0",
            "_view_name": "LayoutView",
            "align_content": null,
            "align_items": null,
            "align_self": null,
            "border": null,
            "bottom": null,
            "display": null,
            "flex": null,
            "flex_flow": null,
            "grid_area": null,
            "grid_auto_columns": null,
            "grid_auto_flow": null,
            "grid_auto_rows": null,
            "grid_column": null,
            "grid_gap": null,
            "grid_row": null,
            "grid_template_areas": null,
            "grid_template_columns": null,
            "grid_template_rows": null,
            "height": null,
            "justify_content": null,
            "justify_items": null,
            "left": null,
            "margin": null,
            "max_height": null,
            "max_width": null,
            "min_height": null,
            "min_width": null,
            "object_fit": null,
            "object_position": null,
            "order": null,
            "overflow": null,
            "overflow_x": null,
            "overflow_y": null,
            "padding": null,
            "right": null,
            "top": null,
            "visibility": null,
            "width": null
          }
        },
        "f26412790dff4028827071b6b2b6d931": {
          "model_module": "@jupyter-widgets/controls",
          "model_name": "DescriptionStyleModel",
          "model_module_version": "1.5.0",
          "state": {
            "_model_module": "@jupyter-widgets/controls",
            "_model_module_version": "1.5.0",
            "_model_name": "DescriptionStyleModel",
            "_view_count": null,
            "_view_module": "@jupyter-widgets/base",
            "_view_module_version": "1.2.0",
            "_view_name": "StyleView",
            "description_width": ""
          }
        },
        "4273a1efcc6a4585ba2ce2b4f7613dbb": {
          "model_module": "@jupyter-widgets/base",
          "model_name": "LayoutModel",
          "model_module_version": "1.2.0",
          "state": {
            "_model_module": "@jupyter-widgets/base",
            "_model_module_version": "1.2.0",
            "_model_name": "LayoutModel",
            "_view_count": null,
            "_view_module": "@jupyter-widgets/base",
            "_view_module_version": "1.2.0",
            "_view_name": "LayoutView",
            "align_content": null,
            "align_items": null,
            "align_self": null,
            "border": null,
            "bottom": null,
            "display": null,
            "flex": null,
            "flex_flow": null,
            "grid_area": null,
            "grid_auto_columns": null,
            "grid_auto_flow": null,
            "grid_auto_rows": null,
            "grid_column": null,
            "grid_gap": null,
            "grid_row": null,
            "grid_template_areas": null,
            "grid_template_columns": null,
            "grid_template_rows": null,
            "height": null,
            "justify_content": null,
            "justify_items": null,
            "left": null,
            "margin": null,
            "max_height": null,
            "max_width": null,
            "min_height": null,
            "min_width": null,
            "object_fit": null,
            "object_position": null,
            "order": null,
            "overflow": null,
            "overflow_x": null,
            "overflow_y": null,
            "padding": null,
            "right": null,
            "top": null,
            "visibility": null,
            "width": null
          }
        },
        "e39593da53c1486dbaf1cd445c65ffa8": {
          "model_module": "@jupyter-widgets/controls",
          "model_name": "ProgressStyleModel",
          "model_module_version": "1.5.0",
          "state": {
            "_model_module": "@jupyter-widgets/controls",
            "_model_module_version": "1.5.0",
            "_model_name": "ProgressStyleModel",
            "_view_count": null,
            "_view_module": "@jupyter-widgets/base",
            "_view_module_version": "1.2.0",
            "_view_name": "StyleView",
            "bar_color": null,
            "description_width": ""
          }
        },
        "fa4a517b6aec459d813bf6aada2c9274": {
          "model_module": "@jupyter-widgets/base",
          "model_name": "LayoutModel",
          "model_module_version": "1.2.0",
          "state": {
            "_model_module": "@jupyter-widgets/base",
            "_model_module_version": "1.2.0",
            "_model_name": "LayoutModel",
            "_view_count": null,
            "_view_module": "@jupyter-widgets/base",
            "_view_module_version": "1.2.0",
            "_view_name": "LayoutView",
            "align_content": null,
            "align_items": null,
            "align_self": null,
            "border": null,
            "bottom": null,
            "display": null,
            "flex": null,
            "flex_flow": null,
            "grid_area": null,
            "grid_auto_columns": null,
            "grid_auto_flow": null,
            "grid_auto_rows": null,
            "grid_column": null,
            "grid_gap": null,
            "grid_row": null,
            "grid_template_areas": null,
            "grid_template_columns": null,
            "grid_template_rows": null,
            "height": null,
            "justify_content": null,
            "justify_items": null,
            "left": null,
            "margin": null,
            "max_height": null,
            "max_width": null,
            "min_height": null,
            "min_width": null,
            "object_fit": null,
            "object_position": null,
            "order": null,
            "overflow": null,
            "overflow_x": null,
            "overflow_y": null,
            "padding": null,
            "right": null,
            "top": null,
            "visibility": null,
            "width": null
          }
        },
        "5d5418ebe6a446ebaa43421c2296b1ca": {
          "model_module": "@jupyter-widgets/controls",
          "model_name": "DescriptionStyleModel",
          "model_module_version": "1.5.0",
          "state": {
            "_model_module": "@jupyter-widgets/controls",
            "_model_module_version": "1.5.0",
            "_model_name": "DescriptionStyleModel",
            "_view_count": null,
            "_view_module": "@jupyter-widgets/base",
            "_view_module_version": "1.2.0",
            "_view_name": "StyleView",
            "description_width": ""
          }
        },
        "5a7cdef7d89a4ec68c3f6ba68b8d7749": {
          "model_module": "@jupyter-widgets/controls",
          "model_name": "HBoxModel",
          "model_module_version": "1.5.0",
          "state": {
            "_dom_classes": [],
            "_model_module": "@jupyter-widgets/controls",
            "_model_module_version": "1.5.0",
            "_model_name": "HBoxModel",
            "_view_count": null,
            "_view_module": "@jupyter-widgets/controls",
            "_view_module_version": "1.5.0",
            "_view_name": "HBoxView",
            "box_style": "",
            "children": [
              "IPY_MODEL_aedeade85de8455382a9ce2c70c3a4bb",
              "IPY_MODEL_36c69ef88c2f4b61abcbb81e2b9dd586",
              "IPY_MODEL_b8e70b54c7a244838abb2af45f0914e1"
            ],
            "layout": "IPY_MODEL_54750ea645484a59898874651631ff0f"
          }
        },
        "aedeade85de8455382a9ce2c70c3a4bb": {
          "model_module": "@jupyter-widgets/controls",
          "model_name": "HTMLModel",
          "model_module_version": "1.5.0",
          "state": {
            "_dom_classes": [],
            "_model_module": "@jupyter-widgets/controls",
            "_model_module_version": "1.5.0",
            "_model_name": "HTMLModel",
            "_view_count": null,
            "_view_module": "@jupyter-widgets/controls",
            "_view_module_version": "1.5.0",
            "_view_name": "HTMLView",
            "description": "",
            "description_tooltip": null,
            "layout": "IPY_MODEL_10cd3bd116124b418af10de80307d359",
            "placeholder": "​",
            "style": "IPY_MODEL_d45caeb6ac764fa5ad5915c698a26be7",
            "value": "tokenizer.json: 100%"
          }
        },
        "36c69ef88c2f4b61abcbb81e2b9dd586": {
          "model_module": "@jupyter-widgets/controls",
          "model_name": "FloatProgressModel",
          "model_module_version": "1.5.0",
          "state": {
            "_dom_classes": [],
            "_model_module": "@jupyter-widgets/controls",
            "_model_module_version": "1.5.0",
            "_model_name": "FloatProgressModel",
            "_view_count": null,
            "_view_module": "@jupyter-widgets/controls",
            "_view_module_version": "1.5.0",
            "_view_name": "ProgressView",
            "bar_style": "success",
            "description": "",
            "description_tooltip": null,
            "layout": "IPY_MODEL_eb342e55e91749fda448a3e6543954d8",
            "max": 1355863,
            "min": 0,
            "orientation": "horizontal",
            "style": "IPY_MODEL_3e91cdcc201c4ba48da4452cb06b3f4c",
            "value": 1355863
          }
        },
        "b8e70b54c7a244838abb2af45f0914e1": {
          "model_module": "@jupyter-widgets/controls",
          "model_name": "HTMLModel",
          "model_module_version": "1.5.0",
          "state": {
            "_dom_classes": [],
            "_model_module": "@jupyter-widgets/controls",
            "_model_module_version": "1.5.0",
            "_model_name": "HTMLModel",
            "_view_count": null,
            "_view_module": "@jupyter-widgets/controls",
            "_view_module_version": "1.5.0",
            "_view_name": "HTMLView",
            "description": "",
            "description_tooltip": null,
            "layout": "IPY_MODEL_57287b8ddf9d4c8c8377b50f122a0483",
            "placeholder": "​",
            "style": "IPY_MODEL_ba501da2958541de8cb7f8232ff6d3a1",
            "value": " 1.36M/1.36M [00:00&lt;00:00, 39.1MB/s]"
          }
        },
        "54750ea645484a59898874651631ff0f": {
          "model_module": "@jupyter-widgets/base",
          "model_name": "LayoutModel",
          "model_module_version": "1.2.0",
          "state": {
            "_model_module": "@jupyter-widgets/base",
            "_model_module_version": "1.2.0",
            "_model_name": "LayoutModel",
            "_view_count": null,
            "_view_module": "@jupyter-widgets/base",
            "_view_module_version": "1.2.0",
            "_view_name": "LayoutView",
            "align_content": null,
            "align_items": null,
            "align_self": null,
            "border": null,
            "bottom": null,
            "display": null,
            "flex": null,
            "flex_flow": null,
            "grid_area": null,
            "grid_auto_columns": null,
            "grid_auto_flow": null,
            "grid_auto_rows": null,
            "grid_column": null,
            "grid_gap": null,
            "grid_row": null,
            "grid_template_areas": null,
            "grid_template_columns": null,
            "grid_template_rows": null,
            "height": null,
            "justify_content": null,
            "justify_items": null,
            "left": null,
            "margin": null,
            "max_height": null,
            "max_width": null,
            "min_height": null,
            "min_width": null,
            "object_fit": null,
            "object_position": null,
            "order": null,
            "overflow": null,
            "overflow_x": null,
            "overflow_y": null,
            "padding": null,
            "right": null,
            "top": null,
            "visibility": null,
            "width": null
          }
        },
        "10cd3bd116124b418af10de80307d359": {
          "model_module": "@jupyter-widgets/base",
          "model_name": "LayoutModel",
          "model_module_version": "1.2.0",
          "state": {
            "_model_module": "@jupyter-widgets/base",
            "_model_module_version": "1.2.0",
            "_model_name": "LayoutModel",
            "_view_count": null,
            "_view_module": "@jupyter-widgets/base",
            "_view_module_version": "1.2.0",
            "_view_name": "LayoutView",
            "align_content": null,
            "align_items": null,
            "align_self": null,
            "border": null,
            "bottom": null,
            "display": null,
            "flex": null,
            "flex_flow": null,
            "grid_area": null,
            "grid_auto_columns": null,
            "grid_auto_flow": null,
            "grid_auto_rows": null,
            "grid_column": null,
            "grid_gap": null,
            "grid_row": null,
            "grid_template_areas": null,
            "grid_template_columns": null,
            "grid_template_rows": null,
            "height": null,
            "justify_content": null,
            "justify_items": null,
            "left": null,
            "margin": null,
            "max_height": null,
            "max_width": null,
            "min_height": null,
            "min_width": null,
            "object_fit": null,
            "object_position": null,
            "order": null,
            "overflow": null,
            "overflow_x": null,
            "overflow_y": null,
            "padding": null,
            "right": null,
            "top": null,
            "visibility": null,
            "width": null
          }
        },
        "d45caeb6ac764fa5ad5915c698a26be7": {
          "model_module": "@jupyter-widgets/controls",
          "model_name": "DescriptionStyleModel",
          "model_module_version": "1.5.0",
          "state": {
            "_model_module": "@jupyter-widgets/controls",
            "_model_module_version": "1.5.0",
            "_model_name": "DescriptionStyleModel",
            "_view_count": null,
            "_view_module": "@jupyter-widgets/base",
            "_view_module_version": "1.2.0",
            "_view_name": "StyleView",
            "description_width": ""
          }
        },
        "eb342e55e91749fda448a3e6543954d8": {
          "model_module": "@jupyter-widgets/base",
          "model_name": "LayoutModel",
          "model_module_version": "1.2.0",
          "state": {
            "_model_module": "@jupyter-widgets/base",
            "_model_module_version": "1.2.0",
            "_model_name": "LayoutModel",
            "_view_count": null,
            "_view_module": "@jupyter-widgets/base",
            "_view_module_version": "1.2.0",
            "_view_name": "LayoutView",
            "align_content": null,
            "align_items": null,
            "align_self": null,
            "border": null,
            "bottom": null,
            "display": null,
            "flex": null,
            "flex_flow": null,
            "grid_area": null,
            "grid_auto_columns": null,
            "grid_auto_flow": null,
            "grid_auto_rows": null,
            "grid_column": null,
            "grid_gap": null,
            "grid_row": null,
            "grid_template_areas": null,
            "grid_template_columns": null,
            "grid_template_rows": null,
            "height": null,
            "justify_content": null,
            "justify_items": null,
            "left": null,
            "margin": null,
            "max_height": null,
            "max_width": null,
            "min_height": null,
            "min_width": null,
            "object_fit": null,
            "object_position": null,
            "order": null,
            "overflow": null,
            "overflow_x": null,
            "overflow_y": null,
            "padding": null,
            "right": null,
            "top": null,
            "visibility": null,
            "width": null
          }
        },
        "3e91cdcc201c4ba48da4452cb06b3f4c": {
          "model_module": "@jupyter-widgets/controls",
          "model_name": "ProgressStyleModel",
          "model_module_version": "1.5.0",
          "state": {
            "_model_module": "@jupyter-widgets/controls",
            "_model_module_version": "1.5.0",
            "_model_name": "ProgressStyleModel",
            "_view_count": null,
            "_view_module": "@jupyter-widgets/base",
            "_view_module_version": "1.2.0",
            "_view_name": "StyleView",
            "bar_color": null,
            "description_width": ""
          }
        },
        "57287b8ddf9d4c8c8377b50f122a0483": {
          "model_module": "@jupyter-widgets/base",
          "model_name": "LayoutModel",
          "model_module_version": "1.2.0",
          "state": {
            "_model_module": "@jupyter-widgets/base",
            "_model_module_version": "1.2.0",
            "_model_name": "LayoutModel",
            "_view_count": null,
            "_view_module": "@jupyter-widgets/base",
            "_view_module_version": "1.2.0",
            "_view_name": "LayoutView",
            "align_content": null,
            "align_items": null,
            "align_self": null,
            "border": null,
            "bottom": null,
            "display": null,
            "flex": null,
            "flex_flow": null,
            "grid_area": null,
            "grid_auto_columns": null,
            "grid_auto_flow": null,
            "grid_auto_rows": null,
            "grid_column": null,
            "grid_gap": null,
            "grid_row": null,
            "grid_template_areas": null,
            "grid_template_columns": null,
            "grid_template_rows": null,
            "height": null,
            "justify_content": null,
            "justify_items": null,
            "left": null,
            "margin": null,
            "max_height": null,
            "max_width": null,
            "min_height": null,
            "min_width": null,
            "object_fit": null,
            "object_position": null,
            "order": null,
            "overflow": null,
            "overflow_x": null,
            "overflow_y": null,
            "padding": null,
            "right": null,
            "top": null,
            "visibility": null,
            "width": null
          }
        },
        "ba501da2958541de8cb7f8232ff6d3a1": {
          "model_module": "@jupyter-widgets/controls",
          "model_name": "DescriptionStyleModel",
          "model_module_version": "1.5.0",
          "state": {
            "_model_module": "@jupyter-widgets/controls",
            "_model_module_version": "1.5.0",
            "_model_name": "DescriptionStyleModel",
            "_view_count": null,
            "_view_module": "@jupyter-widgets/base",
            "_view_module_version": "1.2.0",
            "_view_name": "StyleView",
            "description_width": ""
          }
        },
        "f98f8a3af8cd47d6800a7a11bba8b9a6": {
          "model_module": "@jupyter-widgets/controls",
          "model_name": "HBoxModel",
          "model_module_version": "1.5.0",
          "state": {
            "_dom_classes": [],
            "_model_module": "@jupyter-widgets/controls",
            "_model_module_version": "1.5.0",
            "_model_name": "HBoxModel",
            "_view_count": null,
            "_view_module": "@jupyter-widgets/controls",
            "_view_module_version": "1.5.0",
            "_view_name": "HBoxView",
            "box_style": "",
            "children": [
              "IPY_MODEL_726e34a87b9647f7ac4f6de83cd796c6",
              "IPY_MODEL_27c22bc496c04e25bdf8986d8f01cd1c",
              "IPY_MODEL_7b6c49d384d9406a9f9c1ec5ccc9cab7"
            ],
            "layout": "IPY_MODEL_d0ff8342dd5b41978bae851d9f3a6911"
          }
        },
        "726e34a87b9647f7ac4f6de83cd796c6": {
          "model_module": "@jupyter-widgets/controls",
          "model_name": "HTMLModel",
          "model_module_version": "1.5.0",
          "state": {
            "_dom_classes": [],
            "_model_module": "@jupyter-widgets/controls",
            "_model_module_version": "1.5.0",
            "_model_name": "HTMLModel",
            "_view_count": null,
            "_view_module": "@jupyter-widgets/controls",
            "_view_module_version": "1.5.0",
            "_view_name": "HTMLView",
            "description": "",
            "description_tooltip": null,
            "layout": "IPY_MODEL_911853082f474ed48226b9f0ea30a960",
            "placeholder": "​",
            "style": "IPY_MODEL_e296aed75c644a6394b623b0a5276adb",
            "value": ""
          }
        },
        "27c22bc496c04e25bdf8986d8f01cd1c": {
          "model_module": "@jupyter-widgets/controls",
          "model_name": "FloatProgressModel",
          "model_module_version": "1.5.0",
          "state": {
            "_dom_classes": [],
            "_model_module": "@jupyter-widgets/controls",
            "_model_module_version": "1.5.0",
            "_model_name": "FloatProgressModel",
            "_view_count": null,
            "_view_module": "@jupyter-widgets/controls",
            "_view_module_version": "1.5.0",
            "_view_name": "ProgressView",
            "bar_style": "success",
            "description": "",
            "description_tooltip": null,
            "layout": "IPY_MODEL_5f43b7575f5e4799ad1d8515a5f83858",
            "max": 6,
            "min": 0,
            "orientation": "horizontal",
            "style": "IPY_MODEL_2ce29d9a12754a959d3e854ba429e2c3",
            "value": 6
          }
        },
        "7b6c49d384d9406a9f9c1ec5ccc9cab7": {
          "model_module": "@jupyter-widgets/controls",
          "model_name": "HTMLModel",
          "model_module_version": "1.5.0",
          "state": {
            "_dom_classes": [],
            "_model_module": "@jupyter-widgets/controls",
            "_model_module_version": "1.5.0",
            "_model_name": "HTMLModel",
            "_view_count": null,
            "_view_module": "@jupyter-widgets/controls",
            "_view_module_version": "1.5.0",
            "_view_name": "HTMLView",
            "description": "",
            "description_tooltip": null,
            "layout": "IPY_MODEL_451d97a1decf4c9688b1a493f12a7308",
            "placeholder": "​",
            "style": "IPY_MODEL_f788150a5fd64b718b9987387b04b088",
            "value": " 7/? [00:12&lt;00:00,  1.39s/it]"
          }
        },
        "d0ff8342dd5b41978bae851d9f3a6911": {
          "model_module": "@jupyter-widgets/base",
          "model_name": "LayoutModel",
          "model_module_version": "1.2.0",
          "state": {
            "_model_module": "@jupyter-widgets/base",
            "_model_module_version": "1.2.0",
            "_model_name": "LayoutModel",
            "_view_count": null,
            "_view_module": "@jupyter-widgets/base",
            "_view_module_version": "1.2.0",
            "_view_name": "LayoutView",
            "align_content": null,
            "align_items": null,
            "align_self": null,
            "border": null,
            "bottom": null,
            "display": null,
            "flex": null,
            "flex_flow": null,
            "grid_area": null,
            "grid_auto_columns": null,
            "grid_auto_flow": null,
            "grid_auto_rows": null,
            "grid_column": null,
            "grid_gap": null,
            "grid_row": null,
            "grid_template_areas": null,
            "grid_template_columns": null,
            "grid_template_rows": null,
            "height": null,
            "justify_content": null,
            "justify_items": null,
            "left": null,
            "margin": null,
            "max_height": null,
            "max_width": null,
            "min_height": null,
            "min_width": null,
            "object_fit": null,
            "object_position": null,
            "order": null,
            "overflow": null,
            "overflow_x": null,
            "overflow_y": null,
            "padding": null,
            "right": null,
            "top": null,
            "visibility": null,
            "width": null
          }
        },
        "911853082f474ed48226b9f0ea30a960": {
          "model_module": "@jupyter-widgets/base",
          "model_name": "LayoutModel",
          "model_module_version": "1.2.0",
          "state": {
            "_model_module": "@jupyter-widgets/base",
            "_model_module_version": "1.2.0",
            "_model_name": "LayoutModel",
            "_view_count": null,
            "_view_module": "@jupyter-widgets/base",
            "_view_module_version": "1.2.0",
            "_view_name": "LayoutView",
            "align_content": null,
            "align_items": null,
            "align_self": null,
            "border": null,
            "bottom": null,
            "display": null,
            "flex": null,
            "flex_flow": null,
            "grid_area": null,
            "grid_auto_columns": null,
            "grid_auto_flow": null,
            "grid_auto_rows": null,
            "grid_column": null,
            "grid_gap": null,
            "grid_row": null,
            "grid_template_areas": null,
            "grid_template_columns": null,
            "grid_template_rows": null,
            "height": null,
            "justify_content": null,
            "justify_items": null,
            "left": null,
            "margin": null,
            "max_height": null,
            "max_width": null,
            "min_height": null,
            "min_width": null,
            "object_fit": null,
            "object_position": null,
            "order": null,
            "overflow": null,
            "overflow_x": null,
            "overflow_y": null,
            "padding": null,
            "right": null,
            "top": null,
            "visibility": null,
            "width": null
          }
        },
        "e296aed75c644a6394b623b0a5276adb": {
          "model_module": "@jupyter-widgets/controls",
          "model_name": "DescriptionStyleModel",
          "model_module_version": "1.5.0",
          "state": {
            "_model_module": "@jupyter-widgets/controls",
            "_model_module_version": "1.5.0",
            "_model_name": "DescriptionStyleModel",
            "_view_count": null,
            "_view_module": "@jupyter-widgets/base",
            "_view_module_version": "1.2.0",
            "_view_name": "StyleView",
            "description_width": ""
          }
        },
        "5f43b7575f5e4799ad1d8515a5f83858": {
          "model_module": "@jupyter-widgets/base",
          "model_name": "LayoutModel",
          "model_module_version": "1.2.0",
          "state": {
            "_model_module": "@jupyter-widgets/base",
            "_model_module_version": "1.2.0",
            "_model_name": "LayoutModel",
            "_view_count": null,
            "_view_module": "@jupyter-widgets/base",
            "_view_module_version": "1.2.0",
            "_view_name": "LayoutView",
            "align_content": null,
            "align_items": null,
            "align_self": null,
            "border": null,
            "bottom": null,
            "display": null,
            "flex": null,
            "flex_flow": null,
            "grid_area": null,
            "grid_auto_columns": null,
            "grid_auto_flow": null,
            "grid_auto_rows": null,
            "grid_column": null,
            "grid_gap": null,
            "grid_row": null,
            "grid_template_areas": null,
            "grid_template_columns": null,
            "grid_template_rows": null,
            "height": null,
            "justify_content": null,
            "justify_items": null,
            "left": null,
            "margin": null,
            "max_height": null,
            "max_width": null,
            "min_height": null,
            "min_width": null,
            "object_fit": null,
            "object_position": null,
            "order": null,
            "overflow": null,
            "overflow_x": null,
            "overflow_y": null,
            "padding": null,
            "right": null,
            "top": null,
            "visibility": null,
            "width": null
          }
        },
        "2ce29d9a12754a959d3e854ba429e2c3": {
          "model_module": "@jupyter-widgets/controls",
          "model_name": "ProgressStyleModel",
          "model_module_version": "1.5.0",
          "state": {
            "_model_module": "@jupyter-widgets/controls",
            "_model_module_version": "1.5.0",
            "_model_name": "ProgressStyleModel",
            "_view_count": null,
            "_view_module": "@jupyter-widgets/base",
            "_view_module_version": "1.2.0",
            "_view_name": "StyleView",
            "bar_color": null,
            "description_width": ""
          }
        },
        "451d97a1decf4c9688b1a493f12a7308": {
          "model_module": "@jupyter-widgets/base",
          "model_name": "LayoutModel",
          "model_module_version": "1.2.0",
          "state": {
            "_model_module": "@jupyter-widgets/base",
            "_model_module_version": "1.2.0",
            "_model_name": "LayoutModel",
            "_view_count": null,
            "_view_module": "@jupyter-widgets/base",
            "_view_module_version": "1.2.0",
            "_view_name": "LayoutView",
            "align_content": null,
            "align_items": null,
            "align_self": null,
            "border": null,
            "bottom": null,
            "display": null,
            "flex": null,
            "flex_flow": null,
            "grid_area": null,
            "grid_auto_columns": null,
            "grid_auto_flow": null,
            "grid_auto_rows": null,
            "grid_column": null,
            "grid_gap": null,
            "grid_row": null,
            "grid_template_areas": null,
            "grid_template_columns": null,
            "grid_template_rows": null,
            "height": null,
            "justify_content": null,
            "justify_items": null,
            "left": null,
            "margin": null,
            "max_height": null,
            "max_width": null,
            "min_height": null,
            "min_width": null,
            "object_fit": null,
            "object_position": null,
            "order": null,
            "overflow": null,
            "overflow_x": null,
            "overflow_y": null,
            "padding": null,
            "right": null,
            "top": null,
            "visibility": null,
            "width": null
          }
        },
        "f788150a5fd64b718b9987387b04b088": {
          "model_module": "@jupyter-widgets/controls",
          "model_name": "DescriptionStyleModel",
          "model_module_version": "1.5.0",
          "state": {
            "_model_module": "@jupyter-widgets/controls",
            "_model_module_version": "1.5.0",
            "_model_name": "DescriptionStyleModel",
            "_view_count": null,
            "_view_module": "@jupyter-widgets/base",
            "_view_module_version": "1.2.0",
            "_view_name": "StyleView",
            "description_width": ""
          }
        },
        "471a93885c7a4fb9aa16f9eb57db1817": {
          "model_module": "@jupyter-widgets/controls",
          "model_name": "HBoxModel",
          "model_module_version": "1.5.0",
          "state": {
            "_dom_classes": [],
            "_model_module": "@jupyter-widgets/controls",
            "_model_module_version": "1.5.0",
            "_model_name": "HBoxModel",
            "_view_count": null,
            "_view_module": "@jupyter-widgets/controls",
            "_view_module_version": "1.5.0",
            "_view_name": "HBoxView",
            "box_style": "",
            "children": [
              "IPY_MODEL_9ccf04ca21b14506b979c655c0e6d24a",
              "IPY_MODEL_c3a460341f784bdbafb74171cd3218ad",
              "IPY_MODEL_766f477fe124475fa97b44f60b0ca53b"
            ],
            "layout": "IPY_MODEL_03c693bd47ad4386afd02a253b56a523"
          }
        },
        "9ccf04ca21b14506b979c655c0e6d24a": {
          "model_module": "@jupyter-widgets/controls",
          "model_name": "HTMLModel",
          "model_module_version": "1.5.0",
          "state": {
            "_dom_classes": [],
            "_model_module": "@jupyter-widgets/controls",
            "_model_module_version": "1.5.0",
            "_model_name": "HTMLModel",
            "_view_count": null,
            "_view_module": "@jupyter-widgets/controls",
            "_view_module_version": "1.5.0",
            "_view_name": "HTMLView",
            "description": "",
            "description_tooltip": null,
            "layout": "IPY_MODEL_73bc23fd857442cfbbf1bf65c5c50ea1",
            "placeholder": "​",
            "style": "IPY_MODEL_cbb0107c995a49ccbbde5143e126794b",
            "value": "Epoch 5 of 5: 100%"
          }
        },
        "c3a460341f784bdbafb74171cd3218ad": {
          "model_module": "@jupyter-widgets/controls",
          "model_name": "FloatProgressModel",
          "model_module_version": "1.5.0",
          "state": {
            "_dom_classes": [],
            "_model_module": "@jupyter-widgets/controls",
            "_model_module_version": "1.5.0",
            "_model_name": "FloatProgressModel",
            "_view_count": null,
            "_view_module": "@jupyter-widgets/controls",
            "_view_module_version": "1.5.0",
            "_view_name": "ProgressView",
            "bar_style": "success",
            "description": "",
            "description_tooltip": null,
            "layout": "IPY_MODEL_8bc5df4a7b1d47a091ba1d11fa76cfbf",
            "max": 5,
            "min": 0,
            "orientation": "horizontal",
            "style": "IPY_MODEL_407644b7042141a28cab15e171db8013",
            "value": 5
          }
        },
        "766f477fe124475fa97b44f60b0ca53b": {
          "model_module": "@jupyter-widgets/controls",
          "model_name": "HTMLModel",
          "model_module_version": "1.5.0",
          "state": {
            "_dom_classes": [],
            "_model_module": "@jupyter-widgets/controls",
            "_model_module_version": "1.5.0",
            "_model_name": "HTMLModel",
            "_view_count": null,
            "_view_module": "@jupyter-widgets/controls",
            "_view_module_version": "1.5.0",
            "_view_name": "HTMLView",
            "description": "",
            "description_tooltip": null,
            "layout": "IPY_MODEL_341a3d68804a4fa0b9c3eed5a91248fd",
            "placeholder": "​",
            "style": "IPY_MODEL_0a91f50d27254967a8fed28df6d9fb1a",
            "value": " 5/5 [04:41&lt;00:00, 57.75s/it]"
          }
        },
        "03c693bd47ad4386afd02a253b56a523": {
          "model_module": "@jupyter-widgets/base",
          "model_name": "LayoutModel",
          "model_module_version": "1.2.0",
          "state": {
            "_model_module": "@jupyter-widgets/base",
            "_model_module_version": "1.2.0",
            "_model_name": "LayoutModel",
            "_view_count": null,
            "_view_module": "@jupyter-widgets/base",
            "_view_module_version": "1.2.0",
            "_view_name": "LayoutView",
            "align_content": null,
            "align_items": null,
            "align_self": null,
            "border": null,
            "bottom": null,
            "display": null,
            "flex": null,
            "flex_flow": null,
            "grid_area": null,
            "grid_auto_columns": null,
            "grid_auto_flow": null,
            "grid_auto_rows": null,
            "grid_column": null,
            "grid_gap": null,
            "grid_row": null,
            "grid_template_areas": null,
            "grid_template_columns": null,
            "grid_template_rows": null,
            "height": null,
            "justify_content": null,
            "justify_items": null,
            "left": null,
            "margin": null,
            "max_height": null,
            "max_width": null,
            "min_height": null,
            "min_width": null,
            "object_fit": null,
            "object_position": null,
            "order": null,
            "overflow": null,
            "overflow_x": null,
            "overflow_y": null,
            "padding": null,
            "right": null,
            "top": null,
            "visibility": null,
            "width": null
          }
        },
        "73bc23fd857442cfbbf1bf65c5c50ea1": {
          "model_module": "@jupyter-widgets/base",
          "model_name": "LayoutModel",
          "model_module_version": "1.2.0",
          "state": {
            "_model_module": "@jupyter-widgets/base",
            "_model_module_version": "1.2.0",
            "_model_name": "LayoutModel",
            "_view_count": null,
            "_view_module": "@jupyter-widgets/base",
            "_view_module_version": "1.2.0",
            "_view_name": "LayoutView",
            "align_content": null,
            "align_items": null,
            "align_self": null,
            "border": null,
            "bottom": null,
            "display": null,
            "flex": null,
            "flex_flow": null,
            "grid_area": null,
            "grid_auto_columns": null,
            "grid_auto_flow": null,
            "grid_auto_rows": null,
            "grid_column": null,
            "grid_gap": null,
            "grid_row": null,
            "grid_template_areas": null,
            "grid_template_columns": null,
            "grid_template_rows": null,
            "height": null,
            "justify_content": null,
            "justify_items": null,
            "left": null,
            "margin": null,
            "max_height": null,
            "max_width": null,
            "min_height": null,
            "min_width": null,
            "object_fit": null,
            "object_position": null,
            "order": null,
            "overflow": null,
            "overflow_x": null,
            "overflow_y": null,
            "padding": null,
            "right": null,
            "top": null,
            "visibility": null,
            "width": null
          }
        },
        "cbb0107c995a49ccbbde5143e126794b": {
          "model_module": "@jupyter-widgets/controls",
          "model_name": "DescriptionStyleModel",
          "model_module_version": "1.5.0",
          "state": {
            "_model_module": "@jupyter-widgets/controls",
            "_model_module_version": "1.5.0",
            "_model_name": "DescriptionStyleModel",
            "_view_count": null,
            "_view_module": "@jupyter-widgets/base",
            "_view_module_version": "1.2.0",
            "_view_name": "StyleView",
            "description_width": ""
          }
        },
        "8bc5df4a7b1d47a091ba1d11fa76cfbf": {
          "model_module": "@jupyter-widgets/base",
          "model_name": "LayoutModel",
          "model_module_version": "1.2.0",
          "state": {
            "_model_module": "@jupyter-widgets/base",
            "_model_module_version": "1.2.0",
            "_model_name": "LayoutModel",
            "_view_count": null,
            "_view_module": "@jupyter-widgets/base",
            "_view_module_version": "1.2.0",
            "_view_name": "LayoutView",
            "align_content": null,
            "align_items": null,
            "align_self": null,
            "border": null,
            "bottom": null,
            "display": null,
            "flex": null,
            "flex_flow": null,
            "grid_area": null,
            "grid_auto_columns": null,
            "grid_auto_flow": null,
            "grid_auto_rows": null,
            "grid_column": null,
            "grid_gap": null,
            "grid_row": null,
            "grid_template_areas": null,
            "grid_template_columns": null,
            "grid_template_rows": null,
            "height": null,
            "justify_content": null,
            "justify_items": null,
            "left": null,
            "margin": null,
            "max_height": null,
            "max_width": null,
            "min_height": null,
            "min_width": null,
            "object_fit": null,
            "object_position": null,
            "order": null,
            "overflow": null,
            "overflow_x": null,
            "overflow_y": null,
            "padding": null,
            "right": null,
            "top": null,
            "visibility": null,
            "width": null
          }
        },
        "407644b7042141a28cab15e171db8013": {
          "model_module": "@jupyter-widgets/controls",
          "model_name": "ProgressStyleModel",
          "model_module_version": "1.5.0",
          "state": {
            "_model_module": "@jupyter-widgets/controls",
            "_model_module_version": "1.5.0",
            "_model_name": "ProgressStyleModel",
            "_view_count": null,
            "_view_module": "@jupyter-widgets/base",
            "_view_module_version": "1.2.0",
            "_view_name": "StyleView",
            "bar_color": null,
            "description_width": ""
          }
        },
        "341a3d68804a4fa0b9c3eed5a91248fd": {
          "model_module": "@jupyter-widgets/base",
          "model_name": "LayoutModel",
          "model_module_version": "1.2.0",
          "state": {
            "_model_module": "@jupyter-widgets/base",
            "_model_module_version": "1.2.0",
            "_model_name": "LayoutModel",
            "_view_count": null,
            "_view_module": "@jupyter-widgets/base",
            "_view_module_version": "1.2.0",
            "_view_name": "LayoutView",
            "align_content": null,
            "align_items": null,
            "align_self": null,
            "border": null,
            "bottom": null,
            "display": null,
            "flex": null,
            "flex_flow": null,
            "grid_area": null,
            "grid_auto_columns": null,
            "grid_auto_flow": null,
            "grid_auto_rows": null,
            "grid_column": null,
            "grid_gap": null,
            "grid_row": null,
            "grid_template_areas": null,
            "grid_template_columns": null,
            "grid_template_rows": null,
            "height": null,
            "justify_content": null,
            "justify_items": null,
            "left": null,
            "margin": null,
            "max_height": null,
            "max_width": null,
            "min_height": null,
            "min_width": null,
            "object_fit": null,
            "object_position": null,
            "order": null,
            "overflow": null,
            "overflow_x": null,
            "overflow_y": null,
            "padding": null,
            "right": null,
            "top": null,
            "visibility": null,
            "width": null
          }
        },
        "0a91f50d27254967a8fed28df6d9fb1a": {
          "model_module": "@jupyter-widgets/controls",
          "model_name": "DescriptionStyleModel",
          "model_module_version": "1.5.0",
          "state": {
            "_model_module": "@jupyter-widgets/controls",
            "_model_module_version": "1.5.0",
            "_model_name": "DescriptionStyleModel",
            "_view_count": null,
            "_view_module": "@jupyter-widgets/base",
            "_view_module_version": "1.2.0",
            "_view_name": "StyleView",
            "description_width": ""
          }
        },
        "bb8fae7403874a0aa99b288d93888ba4": {
          "model_module": "@jupyter-widgets/controls",
          "model_name": "HBoxModel",
          "model_module_version": "1.5.0",
          "state": {
            "_dom_classes": [],
            "_model_module": "@jupyter-widgets/controls",
            "_model_module_version": "1.5.0",
            "_model_name": "HBoxModel",
            "_view_count": null,
            "_view_module": "@jupyter-widgets/controls",
            "_view_module_version": "1.5.0",
            "_view_name": "HBoxView",
            "box_style": "",
            "children": [
              "IPY_MODEL_8340cd26bd5f4acc973b157b75e5ff5c",
              "IPY_MODEL_9b700e18ef3d44f8808ce48e8ae29de8",
              "IPY_MODEL_ce5e53b8a35649ba866a800ec612cc80"
            ],
            "layout": "IPY_MODEL_0307db60b1e14bc6ba81d349961dff1f"
          }
        },
        "8340cd26bd5f4acc973b157b75e5ff5c": {
          "model_module": "@jupyter-widgets/controls",
          "model_name": "HTMLModel",
          "model_module_version": "1.5.0",
          "state": {
            "_dom_classes": [],
            "_model_module": "@jupyter-widgets/controls",
            "_model_module_version": "1.5.0",
            "_model_name": "HTMLModel",
            "_view_count": null,
            "_view_module": "@jupyter-widgets/controls",
            "_view_module_version": "1.5.0",
            "_view_name": "HTMLView",
            "description": "",
            "description_tooltip": null,
            "layout": "IPY_MODEL_e9688070f7de49d4bddf4cf52f08f4f8",
            "placeholder": "​",
            "style": "IPY_MODEL_fea67e2e652d4433b2a040d2243fff94",
            "value": "Epochs 1/5. Running Loss:    0.9402: 100%"
          }
        },
        "9b700e18ef3d44f8808ce48e8ae29de8": {
          "model_module": "@jupyter-widgets/controls",
          "model_name": "FloatProgressModel",
          "model_module_version": "1.5.0",
          "state": {
            "_dom_classes": [],
            "_model_module": "@jupyter-widgets/controls",
            "_model_module_version": "1.5.0",
            "_model_name": "FloatProgressModel",
            "_view_count": null,
            "_view_module": "@jupyter-widgets/controls",
            "_view_module_version": "1.5.0",
            "_view_name": "ProgressView",
            "bar_style": "success",
            "description": "",
            "description_tooltip": null,
            "layout": "IPY_MODEL_46f86ae8b02445de8dbe317cfcd31464",
            "max": 400,
            "min": 0,
            "orientation": "horizontal",
            "style": "IPY_MODEL_72c6b5b5ff194a7188a9294711a0a5df",
            "value": 400
          }
        },
        "ce5e53b8a35649ba866a800ec612cc80": {
          "model_module": "@jupyter-widgets/controls",
          "model_name": "HTMLModel",
          "model_module_version": "1.5.0",
          "state": {
            "_dom_classes": [],
            "_model_module": "@jupyter-widgets/controls",
            "_model_module_version": "1.5.0",
            "_model_name": "HTMLModel",
            "_view_count": null,
            "_view_module": "@jupyter-widgets/controls",
            "_view_module_version": "1.5.0",
            "_view_name": "HTMLView",
            "description": "",
            "description_tooltip": null,
            "layout": "IPY_MODEL_b4dff469b46e4406aa41a0f288b7c97b",
            "placeholder": "​",
            "style": "IPY_MODEL_4ef3dbcaa0714777b4d823e444716c3a",
            "value": " 400/400 [00:54&lt;00:00,  7.56it/s]"
          }
        },
        "0307db60b1e14bc6ba81d349961dff1f": {
          "model_module": "@jupyter-widgets/base",
          "model_name": "LayoutModel",
          "model_module_version": "1.2.0",
          "state": {
            "_model_module": "@jupyter-widgets/base",
            "_model_module_version": "1.2.0",
            "_model_name": "LayoutModel",
            "_view_count": null,
            "_view_module": "@jupyter-widgets/base",
            "_view_module_version": "1.2.0",
            "_view_name": "LayoutView",
            "align_content": null,
            "align_items": null,
            "align_self": null,
            "border": null,
            "bottom": null,
            "display": null,
            "flex": null,
            "flex_flow": null,
            "grid_area": null,
            "grid_auto_columns": null,
            "grid_auto_flow": null,
            "grid_auto_rows": null,
            "grid_column": null,
            "grid_gap": null,
            "grid_row": null,
            "grid_template_areas": null,
            "grid_template_columns": null,
            "grid_template_rows": null,
            "height": null,
            "justify_content": null,
            "justify_items": null,
            "left": null,
            "margin": null,
            "max_height": null,
            "max_width": null,
            "min_height": null,
            "min_width": null,
            "object_fit": null,
            "object_position": null,
            "order": null,
            "overflow": null,
            "overflow_x": null,
            "overflow_y": null,
            "padding": null,
            "right": null,
            "top": null,
            "visibility": null,
            "width": null
          }
        },
        "e9688070f7de49d4bddf4cf52f08f4f8": {
          "model_module": "@jupyter-widgets/base",
          "model_name": "LayoutModel",
          "model_module_version": "1.2.0",
          "state": {
            "_model_module": "@jupyter-widgets/base",
            "_model_module_version": "1.2.0",
            "_model_name": "LayoutModel",
            "_view_count": null,
            "_view_module": "@jupyter-widgets/base",
            "_view_module_version": "1.2.0",
            "_view_name": "LayoutView",
            "align_content": null,
            "align_items": null,
            "align_self": null,
            "border": null,
            "bottom": null,
            "display": null,
            "flex": null,
            "flex_flow": null,
            "grid_area": null,
            "grid_auto_columns": null,
            "grid_auto_flow": null,
            "grid_auto_rows": null,
            "grid_column": null,
            "grid_gap": null,
            "grid_row": null,
            "grid_template_areas": null,
            "grid_template_columns": null,
            "grid_template_rows": null,
            "height": null,
            "justify_content": null,
            "justify_items": null,
            "left": null,
            "margin": null,
            "max_height": null,
            "max_width": null,
            "min_height": null,
            "min_width": null,
            "object_fit": null,
            "object_position": null,
            "order": null,
            "overflow": null,
            "overflow_x": null,
            "overflow_y": null,
            "padding": null,
            "right": null,
            "top": null,
            "visibility": null,
            "width": null
          }
        },
        "fea67e2e652d4433b2a040d2243fff94": {
          "model_module": "@jupyter-widgets/controls",
          "model_name": "DescriptionStyleModel",
          "model_module_version": "1.5.0",
          "state": {
            "_model_module": "@jupyter-widgets/controls",
            "_model_module_version": "1.5.0",
            "_model_name": "DescriptionStyleModel",
            "_view_count": null,
            "_view_module": "@jupyter-widgets/base",
            "_view_module_version": "1.2.0",
            "_view_name": "StyleView",
            "description_width": ""
          }
        },
        "46f86ae8b02445de8dbe317cfcd31464": {
          "model_module": "@jupyter-widgets/base",
          "model_name": "LayoutModel",
          "model_module_version": "1.2.0",
          "state": {
            "_model_module": "@jupyter-widgets/base",
            "_model_module_version": "1.2.0",
            "_model_name": "LayoutModel",
            "_view_count": null,
            "_view_module": "@jupyter-widgets/base",
            "_view_module_version": "1.2.0",
            "_view_name": "LayoutView",
            "align_content": null,
            "align_items": null,
            "align_self": null,
            "border": null,
            "bottom": null,
            "display": null,
            "flex": null,
            "flex_flow": null,
            "grid_area": null,
            "grid_auto_columns": null,
            "grid_auto_flow": null,
            "grid_auto_rows": null,
            "grid_column": null,
            "grid_gap": null,
            "grid_row": null,
            "grid_template_areas": null,
            "grid_template_columns": null,
            "grid_template_rows": null,
            "height": null,
            "justify_content": null,
            "justify_items": null,
            "left": null,
            "margin": null,
            "max_height": null,
            "max_width": null,
            "min_height": null,
            "min_width": null,
            "object_fit": null,
            "object_position": null,
            "order": null,
            "overflow": null,
            "overflow_x": null,
            "overflow_y": null,
            "padding": null,
            "right": null,
            "top": null,
            "visibility": null,
            "width": null
          }
        },
        "72c6b5b5ff194a7188a9294711a0a5df": {
          "model_module": "@jupyter-widgets/controls",
          "model_name": "ProgressStyleModel",
          "model_module_version": "1.5.0",
          "state": {
            "_model_module": "@jupyter-widgets/controls",
            "_model_module_version": "1.5.0",
            "_model_name": "ProgressStyleModel",
            "_view_count": null,
            "_view_module": "@jupyter-widgets/base",
            "_view_module_version": "1.2.0",
            "_view_name": "StyleView",
            "bar_color": null,
            "description_width": ""
          }
        },
        "b4dff469b46e4406aa41a0f288b7c97b": {
          "model_module": "@jupyter-widgets/base",
          "model_name": "LayoutModel",
          "model_module_version": "1.2.0",
          "state": {
            "_model_module": "@jupyter-widgets/base",
            "_model_module_version": "1.2.0",
            "_model_name": "LayoutModel",
            "_view_count": null,
            "_view_module": "@jupyter-widgets/base",
            "_view_module_version": "1.2.0",
            "_view_name": "LayoutView",
            "align_content": null,
            "align_items": null,
            "align_self": null,
            "border": null,
            "bottom": null,
            "display": null,
            "flex": null,
            "flex_flow": null,
            "grid_area": null,
            "grid_auto_columns": null,
            "grid_auto_flow": null,
            "grid_auto_rows": null,
            "grid_column": null,
            "grid_gap": null,
            "grid_row": null,
            "grid_template_areas": null,
            "grid_template_columns": null,
            "grid_template_rows": null,
            "height": null,
            "justify_content": null,
            "justify_items": null,
            "left": null,
            "margin": null,
            "max_height": null,
            "max_width": null,
            "min_height": null,
            "min_width": null,
            "object_fit": null,
            "object_position": null,
            "order": null,
            "overflow": null,
            "overflow_x": null,
            "overflow_y": null,
            "padding": null,
            "right": null,
            "top": null,
            "visibility": null,
            "width": null
          }
        },
        "4ef3dbcaa0714777b4d823e444716c3a": {
          "model_module": "@jupyter-widgets/controls",
          "model_name": "DescriptionStyleModel",
          "model_module_version": "1.5.0",
          "state": {
            "_model_module": "@jupyter-widgets/controls",
            "_model_module_version": "1.5.0",
            "_model_name": "DescriptionStyleModel",
            "_view_count": null,
            "_view_module": "@jupyter-widgets/base",
            "_view_module_version": "1.2.0",
            "_view_name": "StyleView",
            "description_width": ""
          }
        },
        "8a4009729bec4aa4a27a9a2dae47bf5b": {
          "model_module": "@jupyter-widgets/controls",
          "model_name": "HBoxModel",
          "model_module_version": "1.5.0",
          "state": {
            "_dom_classes": [],
            "_model_module": "@jupyter-widgets/controls",
            "_model_module_version": "1.5.0",
            "_model_name": "HBoxModel",
            "_view_count": null,
            "_view_module": "@jupyter-widgets/controls",
            "_view_module_version": "1.5.0",
            "_view_name": "HBoxView",
            "box_style": "",
            "children": [
              "IPY_MODEL_70dad7327d4347f38e5863ad4f7afe24",
              "IPY_MODEL_f90ff247f1fb4137bbba1441c6571325",
              "IPY_MODEL_d6329d1b66494667a5a9c71da007f2c0"
            ],
            "layout": "IPY_MODEL_aead074be5b544038c1e639be61d2f55"
          }
        },
        "70dad7327d4347f38e5863ad4f7afe24": {
          "model_module": "@jupyter-widgets/controls",
          "model_name": "HTMLModel",
          "model_module_version": "1.5.0",
          "state": {
            "_dom_classes": [],
            "_model_module": "@jupyter-widgets/controls",
            "_model_module_version": "1.5.0",
            "_model_name": "HTMLModel",
            "_view_count": null,
            "_view_module": "@jupyter-widgets/controls",
            "_view_module_version": "1.5.0",
            "_view_name": "HTMLView",
            "description": "",
            "description_tooltip": null,
            "layout": "IPY_MODEL_46ad602b3568459da538451c07c6ca55",
            "placeholder": "​",
            "style": "IPY_MODEL_511deeb26c044cbda1a7a31896ac12e4",
            "value": "Epochs 2/5. Running Loss:    0.3124: 100%"
          }
        },
        "f90ff247f1fb4137bbba1441c6571325": {
          "model_module": "@jupyter-widgets/controls",
          "model_name": "FloatProgressModel",
          "model_module_version": "1.5.0",
          "state": {
            "_dom_classes": [],
            "_model_module": "@jupyter-widgets/controls",
            "_model_module_version": "1.5.0",
            "_model_name": "FloatProgressModel",
            "_view_count": null,
            "_view_module": "@jupyter-widgets/controls",
            "_view_module_version": "1.5.0",
            "_view_name": "ProgressView",
            "bar_style": "success",
            "description": "",
            "description_tooltip": null,
            "layout": "IPY_MODEL_28be2348ff9c4b77a9bd48805a253f0c",
            "max": 400,
            "min": 0,
            "orientation": "horizontal",
            "style": "IPY_MODEL_00769409b2c54b7583f2f7f2a58bdea8",
            "value": 400
          }
        },
        "d6329d1b66494667a5a9c71da007f2c0": {
          "model_module": "@jupyter-widgets/controls",
          "model_name": "HTMLModel",
          "model_module_version": "1.5.0",
          "state": {
            "_dom_classes": [],
            "_model_module": "@jupyter-widgets/controls",
            "_model_module_version": "1.5.0",
            "_model_name": "HTMLModel",
            "_view_count": null,
            "_view_module": "@jupyter-widgets/controls",
            "_view_module_version": "1.5.0",
            "_view_name": "HTMLView",
            "description": "",
            "description_tooltip": null,
            "layout": "IPY_MODEL_6a4f3621f1c44c128a17790c1185af35",
            "placeholder": "​",
            "style": "IPY_MODEL_6490e4450ace40cdae23be196bbd8c70",
            "value": " 400/400 [00:54&lt;00:00,  7.55it/s]"
          }
        },
        "aead074be5b544038c1e639be61d2f55": {
          "model_module": "@jupyter-widgets/base",
          "model_name": "LayoutModel",
          "model_module_version": "1.2.0",
          "state": {
            "_model_module": "@jupyter-widgets/base",
            "_model_module_version": "1.2.0",
            "_model_name": "LayoutModel",
            "_view_count": null,
            "_view_module": "@jupyter-widgets/base",
            "_view_module_version": "1.2.0",
            "_view_name": "LayoutView",
            "align_content": null,
            "align_items": null,
            "align_self": null,
            "border": null,
            "bottom": null,
            "display": null,
            "flex": null,
            "flex_flow": null,
            "grid_area": null,
            "grid_auto_columns": null,
            "grid_auto_flow": null,
            "grid_auto_rows": null,
            "grid_column": null,
            "grid_gap": null,
            "grid_row": null,
            "grid_template_areas": null,
            "grid_template_columns": null,
            "grid_template_rows": null,
            "height": null,
            "justify_content": null,
            "justify_items": null,
            "left": null,
            "margin": null,
            "max_height": null,
            "max_width": null,
            "min_height": null,
            "min_width": null,
            "object_fit": null,
            "object_position": null,
            "order": null,
            "overflow": null,
            "overflow_x": null,
            "overflow_y": null,
            "padding": null,
            "right": null,
            "top": null,
            "visibility": null,
            "width": null
          }
        },
        "46ad602b3568459da538451c07c6ca55": {
          "model_module": "@jupyter-widgets/base",
          "model_name": "LayoutModel",
          "model_module_version": "1.2.0",
          "state": {
            "_model_module": "@jupyter-widgets/base",
            "_model_module_version": "1.2.0",
            "_model_name": "LayoutModel",
            "_view_count": null,
            "_view_module": "@jupyter-widgets/base",
            "_view_module_version": "1.2.0",
            "_view_name": "LayoutView",
            "align_content": null,
            "align_items": null,
            "align_self": null,
            "border": null,
            "bottom": null,
            "display": null,
            "flex": null,
            "flex_flow": null,
            "grid_area": null,
            "grid_auto_columns": null,
            "grid_auto_flow": null,
            "grid_auto_rows": null,
            "grid_column": null,
            "grid_gap": null,
            "grid_row": null,
            "grid_template_areas": null,
            "grid_template_columns": null,
            "grid_template_rows": null,
            "height": null,
            "justify_content": null,
            "justify_items": null,
            "left": null,
            "margin": null,
            "max_height": null,
            "max_width": null,
            "min_height": null,
            "min_width": null,
            "object_fit": null,
            "object_position": null,
            "order": null,
            "overflow": null,
            "overflow_x": null,
            "overflow_y": null,
            "padding": null,
            "right": null,
            "top": null,
            "visibility": null,
            "width": null
          }
        },
        "511deeb26c044cbda1a7a31896ac12e4": {
          "model_module": "@jupyter-widgets/controls",
          "model_name": "DescriptionStyleModel",
          "model_module_version": "1.5.0",
          "state": {
            "_model_module": "@jupyter-widgets/controls",
            "_model_module_version": "1.5.0",
            "_model_name": "DescriptionStyleModel",
            "_view_count": null,
            "_view_module": "@jupyter-widgets/base",
            "_view_module_version": "1.2.0",
            "_view_name": "StyleView",
            "description_width": ""
          }
        },
        "28be2348ff9c4b77a9bd48805a253f0c": {
          "model_module": "@jupyter-widgets/base",
          "model_name": "LayoutModel",
          "model_module_version": "1.2.0",
          "state": {
            "_model_module": "@jupyter-widgets/base",
            "_model_module_version": "1.2.0",
            "_model_name": "LayoutModel",
            "_view_count": null,
            "_view_module": "@jupyter-widgets/base",
            "_view_module_version": "1.2.0",
            "_view_name": "LayoutView",
            "align_content": null,
            "align_items": null,
            "align_self": null,
            "border": null,
            "bottom": null,
            "display": null,
            "flex": null,
            "flex_flow": null,
            "grid_area": null,
            "grid_auto_columns": null,
            "grid_auto_flow": null,
            "grid_auto_rows": null,
            "grid_column": null,
            "grid_gap": null,
            "grid_row": null,
            "grid_template_areas": null,
            "grid_template_columns": null,
            "grid_template_rows": null,
            "height": null,
            "justify_content": null,
            "justify_items": null,
            "left": null,
            "margin": null,
            "max_height": null,
            "max_width": null,
            "min_height": null,
            "min_width": null,
            "object_fit": null,
            "object_position": null,
            "order": null,
            "overflow": null,
            "overflow_x": null,
            "overflow_y": null,
            "padding": null,
            "right": null,
            "top": null,
            "visibility": null,
            "width": null
          }
        },
        "00769409b2c54b7583f2f7f2a58bdea8": {
          "model_module": "@jupyter-widgets/controls",
          "model_name": "ProgressStyleModel",
          "model_module_version": "1.5.0",
          "state": {
            "_model_module": "@jupyter-widgets/controls",
            "_model_module_version": "1.5.0",
            "_model_name": "ProgressStyleModel",
            "_view_count": null,
            "_view_module": "@jupyter-widgets/base",
            "_view_module_version": "1.2.0",
            "_view_name": "StyleView",
            "bar_color": null,
            "description_width": ""
          }
        },
        "6a4f3621f1c44c128a17790c1185af35": {
          "model_module": "@jupyter-widgets/base",
          "model_name": "LayoutModel",
          "model_module_version": "1.2.0",
          "state": {
            "_model_module": "@jupyter-widgets/base",
            "_model_module_version": "1.2.0",
            "_model_name": "LayoutModel",
            "_view_count": null,
            "_view_module": "@jupyter-widgets/base",
            "_view_module_version": "1.2.0",
            "_view_name": "LayoutView",
            "align_content": null,
            "align_items": null,
            "align_self": null,
            "border": null,
            "bottom": null,
            "display": null,
            "flex": null,
            "flex_flow": null,
            "grid_area": null,
            "grid_auto_columns": null,
            "grid_auto_flow": null,
            "grid_auto_rows": null,
            "grid_column": null,
            "grid_gap": null,
            "grid_row": null,
            "grid_template_areas": null,
            "grid_template_columns": null,
            "grid_template_rows": null,
            "height": null,
            "justify_content": null,
            "justify_items": null,
            "left": null,
            "margin": null,
            "max_height": null,
            "max_width": null,
            "min_height": null,
            "min_width": null,
            "object_fit": null,
            "object_position": null,
            "order": null,
            "overflow": null,
            "overflow_x": null,
            "overflow_y": null,
            "padding": null,
            "right": null,
            "top": null,
            "visibility": null,
            "width": null
          }
        },
        "6490e4450ace40cdae23be196bbd8c70": {
          "model_module": "@jupyter-widgets/controls",
          "model_name": "DescriptionStyleModel",
          "model_module_version": "1.5.0",
          "state": {
            "_model_module": "@jupyter-widgets/controls",
            "_model_module_version": "1.5.0",
            "_model_name": "DescriptionStyleModel",
            "_view_count": null,
            "_view_module": "@jupyter-widgets/base",
            "_view_module_version": "1.2.0",
            "_view_name": "StyleView",
            "description_width": ""
          }
        },
        "4e2b23a01bff406aa701c7efcfe8c859": {
          "model_module": "@jupyter-widgets/controls",
          "model_name": "HBoxModel",
          "model_module_version": "1.5.0",
          "state": {
            "_dom_classes": [],
            "_model_module": "@jupyter-widgets/controls",
            "_model_module_version": "1.5.0",
            "_model_name": "HBoxModel",
            "_view_count": null,
            "_view_module": "@jupyter-widgets/controls",
            "_view_module_version": "1.5.0",
            "_view_name": "HBoxView",
            "box_style": "",
            "children": [
              "IPY_MODEL_1fe3430016dd44a197c6fb4e435f2b62",
              "IPY_MODEL_9a100a8e072a4e2fbc87585e46a029d2",
              "IPY_MODEL_b0e7dac8f3e546729e18b14614c4dc48"
            ],
            "layout": "IPY_MODEL_b16189a2d1a64c6db7dfe5ac09706fc3"
          }
        },
        "1fe3430016dd44a197c6fb4e435f2b62": {
          "model_module": "@jupyter-widgets/controls",
          "model_name": "HTMLModel",
          "model_module_version": "1.5.0",
          "state": {
            "_dom_classes": [],
            "_model_module": "@jupyter-widgets/controls",
            "_model_module_version": "1.5.0",
            "_model_name": "HTMLModel",
            "_view_count": null,
            "_view_module": "@jupyter-widgets/controls",
            "_view_module_version": "1.5.0",
            "_view_name": "HTMLView",
            "description": "",
            "description_tooltip": null,
            "layout": "IPY_MODEL_2bba3cfb159944e8a8ca550c50afe204",
            "placeholder": "​",
            "style": "IPY_MODEL_556b941fb59949f78b1224d02515a3ca",
            "value": "Epochs 3/5. Running Loss:    0.6342: 100%"
          }
        },
        "9a100a8e072a4e2fbc87585e46a029d2": {
          "model_module": "@jupyter-widgets/controls",
          "model_name": "FloatProgressModel",
          "model_module_version": "1.5.0",
          "state": {
            "_dom_classes": [],
            "_model_module": "@jupyter-widgets/controls",
            "_model_module_version": "1.5.0",
            "_model_name": "FloatProgressModel",
            "_view_count": null,
            "_view_module": "@jupyter-widgets/controls",
            "_view_module_version": "1.5.0",
            "_view_name": "ProgressView",
            "bar_style": "success",
            "description": "",
            "description_tooltip": null,
            "layout": "IPY_MODEL_4108ce63ab244edfbf208474b5cc034d",
            "max": 400,
            "min": 0,
            "orientation": "horizontal",
            "style": "IPY_MODEL_0b5214f0998d43479c531b11e260b545",
            "value": 400
          }
        },
        "b0e7dac8f3e546729e18b14614c4dc48": {
          "model_module": "@jupyter-widgets/controls",
          "model_name": "HTMLModel",
          "model_module_version": "1.5.0",
          "state": {
            "_dom_classes": [],
            "_model_module": "@jupyter-widgets/controls",
            "_model_module_version": "1.5.0",
            "_model_name": "HTMLModel",
            "_view_count": null,
            "_view_module": "@jupyter-widgets/controls",
            "_view_module_version": "1.5.0",
            "_view_name": "HTMLView",
            "description": "",
            "description_tooltip": null,
            "layout": "IPY_MODEL_f15b8c42f3dd41d1af5ae5ef90814a1c",
            "placeholder": "​",
            "style": "IPY_MODEL_19acb31c58c94a92af9ffcdac1b59b8b",
            "value": " 400/400 [00:53&lt;00:00,  7.39it/s]"
          }
        },
        "b16189a2d1a64c6db7dfe5ac09706fc3": {
          "model_module": "@jupyter-widgets/base",
          "model_name": "LayoutModel",
          "model_module_version": "1.2.0",
          "state": {
            "_model_module": "@jupyter-widgets/base",
            "_model_module_version": "1.2.0",
            "_model_name": "LayoutModel",
            "_view_count": null,
            "_view_module": "@jupyter-widgets/base",
            "_view_module_version": "1.2.0",
            "_view_name": "LayoutView",
            "align_content": null,
            "align_items": null,
            "align_self": null,
            "border": null,
            "bottom": null,
            "display": null,
            "flex": null,
            "flex_flow": null,
            "grid_area": null,
            "grid_auto_columns": null,
            "grid_auto_flow": null,
            "grid_auto_rows": null,
            "grid_column": null,
            "grid_gap": null,
            "grid_row": null,
            "grid_template_areas": null,
            "grid_template_columns": null,
            "grid_template_rows": null,
            "height": null,
            "justify_content": null,
            "justify_items": null,
            "left": null,
            "margin": null,
            "max_height": null,
            "max_width": null,
            "min_height": null,
            "min_width": null,
            "object_fit": null,
            "object_position": null,
            "order": null,
            "overflow": null,
            "overflow_x": null,
            "overflow_y": null,
            "padding": null,
            "right": null,
            "top": null,
            "visibility": null,
            "width": null
          }
        },
        "2bba3cfb159944e8a8ca550c50afe204": {
          "model_module": "@jupyter-widgets/base",
          "model_name": "LayoutModel",
          "model_module_version": "1.2.0",
          "state": {
            "_model_module": "@jupyter-widgets/base",
            "_model_module_version": "1.2.0",
            "_model_name": "LayoutModel",
            "_view_count": null,
            "_view_module": "@jupyter-widgets/base",
            "_view_module_version": "1.2.0",
            "_view_name": "LayoutView",
            "align_content": null,
            "align_items": null,
            "align_self": null,
            "border": null,
            "bottom": null,
            "display": null,
            "flex": null,
            "flex_flow": null,
            "grid_area": null,
            "grid_auto_columns": null,
            "grid_auto_flow": null,
            "grid_auto_rows": null,
            "grid_column": null,
            "grid_gap": null,
            "grid_row": null,
            "grid_template_areas": null,
            "grid_template_columns": null,
            "grid_template_rows": null,
            "height": null,
            "justify_content": null,
            "justify_items": null,
            "left": null,
            "margin": null,
            "max_height": null,
            "max_width": null,
            "min_height": null,
            "min_width": null,
            "object_fit": null,
            "object_position": null,
            "order": null,
            "overflow": null,
            "overflow_x": null,
            "overflow_y": null,
            "padding": null,
            "right": null,
            "top": null,
            "visibility": null,
            "width": null
          }
        },
        "556b941fb59949f78b1224d02515a3ca": {
          "model_module": "@jupyter-widgets/controls",
          "model_name": "DescriptionStyleModel",
          "model_module_version": "1.5.0",
          "state": {
            "_model_module": "@jupyter-widgets/controls",
            "_model_module_version": "1.5.0",
            "_model_name": "DescriptionStyleModel",
            "_view_count": null,
            "_view_module": "@jupyter-widgets/base",
            "_view_module_version": "1.2.0",
            "_view_name": "StyleView",
            "description_width": ""
          }
        },
        "4108ce63ab244edfbf208474b5cc034d": {
          "model_module": "@jupyter-widgets/base",
          "model_name": "LayoutModel",
          "model_module_version": "1.2.0",
          "state": {
            "_model_module": "@jupyter-widgets/base",
            "_model_module_version": "1.2.0",
            "_model_name": "LayoutModel",
            "_view_count": null,
            "_view_module": "@jupyter-widgets/base",
            "_view_module_version": "1.2.0",
            "_view_name": "LayoutView",
            "align_content": null,
            "align_items": null,
            "align_self": null,
            "border": null,
            "bottom": null,
            "display": null,
            "flex": null,
            "flex_flow": null,
            "grid_area": null,
            "grid_auto_columns": null,
            "grid_auto_flow": null,
            "grid_auto_rows": null,
            "grid_column": null,
            "grid_gap": null,
            "grid_row": null,
            "grid_template_areas": null,
            "grid_template_columns": null,
            "grid_template_rows": null,
            "height": null,
            "justify_content": null,
            "justify_items": null,
            "left": null,
            "margin": null,
            "max_height": null,
            "max_width": null,
            "min_height": null,
            "min_width": null,
            "object_fit": null,
            "object_position": null,
            "order": null,
            "overflow": null,
            "overflow_x": null,
            "overflow_y": null,
            "padding": null,
            "right": null,
            "top": null,
            "visibility": null,
            "width": null
          }
        },
        "0b5214f0998d43479c531b11e260b545": {
          "model_module": "@jupyter-widgets/controls",
          "model_name": "ProgressStyleModel",
          "model_module_version": "1.5.0",
          "state": {
            "_model_module": "@jupyter-widgets/controls",
            "_model_module_version": "1.5.0",
            "_model_name": "ProgressStyleModel",
            "_view_count": null,
            "_view_module": "@jupyter-widgets/base",
            "_view_module_version": "1.2.0",
            "_view_name": "StyleView",
            "bar_color": null,
            "description_width": ""
          }
        },
        "f15b8c42f3dd41d1af5ae5ef90814a1c": {
          "model_module": "@jupyter-widgets/base",
          "model_name": "LayoutModel",
          "model_module_version": "1.2.0",
          "state": {
            "_model_module": "@jupyter-widgets/base",
            "_model_module_version": "1.2.0",
            "_model_name": "LayoutModel",
            "_view_count": null,
            "_view_module": "@jupyter-widgets/base",
            "_view_module_version": "1.2.0",
            "_view_name": "LayoutView",
            "align_content": null,
            "align_items": null,
            "align_self": null,
            "border": null,
            "bottom": null,
            "display": null,
            "flex": null,
            "flex_flow": null,
            "grid_area": null,
            "grid_auto_columns": null,
            "grid_auto_flow": null,
            "grid_auto_rows": null,
            "grid_column": null,
            "grid_gap": null,
            "grid_row": null,
            "grid_template_areas": null,
            "grid_template_columns": null,
            "grid_template_rows": null,
            "height": null,
            "justify_content": null,
            "justify_items": null,
            "left": null,
            "margin": null,
            "max_height": null,
            "max_width": null,
            "min_height": null,
            "min_width": null,
            "object_fit": null,
            "object_position": null,
            "order": null,
            "overflow": null,
            "overflow_x": null,
            "overflow_y": null,
            "padding": null,
            "right": null,
            "top": null,
            "visibility": null,
            "width": null
          }
        },
        "19acb31c58c94a92af9ffcdac1b59b8b": {
          "model_module": "@jupyter-widgets/controls",
          "model_name": "DescriptionStyleModel",
          "model_module_version": "1.5.0",
          "state": {
            "_model_module": "@jupyter-widgets/controls",
            "_model_module_version": "1.5.0",
            "_model_name": "DescriptionStyleModel",
            "_view_count": null,
            "_view_module": "@jupyter-widgets/base",
            "_view_module_version": "1.2.0",
            "_view_name": "StyleView",
            "description_width": ""
          }
        },
        "d42177c2b72a409b907494ca2ebd7a7f": {
          "model_module": "@jupyter-widgets/controls",
          "model_name": "HBoxModel",
          "model_module_version": "1.5.0",
          "state": {
            "_dom_classes": [],
            "_model_module": "@jupyter-widgets/controls",
            "_model_module_version": "1.5.0",
            "_model_name": "HBoxModel",
            "_view_count": null,
            "_view_module": "@jupyter-widgets/controls",
            "_view_module_version": "1.5.0",
            "_view_name": "HBoxView",
            "box_style": "",
            "children": [
              "IPY_MODEL_043c18560b6545528212241e5a928907",
              "IPY_MODEL_d87aa02a71134fffbd964a06225652e7",
              "IPY_MODEL_298c598aca77466aa8dbfc5f7e7f33fa"
            ],
            "layout": "IPY_MODEL_a2e0b2ffc3c246bdbaf17505f9e4daa0"
          }
        },
        "043c18560b6545528212241e5a928907": {
          "model_module": "@jupyter-widgets/controls",
          "model_name": "HTMLModel",
          "model_module_version": "1.5.0",
          "state": {
            "_dom_classes": [],
            "_model_module": "@jupyter-widgets/controls",
            "_model_module_version": "1.5.0",
            "_model_name": "HTMLModel",
            "_view_count": null,
            "_view_module": "@jupyter-widgets/controls",
            "_view_module_version": "1.5.0",
            "_view_name": "HTMLView",
            "description": "",
            "description_tooltip": null,
            "layout": "IPY_MODEL_a125eaa2edf2419092affe7682a7cdca",
            "placeholder": "​",
            "style": "IPY_MODEL_84206943c08c490899cc06080cff5f54",
            "value": "Epochs 4/5. Running Loss:    0.4908: 100%"
          }
        },
        "d87aa02a71134fffbd964a06225652e7": {
          "model_module": "@jupyter-widgets/controls",
          "model_name": "FloatProgressModel",
          "model_module_version": "1.5.0",
          "state": {
            "_dom_classes": [],
            "_model_module": "@jupyter-widgets/controls",
            "_model_module_version": "1.5.0",
            "_model_name": "FloatProgressModel",
            "_view_count": null,
            "_view_module": "@jupyter-widgets/controls",
            "_view_module_version": "1.5.0",
            "_view_name": "ProgressView",
            "bar_style": "success",
            "description": "",
            "description_tooltip": null,
            "layout": "IPY_MODEL_6c1811e512b04b72bf82a06db7ebf08c",
            "max": 400,
            "min": 0,
            "orientation": "horizontal",
            "style": "IPY_MODEL_bbd3ac0d72ea4d0aa3daf514f86a1f7c",
            "value": 400
          }
        },
        "298c598aca77466aa8dbfc5f7e7f33fa": {
          "model_module": "@jupyter-widgets/controls",
          "model_name": "HTMLModel",
          "model_module_version": "1.5.0",
          "state": {
            "_dom_classes": [],
            "_model_module": "@jupyter-widgets/controls",
            "_model_module_version": "1.5.0",
            "_model_name": "HTMLModel",
            "_view_count": null,
            "_view_module": "@jupyter-widgets/controls",
            "_view_module_version": "1.5.0",
            "_view_name": "HTMLView",
            "description": "",
            "description_tooltip": null,
            "layout": "IPY_MODEL_2fb0223b62fd494baa7c408fa334d3a4",
            "placeholder": "​",
            "style": "IPY_MODEL_e67e9b37f9fc429cb31ba77e159cf081",
            "value": " 400/400 [00:54&lt;00:00,  7.54it/s]"
          }
        },
        "a2e0b2ffc3c246bdbaf17505f9e4daa0": {
          "model_module": "@jupyter-widgets/base",
          "model_name": "LayoutModel",
          "model_module_version": "1.2.0",
          "state": {
            "_model_module": "@jupyter-widgets/base",
            "_model_module_version": "1.2.0",
            "_model_name": "LayoutModel",
            "_view_count": null,
            "_view_module": "@jupyter-widgets/base",
            "_view_module_version": "1.2.0",
            "_view_name": "LayoutView",
            "align_content": null,
            "align_items": null,
            "align_self": null,
            "border": null,
            "bottom": null,
            "display": null,
            "flex": null,
            "flex_flow": null,
            "grid_area": null,
            "grid_auto_columns": null,
            "grid_auto_flow": null,
            "grid_auto_rows": null,
            "grid_column": null,
            "grid_gap": null,
            "grid_row": null,
            "grid_template_areas": null,
            "grid_template_columns": null,
            "grid_template_rows": null,
            "height": null,
            "justify_content": null,
            "justify_items": null,
            "left": null,
            "margin": null,
            "max_height": null,
            "max_width": null,
            "min_height": null,
            "min_width": null,
            "object_fit": null,
            "object_position": null,
            "order": null,
            "overflow": null,
            "overflow_x": null,
            "overflow_y": null,
            "padding": null,
            "right": null,
            "top": null,
            "visibility": null,
            "width": null
          }
        },
        "a125eaa2edf2419092affe7682a7cdca": {
          "model_module": "@jupyter-widgets/base",
          "model_name": "LayoutModel",
          "model_module_version": "1.2.0",
          "state": {
            "_model_module": "@jupyter-widgets/base",
            "_model_module_version": "1.2.0",
            "_model_name": "LayoutModel",
            "_view_count": null,
            "_view_module": "@jupyter-widgets/base",
            "_view_module_version": "1.2.0",
            "_view_name": "LayoutView",
            "align_content": null,
            "align_items": null,
            "align_self": null,
            "border": null,
            "bottom": null,
            "display": null,
            "flex": null,
            "flex_flow": null,
            "grid_area": null,
            "grid_auto_columns": null,
            "grid_auto_flow": null,
            "grid_auto_rows": null,
            "grid_column": null,
            "grid_gap": null,
            "grid_row": null,
            "grid_template_areas": null,
            "grid_template_columns": null,
            "grid_template_rows": null,
            "height": null,
            "justify_content": null,
            "justify_items": null,
            "left": null,
            "margin": null,
            "max_height": null,
            "max_width": null,
            "min_height": null,
            "min_width": null,
            "object_fit": null,
            "object_position": null,
            "order": null,
            "overflow": null,
            "overflow_x": null,
            "overflow_y": null,
            "padding": null,
            "right": null,
            "top": null,
            "visibility": null,
            "width": null
          }
        },
        "84206943c08c490899cc06080cff5f54": {
          "model_module": "@jupyter-widgets/controls",
          "model_name": "DescriptionStyleModel",
          "model_module_version": "1.5.0",
          "state": {
            "_model_module": "@jupyter-widgets/controls",
            "_model_module_version": "1.5.0",
            "_model_name": "DescriptionStyleModel",
            "_view_count": null,
            "_view_module": "@jupyter-widgets/base",
            "_view_module_version": "1.2.0",
            "_view_name": "StyleView",
            "description_width": ""
          }
        },
        "6c1811e512b04b72bf82a06db7ebf08c": {
          "model_module": "@jupyter-widgets/base",
          "model_name": "LayoutModel",
          "model_module_version": "1.2.0",
          "state": {
            "_model_module": "@jupyter-widgets/base",
            "_model_module_version": "1.2.0",
            "_model_name": "LayoutModel",
            "_view_count": null,
            "_view_module": "@jupyter-widgets/base",
            "_view_module_version": "1.2.0",
            "_view_name": "LayoutView",
            "align_content": null,
            "align_items": null,
            "align_self": null,
            "border": null,
            "bottom": null,
            "display": null,
            "flex": null,
            "flex_flow": null,
            "grid_area": null,
            "grid_auto_columns": null,
            "grid_auto_flow": null,
            "grid_auto_rows": null,
            "grid_column": null,
            "grid_gap": null,
            "grid_row": null,
            "grid_template_areas": null,
            "grid_template_columns": null,
            "grid_template_rows": null,
            "height": null,
            "justify_content": null,
            "justify_items": null,
            "left": null,
            "margin": null,
            "max_height": null,
            "max_width": null,
            "min_height": null,
            "min_width": null,
            "object_fit": null,
            "object_position": null,
            "order": null,
            "overflow": null,
            "overflow_x": null,
            "overflow_y": null,
            "padding": null,
            "right": null,
            "top": null,
            "visibility": null,
            "width": null
          }
        },
        "bbd3ac0d72ea4d0aa3daf514f86a1f7c": {
          "model_module": "@jupyter-widgets/controls",
          "model_name": "ProgressStyleModel",
          "model_module_version": "1.5.0",
          "state": {
            "_model_module": "@jupyter-widgets/controls",
            "_model_module_version": "1.5.0",
            "_model_name": "ProgressStyleModel",
            "_view_count": null,
            "_view_module": "@jupyter-widgets/base",
            "_view_module_version": "1.2.0",
            "_view_name": "StyleView",
            "bar_color": null,
            "description_width": ""
          }
        },
        "2fb0223b62fd494baa7c408fa334d3a4": {
          "model_module": "@jupyter-widgets/base",
          "model_name": "LayoutModel",
          "model_module_version": "1.2.0",
          "state": {
            "_model_module": "@jupyter-widgets/base",
            "_model_module_version": "1.2.0",
            "_model_name": "LayoutModel",
            "_view_count": null,
            "_view_module": "@jupyter-widgets/base",
            "_view_module_version": "1.2.0",
            "_view_name": "LayoutView",
            "align_content": null,
            "align_items": null,
            "align_self": null,
            "border": null,
            "bottom": null,
            "display": null,
            "flex": null,
            "flex_flow": null,
            "grid_area": null,
            "grid_auto_columns": null,
            "grid_auto_flow": null,
            "grid_auto_rows": null,
            "grid_column": null,
            "grid_gap": null,
            "grid_row": null,
            "grid_template_areas": null,
            "grid_template_columns": null,
            "grid_template_rows": null,
            "height": null,
            "justify_content": null,
            "justify_items": null,
            "left": null,
            "margin": null,
            "max_height": null,
            "max_width": null,
            "min_height": null,
            "min_width": null,
            "object_fit": null,
            "object_position": null,
            "order": null,
            "overflow": null,
            "overflow_x": null,
            "overflow_y": null,
            "padding": null,
            "right": null,
            "top": null,
            "visibility": null,
            "width": null
          }
        },
        "e67e9b37f9fc429cb31ba77e159cf081": {
          "model_module": "@jupyter-widgets/controls",
          "model_name": "DescriptionStyleModel",
          "model_module_version": "1.5.0",
          "state": {
            "_model_module": "@jupyter-widgets/controls",
            "_model_module_version": "1.5.0",
            "_model_name": "DescriptionStyleModel",
            "_view_count": null,
            "_view_module": "@jupyter-widgets/base",
            "_view_module_version": "1.2.0",
            "_view_name": "StyleView",
            "description_width": ""
          }
        },
        "3908fad99aae4cca97cc58a76d058f67": {
          "model_module": "@jupyter-widgets/controls",
          "model_name": "HBoxModel",
          "model_module_version": "1.5.0",
          "state": {
            "_dom_classes": [],
            "_model_module": "@jupyter-widgets/controls",
            "_model_module_version": "1.5.0",
            "_model_name": "HBoxModel",
            "_view_count": null,
            "_view_module": "@jupyter-widgets/controls",
            "_view_module_version": "1.5.0",
            "_view_name": "HBoxView",
            "box_style": "",
            "children": [
              "IPY_MODEL_3b7add3b71334b51b9f810eea22de243",
              "IPY_MODEL_92e9d98909584e0286876c3897da0c1d",
              "IPY_MODEL_db70f3cf03da4cf79fb77105f807c50d"
            ],
            "layout": "IPY_MODEL_2db116a30c224fec8f052303037da705"
          }
        },
        "3b7add3b71334b51b9f810eea22de243": {
          "model_module": "@jupyter-widgets/controls",
          "model_name": "HTMLModel",
          "model_module_version": "1.5.0",
          "state": {
            "_dom_classes": [],
            "_model_module": "@jupyter-widgets/controls",
            "_model_module_version": "1.5.0",
            "_model_name": "HTMLModel",
            "_view_count": null,
            "_view_module": "@jupyter-widgets/controls",
            "_view_module_version": "1.5.0",
            "_view_name": "HTMLView",
            "description": "",
            "description_tooltip": null,
            "layout": "IPY_MODEL_240ac7c3d8ac42de91586b08fe133be0",
            "placeholder": "​",
            "style": "IPY_MODEL_a52e738d27a54f1597a470e929dfb4c6",
            "value": "Epochs 5/5. Running Loss:    0.4075: 100%"
          }
        },
        "92e9d98909584e0286876c3897da0c1d": {
          "model_module": "@jupyter-widgets/controls",
          "model_name": "FloatProgressModel",
          "model_module_version": "1.5.0",
          "state": {
            "_dom_classes": [],
            "_model_module": "@jupyter-widgets/controls",
            "_model_module_version": "1.5.0",
            "_model_name": "FloatProgressModel",
            "_view_count": null,
            "_view_module": "@jupyter-widgets/controls",
            "_view_module_version": "1.5.0",
            "_view_name": "ProgressView",
            "bar_style": "success",
            "description": "",
            "description_tooltip": null,
            "layout": "IPY_MODEL_7de24ac1db7e475d8344aa39dced4414",
            "max": 400,
            "min": 0,
            "orientation": "horizontal",
            "style": "IPY_MODEL_3bef298fb47f4236a1bc7830eab27d6b",
            "value": 400
          }
        },
        "db70f3cf03da4cf79fb77105f807c50d": {
          "model_module": "@jupyter-widgets/controls",
          "model_name": "HTMLModel",
          "model_module_version": "1.5.0",
          "state": {
            "_dom_classes": [],
            "_model_module": "@jupyter-widgets/controls",
            "_model_module_version": "1.5.0",
            "_model_name": "HTMLModel",
            "_view_count": null,
            "_view_module": "@jupyter-widgets/controls",
            "_view_module_version": "1.5.0",
            "_view_name": "HTMLView",
            "description": "",
            "description_tooltip": null,
            "layout": "IPY_MODEL_76c701b45e814fc6a8b8b38db7b5a69f",
            "placeholder": "​",
            "style": "IPY_MODEL_968674e7562e4fc1a2b660cf16c1b692",
            "value": " 400/400 [01:04&lt;00:00,  3.30s/it]"
          }
        },
        "2db116a30c224fec8f052303037da705": {
          "model_module": "@jupyter-widgets/base",
          "model_name": "LayoutModel",
          "model_module_version": "1.2.0",
          "state": {
            "_model_module": "@jupyter-widgets/base",
            "_model_module_version": "1.2.0",
            "_model_name": "LayoutModel",
            "_view_count": null,
            "_view_module": "@jupyter-widgets/base",
            "_view_module_version": "1.2.0",
            "_view_name": "LayoutView",
            "align_content": null,
            "align_items": null,
            "align_self": null,
            "border": null,
            "bottom": null,
            "display": null,
            "flex": null,
            "flex_flow": null,
            "grid_area": null,
            "grid_auto_columns": null,
            "grid_auto_flow": null,
            "grid_auto_rows": null,
            "grid_column": null,
            "grid_gap": null,
            "grid_row": null,
            "grid_template_areas": null,
            "grid_template_columns": null,
            "grid_template_rows": null,
            "height": null,
            "justify_content": null,
            "justify_items": null,
            "left": null,
            "margin": null,
            "max_height": null,
            "max_width": null,
            "min_height": null,
            "min_width": null,
            "object_fit": null,
            "object_position": null,
            "order": null,
            "overflow": null,
            "overflow_x": null,
            "overflow_y": null,
            "padding": null,
            "right": null,
            "top": null,
            "visibility": null,
            "width": null
          }
        },
        "240ac7c3d8ac42de91586b08fe133be0": {
          "model_module": "@jupyter-widgets/base",
          "model_name": "LayoutModel",
          "model_module_version": "1.2.0",
          "state": {
            "_model_module": "@jupyter-widgets/base",
            "_model_module_version": "1.2.0",
            "_model_name": "LayoutModel",
            "_view_count": null,
            "_view_module": "@jupyter-widgets/base",
            "_view_module_version": "1.2.0",
            "_view_name": "LayoutView",
            "align_content": null,
            "align_items": null,
            "align_self": null,
            "border": null,
            "bottom": null,
            "display": null,
            "flex": null,
            "flex_flow": null,
            "grid_area": null,
            "grid_auto_columns": null,
            "grid_auto_flow": null,
            "grid_auto_rows": null,
            "grid_column": null,
            "grid_gap": null,
            "grid_row": null,
            "grid_template_areas": null,
            "grid_template_columns": null,
            "grid_template_rows": null,
            "height": null,
            "justify_content": null,
            "justify_items": null,
            "left": null,
            "margin": null,
            "max_height": null,
            "max_width": null,
            "min_height": null,
            "min_width": null,
            "object_fit": null,
            "object_position": null,
            "order": null,
            "overflow": null,
            "overflow_x": null,
            "overflow_y": null,
            "padding": null,
            "right": null,
            "top": null,
            "visibility": null,
            "width": null
          }
        },
        "a52e738d27a54f1597a470e929dfb4c6": {
          "model_module": "@jupyter-widgets/controls",
          "model_name": "DescriptionStyleModel",
          "model_module_version": "1.5.0",
          "state": {
            "_model_module": "@jupyter-widgets/controls",
            "_model_module_version": "1.5.0",
            "_model_name": "DescriptionStyleModel",
            "_view_count": null,
            "_view_module": "@jupyter-widgets/base",
            "_view_module_version": "1.2.0",
            "_view_name": "StyleView",
            "description_width": ""
          }
        },
        "7de24ac1db7e475d8344aa39dced4414": {
          "model_module": "@jupyter-widgets/base",
          "model_name": "LayoutModel",
          "model_module_version": "1.2.0",
          "state": {
            "_model_module": "@jupyter-widgets/base",
            "_model_module_version": "1.2.0",
            "_model_name": "LayoutModel",
            "_view_count": null,
            "_view_module": "@jupyter-widgets/base",
            "_view_module_version": "1.2.0",
            "_view_name": "LayoutView",
            "align_content": null,
            "align_items": null,
            "align_self": null,
            "border": null,
            "bottom": null,
            "display": null,
            "flex": null,
            "flex_flow": null,
            "grid_area": null,
            "grid_auto_columns": null,
            "grid_auto_flow": null,
            "grid_auto_rows": null,
            "grid_column": null,
            "grid_gap": null,
            "grid_row": null,
            "grid_template_areas": null,
            "grid_template_columns": null,
            "grid_template_rows": null,
            "height": null,
            "justify_content": null,
            "justify_items": null,
            "left": null,
            "margin": null,
            "max_height": null,
            "max_width": null,
            "min_height": null,
            "min_width": null,
            "object_fit": null,
            "object_position": null,
            "order": null,
            "overflow": null,
            "overflow_x": null,
            "overflow_y": null,
            "padding": null,
            "right": null,
            "top": null,
            "visibility": null,
            "width": null
          }
        },
        "3bef298fb47f4236a1bc7830eab27d6b": {
          "model_module": "@jupyter-widgets/controls",
          "model_name": "ProgressStyleModel",
          "model_module_version": "1.5.0",
          "state": {
            "_model_module": "@jupyter-widgets/controls",
            "_model_module_version": "1.5.0",
            "_model_name": "ProgressStyleModel",
            "_view_count": null,
            "_view_module": "@jupyter-widgets/base",
            "_view_module_version": "1.2.0",
            "_view_name": "StyleView",
            "bar_color": null,
            "description_width": ""
          }
        },
        "76c701b45e814fc6a8b8b38db7b5a69f": {
          "model_module": "@jupyter-widgets/base",
          "model_name": "LayoutModel",
          "model_module_version": "1.2.0",
          "state": {
            "_model_module": "@jupyter-widgets/base",
            "_model_module_version": "1.2.0",
            "_model_name": "LayoutModel",
            "_view_count": null,
            "_view_module": "@jupyter-widgets/base",
            "_view_module_version": "1.2.0",
            "_view_name": "LayoutView",
            "align_content": null,
            "align_items": null,
            "align_self": null,
            "border": null,
            "bottom": null,
            "display": null,
            "flex": null,
            "flex_flow": null,
            "grid_area": null,
            "grid_auto_columns": null,
            "grid_auto_flow": null,
            "grid_auto_rows": null,
            "grid_column": null,
            "grid_gap": null,
            "grid_row": null,
            "grid_template_areas": null,
            "grid_template_columns": null,
            "grid_template_rows": null,
            "height": null,
            "justify_content": null,
            "justify_items": null,
            "left": null,
            "margin": null,
            "max_height": null,
            "max_width": null,
            "min_height": null,
            "min_width": null,
            "object_fit": null,
            "object_position": null,
            "order": null,
            "overflow": null,
            "overflow_x": null,
            "overflow_y": null,
            "padding": null,
            "right": null,
            "top": null,
            "visibility": null,
            "width": null
          }
        },
        "968674e7562e4fc1a2b660cf16c1b692": {
          "model_module": "@jupyter-widgets/controls",
          "model_name": "DescriptionStyleModel",
          "model_module_version": "1.5.0",
          "state": {
            "_model_module": "@jupyter-widgets/controls",
            "_model_module_version": "1.5.0",
            "_model_name": "DescriptionStyleModel",
            "_view_count": null,
            "_view_module": "@jupyter-widgets/base",
            "_view_module_version": "1.2.0",
            "_view_name": "StyleView",
            "description_width": ""
          }
        },
        "f373f6e8343b48e2a2fe39ff8309edd9": {
          "model_module": "@jupyter-widgets/controls",
          "model_name": "HBoxModel",
          "model_module_version": "1.5.0",
          "state": {
            "_dom_classes": [],
            "_model_module": "@jupyter-widgets/controls",
            "_model_module_version": "1.5.0",
            "_model_name": "HBoxModel",
            "_view_count": null,
            "_view_module": "@jupyter-widgets/controls",
            "_view_module_version": "1.5.0",
            "_view_name": "HBoxView",
            "box_style": "",
            "children": [
              "IPY_MODEL_525da94d400a4ed29678560a7988bdc6",
              "IPY_MODEL_68f5871f1d8742208a29a8015be76f42",
              "IPY_MODEL_0e039cb6925b479d9ef4f6f4120839b4"
            ],
            "layout": "IPY_MODEL_fba5efe6f3c9410ab6bc723be77c54b9"
          }
        },
        "525da94d400a4ed29678560a7988bdc6": {
          "model_module": "@jupyter-widgets/controls",
          "model_name": "HTMLModel",
          "model_module_version": "1.5.0",
          "state": {
            "_dom_classes": [],
            "_model_module": "@jupyter-widgets/controls",
            "_model_module_version": "1.5.0",
            "_model_name": "HTMLModel",
            "_view_count": null,
            "_view_module": "@jupyter-widgets/controls",
            "_view_module_version": "1.5.0",
            "_view_name": "HTMLView",
            "description": "",
            "description_tooltip": null,
            "layout": "IPY_MODEL_f9f0560a083644018aa18108d61febf7",
            "placeholder": "​",
            "style": "IPY_MODEL_4c47702cfae44cffb5a6e2364af38055",
            "value": ""
          }
        },
        "68f5871f1d8742208a29a8015be76f42": {
          "model_module": "@jupyter-widgets/controls",
          "model_name": "FloatProgressModel",
          "model_module_version": "1.5.0",
          "state": {
            "_dom_classes": [],
            "_model_module": "@jupyter-widgets/controls",
            "_model_module_version": "1.5.0",
            "_model_name": "FloatProgressModel",
            "_view_count": null,
            "_view_module": "@jupyter-widgets/controls",
            "_view_module_version": "1.5.0",
            "_view_name": "ProgressView",
            "bar_style": "success",
            "description": "",
            "description_tooltip": null,
            "layout": "IPY_MODEL_26ce93cef49d4ac787ebd71570ef6dea",
            "max": 1,
            "min": 0,
            "orientation": "horizontal",
            "style": "IPY_MODEL_1ff20678eaec4da394ecc71eb920ac68",
            "value": 1
          }
        },
        "0e039cb6925b479d9ef4f6f4120839b4": {
          "model_module": "@jupyter-widgets/controls",
          "model_name": "HTMLModel",
          "model_module_version": "1.5.0",
          "state": {
            "_dom_classes": [],
            "_model_module": "@jupyter-widgets/controls",
            "_model_module_version": "1.5.0",
            "_model_name": "HTMLModel",
            "_view_count": null,
            "_view_module": "@jupyter-widgets/controls",
            "_view_module_version": "1.5.0",
            "_view_name": "HTMLView",
            "description": "",
            "description_tooltip": null,
            "layout": "IPY_MODEL_6232741dc4614c0993cf9a28dc127879",
            "placeholder": "​",
            "style": "IPY_MODEL_481f959f26834aad8f9a6ef9650227cd",
            "value": " 2/? [00:02&lt;00:00,  1.36s/it]"
          }
        },
        "fba5efe6f3c9410ab6bc723be77c54b9": {
          "model_module": "@jupyter-widgets/base",
          "model_name": "LayoutModel",
          "model_module_version": "1.2.0",
          "state": {
            "_model_module": "@jupyter-widgets/base",
            "_model_module_version": "1.2.0",
            "_model_name": "LayoutModel",
            "_view_count": null,
            "_view_module": "@jupyter-widgets/base",
            "_view_module_version": "1.2.0",
            "_view_name": "LayoutView",
            "align_content": null,
            "align_items": null,
            "align_self": null,
            "border": null,
            "bottom": null,
            "display": null,
            "flex": null,
            "flex_flow": null,
            "grid_area": null,
            "grid_auto_columns": null,
            "grid_auto_flow": null,
            "grid_auto_rows": null,
            "grid_column": null,
            "grid_gap": null,
            "grid_row": null,
            "grid_template_areas": null,
            "grid_template_columns": null,
            "grid_template_rows": null,
            "height": null,
            "justify_content": null,
            "justify_items": null,
            "left": null,
            "margin": null,
            "max_height": null,
            "max_width": null,
            "min_height": null,
            "min_width": null,
            "object_fit": null,
            "object_position": null,
            "order": null,
            "overflow": null,
            "overflow_x": null,
            "overflow_y": null,
            "padding": null,
            "right": null,
            "top": null,
            "visibility": null,
            "width": null
          }
        },
        "f9f0560a083644018aa18108d61febf7": {
          "model_module": "@jupyter-widgets/base",
          "model_name": "LayoutModel",
          "model_module_version": "1.2.0",
          "state": {
            "_model_module": "@jupyter-widgets/base",
            "_model_module_version": "1.2.0",
            "_model_name": "LayoutModel",
            "_view_count": null,
            "_view_module": "@jupyter-widgets/base",
            "_view_module_version": "1.2.0",
            "_view_name": "LayoutView",
            "align_content": null,
            "align_items": null,
            "align_self": null,
            "border": null,
            "bottom": null,
            "display": null,
            "flex": null,
            "flex_flow": null,
            "grid_area": null,
            "grid_auto_columns": null,
            "grid_auto_flow": null,
            "grid_auto_rows": null,
            "grid_column": null,
            "grid_gap": null,
            "grid_row": null,
            "grid_template_areas": null,
            "grid_template_columns": null,
            "grid_template_rows": null,
            "height": null,
            "justify_content": null,
            "justify_items": null,
            "left": null,
            "margin": null,
            "max_height": null,
            "max_width": null,
            "min_height": null,
            "min_width": null,
            "object_fit": null,
            "object_position": null,
            "order": null,
            "overflow": null,
            "overflow_x": null,
            "overflow_y": null,
            "padding": null,
            "right": null,
            "top": null,
            "visibility": null,
            "width": null
          }
        },
        "4c47702cfae44cffb5a6e2364af38055": {
          "model_module": "@jupyter-widgets/controls",
          "model_name": "DescriptionStyleModel",
          "model_module_version": "1.5.0",
          "state": {
            "_model_module": "@jupyter-widgets/controls",
            "_model_module_version": "1.5.0",
            "_model_name": "DescriptionStyleModel",
            "_view_count": null,
            "_view_module": "@jupyter-widgets/base",
            "_view_module_version": "1.2.0",
            "_view_name": "StyleView",
            "description_width": ""
          }
        },
        "26ce93cef49d4ac787ebd71570ef6dea": {
          "model_module": "@jupyter-widgets/base",
          "model_name": "LayoutModel",
          "model_module_version": "1.2.0",
          "state": {
            "_model_module": "@jupyter-widgets/base",
            "_model_module_version": "1.2.0",
            "_model_name": "LayoutModel",
            "_view_count": null,
            "_view_module": "@jupyter-widgets/base",
            "_view_module_version": "1.2.0",
            "_view_name": "LayoutView",
            "align_content": null,
            "align_items": null,
            "align_self": null,
            "border": null,
            "bottom": null,
            "display": null,
            "flex": null,
            "flex_flow": null,
            "grid_area": null,
            "grid_auto_columns": null,
            "grid_auto_flow": null,
            "grid_auto_rows": null,
            "grid_column": null,
            "grid_gap": null,
            "grid_row": null,
            "grid_template_areas": null,
            "grid_template_columns": null,
            "grid_template_rows": null,
            "height": null,
            "justify_content": null,
            "justify_items": null,
            "left": null,
            "margin": null,
            "max_height": null,
            "max_width": null,
            "min_height": null,
            "min_width": null,
            "object_fit": null,
            "object_position": null,
            "order": null,
            "overflow": null,
            "overflow_x": null,
            "overflow_y": null,
            "padding": null,
            "right": null,
            "top": null,
            "visibility": null,
            "width": null
          }
        },
        "1ff20678eaec4da394ecc71eb920ac68": {
          "model_module": "@jupyter-widgets/controls",
          "model_name": "ProgressStyleModel",
          "model_module_version": "1.5.0",
          "state": {
            "_model_module": "@jupyter-widgets/controls",
            "_model_module_version": "1.5.0",
            "_model_name": "ProgressStyleModel",
            "_view_count": null,
            "_view_module": "@jupyter-widgets/base",
            "_view_module_version": "1.2.0",
            "_view_name": "StyleView",
            "bar_color": null,
            "description_width": ""
          }
        },
        "6232741dc4614c0993cf9a28dc127879": {
          "model_module": "@jupyter-widgets/base",
          "model_name": "LayoutModel",
          "model_module_version": "1.2.0",
          "state": {
            "_model_module": "@jupyter-widgets/base",
            "_model_module_version": "1.2.0",
            "_model_name": "LayoutModel",
            "_view_count": null,
            "_view_module": "@jupyter-widgets/base",
            "_view_module_version": "1.2.0",
            "_view_name": "LayoutView",
            "align_content": null,
            "align_items": null,
            "align_self": null,
            "border": null,
            "bottom": null,
            "display": null,
            "flex": null,
            "flex_flow": null,
            "grid_area": null,
            "grid_auto_columns": null,
            "grid_auto_flow": null,
            "grid_auto_rows": null,
            "grid_column": null,
            "grid_gap": null,
            "grid_row": null,
            "grid_template_areas": null,
            "grid_template_columns": null,
            "grid_template_rows": null,
            "height": null,
            "justify_content": null,
            "justify_items": null,
            "left": null,
            "margin": null,
            "max_height": null,
            "max_width": null,
            "min_height": null,
            "min_width": null,
            "object_fit": null,
            "object_position": null,
            "order": null,
            "overflow": null,
            "overflow_x": null,
            "overflow_y": null,
            "padding": null,
            "right": null,
            "top": null,
            "visibility": null,
            "width": null
          }
        },
        "481f959f26834aad8f9a6ef9650227cd": {
          "model_module": "@jupyter-widgets/controls",
          "model_name": "DescriptionStyleModel",
          "model_module_version": "1.5.0",
          "state": {
            "_model_module": "@jupyter-widgets/controls",
            "_model_module_version": "1.5.0",
            "_model_name": "DescriptionStyleModel",
            "_view_count": null,
            "_view_module": "@jupyter-widgets/base",
            "_view_module_version": "1.2.0",
            "_view_name": "StyleView",
            "description_width": ""
          }
        },
        "905ff14c19864f6999390a2564f58b0b": {
          "model_module": "@jupyter-widgets/controls",
          "model_name": "HBoxModel",
          "model_module_version": "1.5.0",
          "state": {
            "_dom_classes": [],
            "_model_module": "@jupyter-widgets/controls",
            "_model_module_version": "1.5.0",
            "_model_name": "HBoxModel",
            "_view_count": null,
            "_view_module": "@jupyter-widgets/controls",
            "_view_module_version": "1.5.0",
            "_view_name": "HBoxView",
            "box_style": "",
            "children": [
              "IPY_MODEL_105ee732cdd0410e8bb445e04c9048fa",
              "IPY_MODEL_d73af82d88b24b7887ae9fa3179ec9a7",
              "IPY_MODEL_f140004606ed474484f32c105dac17bd"
            ],
            "layout": "IPY_MODEL_b7c47a3aa7c8402da9b1462cfdbfa353"
          }
        },
        "105ee732cdd0410e8bb445e04c9048fa": {
          "model_module": "@jupyter-widgets/controls",
          "model_name": "HTMLModel",
          "model_module_version": "1.5.0",
          "state": {
            "_dom_classes": [],
            "_model_module": "@jupyter-widgets/controls",
            "_model_module_version": "1.5.0",
            "_model_name": "HTMLModel",
            "_view_count": null,
            "_view_module": "@jupyter-widgets/controls",
            "_view_module_version": "1.5.0",
            "_view_name": "HTMLView",
            "description": "",
            "description_tooltip": null,
            "layout": "IPY_MODEL_8e8998cc507b4b808702b47baf800c0b",
            "placeholder": "​",
            "style": "IPY_MODEL_b9c404a0ec6e4a7d8f1bc747796a1930",
            "value": "100%"
          }
        },
        "d73af82d88b24b7887ae9fa3179ec9a7": {
          "model_module": "@jupyter-widgets/controls",
          "model_name": "FloatProgressModel",
          "model_module_version": "1.5.0",
          "state": {
            "_dom_classes": [],
            "_model_module": "@jupyter-widgets/controls",
            "_model_module_version": "1.5.0",
            "_model_name": "FloatProgressModel",
            "_view_count": null,
            "_view_module": "@jupyter-widgets/controls",
            "_view_module_version": "1.5.0",
            "_view_name": "ProgressView",
            "bar_style": "success",
            "description": "",
            "description_tooltip": null,
            "layout": "IPY_MODEL_300722c7ee854bf89cb5c2e71471830b",
            "max": 8,
            "min": 0,
            "orientation": "horizontal",
            "style": "IPY_MODEL_873b0761dfb4419cabdc9e97a73b6196",
            "value": 8
          }
        },
        "f140004606ed474484f32c105dac17bd": {
          "model_module": "@jupyter-widgets/controls",
          "model_name": "HTMLModel",
          "model_module_version": "1.5.0",
          "state": {
            "_dom_classes": [],
            "_model_module": "@jupyter-widgets/controls",
            "_model_module_version": "1.5.0",
            "_model_name": "HTMLModel",
            "_view_count": null,
            "_view_module": "@jupyter-widgets/controls",
            "_view_module_version": "1.5.0",
            "_view_name": "HTMLView",
            "description": "",
            "description_tooltip": null,
            "layout": "IPY_MODEL_ed7c6bfd2dfd4bd9aadb2dc7bc91ce1f",
            "placeholder": "​",
            "style": "IPY_MODEL_18344ac1962848279d2cfa78c29118bc",
            "value": " 8/8 [00:02&lt;00:00,  2.89it/s]"
          }
        },
        "b7c47a3aa7c8402da9b1462cfdbfa353": {
          "model_module": "@jupyter-widgets/base",
          "model_name": "LayoutModel",
          "model_module_version": "1.2.0",
          "state": {
            "_model_module": "@jupyter-widgets/base",
            "_model_module_version": "1.2.0",
            "_model_name": "LayoutModel",
            "_view_count": null,
            "_view_module": "@jupyter-widgets/base",
            "_view_module_version": "1.2.0",
            "_view_name": "LayoutView",
            "align_content": null,
            "align_items": null,
            "align_self": null,
            "border": null,
            "bottom": null,
            "display": null,
            "flex": null,
            "flex_flow": null,
            "grid_area": null,
            "grid_auto_columns": null,
            "grid_auto_flow": null,
            "grid_auto_rows": null,
            "grid_column": null,
            "grid_gap": null,
            "grid_row": null,
            "grid_template_areas": null,
            "grid_template_columns": null,
            "grid_template_rows": null,
            "height": null,
            "justify_content": null,
            "justify_items": null,
            "left": null,
            "margin": null,
            "max_height": null,
            "max_width": null,
            "min_height": null,
            "min_width": null,
            "object_fit": null,
            "object_position": null,
            "order": null,
            "overflow": null,
            "overflow_x": null,
            "overflow_y": null,
            "padding": null,
            "right": null,
            "top": null,
            "visibility": null,
            "width": null
          }
        },
        "8e8998cc507b4b808702b47baf800c0b": {
          "model_module": "@jupyter-widgets/base",
          "model_name": "LayoutModel",
          "model_module_version": "1.2.0",
          "state": {
            "_model_module": "@jupyter-widgets/base",
            "_model_module_version": "1.2.0",
            "_model_name": "LayoutModel",
            "_view_count": null,
            "_view_module": "@jupyter-widgets/base",
            "_view_module_version": "1.2.0",
            "_view_name": "LayoutView",
            "align_content": null,
            "align_items": null,
            "align_self": null,
            "border": null,
            "bottom": null,
            "display": null,
            "flex": null,
            "flex_flow": null,
            "grid_area": null,
            "grid_auto_columns": null,
            "grid_auto_flow": null,
            "grid_auto_rows": null,
            "grid_column": null,
            "grid_gap": null,
            "grid_row": null,
            "grid_template_areas": null,
            "grid_template_columns": null,
            "grid_template_rows": null,
            "height": null,
            "justify_content": null,
            "justify_items": null,
            "left": null,
            "margin": null,
            "max_height": null,
            "max_width": null,
            "min_height": null,
            "min_width": null,
            "object_fit": null,
            "object_position": null,
            "order": null,
            "overflow": null,
            "overflow_x": null,
            "overflow_y": null,
            "padding": null,
            "right": null,
            "top": null,
            "visibility": null,
            "width": null
          }
        },
        "b9c404a0ec6e4a7d8f1bc747796a1930": {
          "model_module": "@jupyter-widgets/controls",
          "model_name": "DescriptionStyleModel",
          "model_module_version": "1.5.0",
          "state": {
            "_model_module": "@jupyter-widgets/controls",
            "_model_module_version": "1.5.0",
            "_model_name": "DescriptionStyleModel",
            "_view_count": null,
            "_view_module": "@jupyter-widgets/base",
            "_view_module_version": "1.2.0",
            "_view_name": "StyleView",
            "description_width": ""
          }
        },
        "300722c7ee854bf89cb5c2e71471830b": {
          "model_module": "@jupyter-widgets/base",
          "model_name": "LayoutModel",
          "model_module_version": "1.2.0",
          "state": {
            "_model_module": "@jupyter-widgets/base",
            "_model_module_version": "1.2.0",
            "_model_name": "LayoutModel",
            "_view_count": null,
            "_view_module": "@jupyter-widgets/base",
            "_view_module_version": "1.2.0",
            "_view_name": "LayoutView",
            "align_content": null,
            "align_items": null,
            "align_self": null,
            "border": null,
            "bottom": null,
            "display": null,
            "flex": null,
            "flex_flow": null,
            "grid_area": null,
            "grid_auto_columns": null,
            "grid_auto_flow": null,
            "grid_auto_rows": null,
            "grid_column": null,
            "grid_gap": null,
            "grid_row": null,
            "grid_template_areas": null,
            "grid_template_columns": null,
            "grid_template_rows": null,
            "height": null,
            "justify_content": null,
            "justify_items": null,
            "left": null,
            "margin": null,
            "max_height": null,
            "max_width": null,
            "min_height": null,
            "min_width": null,
            "object_fit": null,
            "object_position": null,
            "order": null,
            "overflow": null,
            "overflow_x": null,
            "overflow_y": null,
            "padding": null,
            "right": null,
            "top": null,
            "visibility": null,
            "width": null
          }
        },
        "873b0761dfb4419cabdc9e97a73b6196": {
          "model_module": "@jupyter-widgets/controls",
          "model_name": "ProgressStyleModel",
          "model_module_version": "1.5.0",
          "state": {
            "_model_module": "@jupyter-widgets/controls",
            "_model_module_version": "1.5.0",
            "_model_name": "ProgressStyleModel",
            "_view_count": null,
            "_view_module": "@jupyter-widgets/base",
            "_view_module_version": "1.2.0",
            "_view_name": "StyleView",
            "bar_color": null,
            "description_width": ""
          }
        },
        "ed7c6bfd2dfd4bd9aadb2dc7bc91ce1f": {
          "model_module": "@jupyter-widgets/base",
          "model_name": "LayoutModel",
          "model_module_version": "1.2.0",
          "state": {
            "_model_module": "@jupyter-widgets/base",
            "_model_module_version": "1.2.0",
            "_model_name": "LayoutModel",
            "_view_count": null,
            "_view_module": "@jupyter-widgets/base",
            "_view_module_version": "1.2.0",
            "_view_name": "LayoutView",
            "align_content": null,
            "align_items": null,
            "align_self": null,
            "border": null,
            "bottom": null,
            "display": null,
            "flex": null,
            "flex_flow": null,
            "grid_area": null,
            "grid_auto_columns": null,
            "grid_auto_flow": null,
            "grid_auto_rows": null,
            "grid_column": null,
            "grid_gap": null,
            "grid_row": null,
            "grid_template_areas": null,
            "grid_template_columns": null,
            "grid_template_rows": null,
            "height": null,
            "justify_content": null,
            "justify_items": null,
            "left": null,
            "margin": null,
            "max_height": null,
            "max_width": null,
            "min_height": null,
            "min_width": null,
            "object_fit": null,
            "object_position": null,
            "order": null,
            "overflow": null,
            "overflow_x": null,
            "overflow_y": null,
            "padding": null,
            "right": null,
            "top": null,
            "visibility": null,
            "width": null
          }
        },
        "18344ac1962848279d2cfa78c29118bc": {
          "model_module": "@jupyter-widgets/controls",
          "model_name": "DescriptionStyleModel",
          "model_module_version": "1.5.0",
          "state": {
            "_model_module": "@jupyter-widgets/controls",
            "_model_module_version": "1.5.0",
            "_model_name": "DescriptionStyleModel",
            "_view_count": null,
            "_view_module": "@jupyter-widgets/base",
            "_view_module_version": "1.2.0",
            "_view_name": "StyleView",
            "description_width": ""
          }
        },
        "6fa3ba7a8d8c47fb86307be442cef879": {
          "model_module": "@jupyter-widgets/controls",
          "model_name": "HBoxModel",
          "model_module_version": "1.5.0",
          "state": {
            "_dom_classes": [],
            "_model_module": "@jupyter-widgets/controls",
            "_model_module_version": "1.5.0",
            "_model_name": "HBoxModel",
            "_view_count": null,
            "_view_module": "@jupyter-widgets/controls",
            "_view_module_version": "1.5.0",
            "_view_name": "HBoxView",
            "box_style": "",
            "children": [
              "IPY_MODEL_4a6ebf13930d45afb687e4c9c69e086c",
              "IPY_MODEL_9e80a06811f84bf390c13478f68eebe4",
              "IPY_MODEL_a8f29fb78fc94421a5b7030295ef361b"
            ],
            "layout": "IPY_MODEL_377146492d35436bb81b5573241a1fc4"
          }
        },
        "4a6ebf13930d45afb687e4c9c69e086c": {
          "model_module": "@jupyter-widgets/controls",
          "model_name": "HTMLModel",
          "model_module_version": "1.5.0",
          "state": {
            "_dom_classes": [],
            "_model_module": "@jupyter-widgets/controls",
            "_model_module_version": "1.5.0",
            "_model_name": "HTMLModel",
            "_view_count": null,
            "_view_module": "@jupyter-widgets/controls",
            "_view_module_version": "1.5.0",
            "_view_name": "HTMLView",
            "description": "",
            "description_tooltip": null,
            "layout": "IPY_MODEL_43842cc338eb46dd9ca99746f098a079",
            "placeholder": "​",
            "style": "IPY_MODEL_7579ab3971f84e65aab06be25bc4bcab",
            "value": "100%"
          }
        },
        "9e80a06811f84bf390c13478f68eebe4": {
          "model_module": "@jupyter-widgets/controls",
          "model_name": "FloatProgressModel",
          "model_module_version": "1.5.0",
          "state": {
            "_dom_classes": [],
            "_model_module": "@jupyter-widgets/controls",
            "_model_module_version": "1.5.0",
            "_model_name": "FloatProgressModel",
            "_view_count": null,
            "_view_module": "@jupyter-widgets/controls",
            "_view_module_version": "1.5.0",
            "_view_name": "ProgressView",
            "bar_style": "success",
            "description": "",
            "description_tooltip": null,
            "layout": "IPY_MODEL_025e4248a96440d68e1f1acda499574a",
            "max": 2,
            "min": 0,
            "orientation": "horizontal",
            "style": "IPY_MODEL_3b8465c06a1c472d8f68979efb59fefb",
            "value": 2
          }
        },
        "a8f29fb78fc94421a5b7030295ef361b": {
          "model_module": "@jupyter-widgets/controls",
          "model_name": "HTMLModel",
          "model_module_version": "1.5.0",
          "state": {
            "_dom_classes": [],
            "_model_module": "@jupyter-widgets/controls",
            "_model_module_version": "1.5.0",
            "_model_name": "HTMLModel",
            "_view_count": null,
            "_view_module": "@jupyter-widgets/controls",
            "_view_module_version": "1.5.0",
            "_view_name": "HTMLView",
            "description": "",
            "description_tooltip": null,
            "layout": "IPY_MODEL_353211d68a4945d6a12e876e63879d07",
            "placeholder": "​",
            "style": "IPY_MODEL_eb684628098745d5b4ef987566e1c39d",
            "value": " 2/2 [00:04&lt;00:00,  2.05s/it]"
          }
        },
        "377146492d35436bb81b5573241a1fc4": {
          "model_module": "@jupyter-widgets/base",
          "model_name": "LayoutModel",
          "model_module_version": "1.2.0",
          "state": {
            "_model_module": "@jupyter-widgets/base",
            "_model_module_version": "1.2.0",
            "_model_name": "LayoutModel",
            "_view_count": null,
            "_view_module": "@jupyter-widgets/base",
            "_view_module_version": "1.2.0",
            "_view_name": "LayoutView",
            "align_content": null,
            "align_items": null,
            "align_self": null,
            "border": null,
            "bottom": null,
            "display": null,
            "flex": null,
            "flex_flow": null,
            "grid_area": null,
            "grid_auto_columns": null,
            "grid_auto_flow": null,
            "grid_auto_rows": null,
            "grid_column": null,
            "grid_gap": null,
            "grid_row": null,
            "grid_template_areas": null,
            "grid_template_columns": null,
            "grid_template_rows": null,
            "height": null,
            "justify_content": null,
            "justify_items": null,
            "left": null,
            "margin": null,
            "max_height": null,
            "max_width": null,
            "min_height": null,
            "min_width": null,
            "object_fit": null,
            "object_position": null,
            "order": null,
            "overflow": null,
            "overflow_x": null,
            "overflow_y": null,
            "padding": null,
            "right": null,
            "top": null,
            "visibility": null,
            "width": null
          }
        },
        "43842cc338eb46dd9ca99746f098a079": {
          "model_module": "@jupyter-widgets/base",
          "model_name": "LayoutModel",
          "model_module_version": "1.2.0",
          "state": {
            "_model_module": "@jupyter-widgets/base",
            "_model_module_version": "1.2.0",
            "_model_name": "LayoutModel",
            "_view_count": null,
            "_view_module": "@jupyter-widgets/base",
            "_view_module_version": "1.2.0",
            "_view_name": "LayoutView",
            "align_content": null,
            "align_items": null,
            "align_self": null,
            "border": null,
            "bottom": null,
            "display": null,
            "flex": null,
            "flex_flow": null,
            "grid_area": null,
            "grid_auto_columns": null,
            "grid_auto_flow": null,
            "grid_auto_rows": null,
            "grid_column": null,
            "grid_gap": null,
            "grid_row": null,
            "grid_template_areas": null,
            "grid_template_columns": null,
            "grid_template_rows": null,
            "height": null,
            "justify_content": null,
            "justify_items": null,
            "left": null,
            "margin": null,
            "max_height": null,
            "max_width": null,
            "min_height": null,
            "min_width": null,
            "object_fit": null,
            "object_position": null,
            "order": null,
            "overflow": null,
            "overflow_x": null,
            "overflow_y": null,
            "padding": null,
            "right": null,
            "top": null,
            "visibility": null,
            "width": null
          }
        },
        "7579ab3971f84e65aab06be25bc4bcab": {
          "model_module": "@jupyter-widgets/controls",
          "model_name": "DescriptionStyleModel",
          "model_module_version": "1.5.0",
          "state": {
            "_model_module": "@jupyter-widgets/controls",
            "_model_module_version": "1.5.0",
            "_model_name": "DescriptionStyleModel",
            "_view_count": null,
            "_view_module": "@jupyter-widgets/base",
            "_view_module_version": "1.2.0",
            "_view_name": "StyleView",
            "description_width": ""
          }
        },
        "025e4248a96440d68e1f1acda499574a": {
          "model_module": "@jupyter-widgets/base",
          "model_name": "LayoutModel",
          "model_module_version": "1.2.0",
          "state": {
            "_model_module": "@jupyter-widgets/base",
            "_model_module_version": "1.2.0",
            "_model_name": "LayoutModel",
            "_view_count": null,
            "_view_module": "@jupyter-widgets/base",
            "_view_module_version": "1.2.0",
            "_view_name": "LayoutView",
            "align_content": null,
            "align_items": null,
            "align_self": null,
            "border": null,
            "bottom": null,
            "display": null,
            "flex": null,
            "flex_flow": null,
            "grid_area": null,
            "grid_auto_columns": null,
            "grid_auto_flow": null,
            "grid_auto_rows": null,
            "grid_column": null,
            "grid_gap": null,
            "grid_row": null,
            "grid_template_areas": null,
            "grid_template_columns": null,
            "grid_template_rows": null,
            "height": null,
            "justify_content": null,
            "justify_items": null,
            "left": null,
            "margin": null,
            "max_height": null,
            "max_width": null,
            "min_height": null,
            "min_width": null,
            "object_fit": null,
            "object_position": null,
            "order": null,
            "overflow": null,
            "overflow_x": null,
            "overflow_y": null,
            "padding": null,
            "right": null,
            "top": null,
            "visibility": null,
            "width": null
          }
        },
        "3b8465c06a1c472d8f68979efb59fefb": {
          "model_module": "@jupyter-widgets/controls",
          "model_name": "ProgressStyleModel",
          "model_module_version": "1.5.0",
          "state": {
            "_model_module": "@jupyter-widgets/controls",
            "_model_module_version": "1.5.0",
            "_model_name": "ProgressStyleModel",
            "_view_count": null,
            "_view_module": "@jupyter-widgets/base",
            "_view_module_version": "1.2.0",
            "_view_name": "StyleView",
            "bar_color": null,
            "description_width": ""
          }
        },
        "353211d68a4945d6a12e876e63879d07": {
          "model_module": "@jupyter-widgets/base",
          "model_name": "LayoutModel",
          "model_module_version": "1.2.0",
          "state": {
            "_model_module": "@jupyter-widgets/base",
            "_model_module_version": "1.2.0",
            "_model_name": "LayoutModel",
            "_view_count": null,
            "_view_module": "@jupyter-widgets/base",
            "_view_module_version": "1.2.0",
            "_view_name": "LayoutView",
            "align_content": null,
            "align_items": null,
            "align_self": null,
            "border": null,
            "bottom": null,
            "display": null,
            "flex": null,
            "flex_flow": null,
            "grid_area": null,
            "grid_auto_columns": null,
            "grid_auto_flow": null,
            "grid_auto_rows": null,
            "grid_column": null,
            "grid_gap": null,
            "grid_row": null,
            "grid_template_areas": null,
            "grid_template_columns": null,
            "grid_template_rows": null,
            "height": null,
            "justify_content": null,
            "justify_items": null,
            "left": null,
            "margin": null,
            "max_height": null,
            "max_width": null,
            "min_height": null,
            "min_width": null,
            "object_fit": null,
            "object_position": null,
            "order": null,
            "overflow": null,
            "overflow_x": null,
            "overflow_y": null,
            "padding": null,
            "right": null,
            "top": null,
            "visibility": null,
            "width": null
          }
        },
        "eb684628098745d5b4ef987566e1c39d": {
          "model_module": "@jupyter-widgets/controls",
          "model_name": "DescriptionStyleModel",
          "model_module_version": "1.5.0",
          "state": {
            "_model_module": "@jupyter-widgets/controls",
            "_model_module_version": "1.5.0",
            "_model_name": "DescriptionStyleModel",
            "_view_count": null,
            "_view_module": "@jupyter-widgets/base",
            "_view_module_version": "1.2.0",
            "_view_name": "StyleView",
            "description_width": ""
          }
        },
        "d228244c0c7843d9ad75be99ec00cb35": {
          "model_module": "@jupyter-widgets/controls",
          "model_name": "HBoxModel",
          "model_module_version": "1.5.0",
          "state": {
            "_dom_classes": [],
            "_model_module": "@jupyter-widgets/controls",
            "_model_module_version": "1.5.0",
            "_model_name": "HBoxModel",
            "_view_count": null,
            "_view_module": "@jupyter-widgets/controls",
            "_view_module_version": "1.5.0",
            "_view_name": "HBoxView",
            "box_style": "",
            "children": [
              "IPY_MODEL_7594b21649214b719b19c59ebaf58f63",
              "IPY_MODEL_cac568dc489942ef8e8cba65cd822978",
              "IPY_MODEL_8644213763b640c7a946393b823871f2"
            ],
            "layout": "IPY_MODEL_0453add0dd9d48cbac4b5dd82b3a5c30"
          }
        },
        "7594b21649214b719b19c59ebaf58f63": {
          "model_module": "@jupyter-widgets/controls",
          "model_name": "HTMLModel",
          "model_module_version": "1.5.0",
          "state": {
            "_dom_classes": [],
            "_model_module": "@jupyter-widgets/controls",
            "_model_module_version": "1.5.0",
            "_model_name": "HTMLModel",
            "_view_count": null,
            "_view_module": "@jupyter-widgets/controls",
            "_view_module_version": "1.5.0",
            "_view_name": "HTMLView",
            "description": "",
            "description_tooltip": null,
            "layout": "IPY_MODEL_24f9aa27c49f417fbd4187e21b0b38bd",
            "placeholder": "​",
            "style": "IPY_MODEL_6e7422968bc540ea9f8ed90c84955f21",
            "value": "100%"
          }
        },
        "cac568dc489942ef8e8cba65cd822978": {
          "model_module": "@jupyter-widgets/controls",
          "model_name": "FloatProgressModel",
          "model_module_version": "1.5.0",
          "state": {
            "_dom_classes": [],
            "_model_module": "@jupyter-widgets/controls",
            "_model_module_version": "1.5.0",
            "_model_name": "FloatProgressModel",
            "_view_count": null,
            "_view_module": "@jupyter-widgets/controls",
            "_view_module_version": "1.5.0",
            "_view_name": "ProgressView",
            "bar_style": "success",
            "description": "",
            "description_tooltip": null,
            "layout": "IPY_MODEL_8581a8fc43534224ab32894a6d7f8245",
            "max": 10,
            "min": 0,
            "orientation": "horizontal",
            "style": "IPY_MODEL_a342347d6a63477bb9822d244fd587a4",
            "value": 10
          }
        },
        "8644213763b640c7a946393b823871f2": {
          "model_module": "@jupyter-widgets/controls",
          "model_name": "HTMLModel",
          "model_module_version": "1.5.0",
          "state": {
            "_dom_classes": [],
            "_model_module": "@jupyter-widgets/controls",
            "_model_module_version": "1.5.0",
            "_model_name": "HTMLModel",
            "_view_count": null,
            "_view_module": "@jupyter-widgets/controls",
            "_view_module_version": "1.5.0",
            "_view_name": "HTMLView",
            "description": "",
            "description_tooltip": null,
            "layout": "IPY_MODEL_60b784cf39a24110842c94c1522da29b",
            "placeholder": "​",
            "style": "IPY_MODEL_b964bf688c2b43f79dafe4e0a5b3a730",
            "value": " 10/10 [00:03&lt;00:00,  2.81it/s]"
          }
        },
        "0453add0dd9d48cbac4b5dd82b3a5c30": {
          "model_module": "@jupyter-widgets/base",
          "model_name": "LayoutModel",
          "model_module_version": "1.2.0",
          "state": {
            "_model_module": "@jupyter-widgets/base",
            "_model_module_version": "1.2.0",
            "_model_name": "LayoutModel",
            "_view_count": null,
            "_view_module": "@jupyter-widgets/base",
            "_view_module_version": "1.2.0",
            "_view_name": "LayoutView",
            "align_content": null,
            "align_items": null,
            "align_self": null,
            "border": null,
            "bottom": null,
            "display": null,
            "flex": null,
            "flex_flow": null,
            "grid_area": null,
            "grid_auto_columns": null,
            "grid_auto_flow": null,
            "grid_auto_rows": null,
            "grid_column": null,
            "grid_gap": null,
            "grid_row": null,
            "grid_template_areas": null,
            "grid_template_columns": null,
            "grid_template_rows": null,
            "height": null,
            "justify_content": null,
            "justify_items": null,
            "left": null,
            "margin": null,
            "max_height": null,
            "max_width": null,
            "min_height": null,
            "min_width": null,
            "object_fit": null,
            "object_position": null,
            "order": null,
            "overflow": null,
            "overflow_x": null,
            "overflow_y": null,
            "padding": null,
            "right": null,
            "top": null,
            "visibility": null,
            "width": null
          }
        },
        "24f9aa27c49f417fbd4187e21b0b38bd": {
          "model_module": "@jupyter-widgets/base",
          "model_name": "LayoutModel",
          "model_module_version": "1.2.0",
          "state": {
            "_model_module": "@jupyter-widgets/base",
            "_model_module_version": "1.2.0",
            "_model_name": "LayoutModel",
            "_view_count": null,
            "_view_module": "@jupyter-widgets/base",
            "_view_module_version": "1.2.0",
            "_view_name": "LayoutView",
            "align_content": null,
            "align_items": null,
            "align_self": null,
            "border": null,
            "bottom": null,
            "display": null,
            "flex": null,
            "flex_flow": null,
            "grid_area": null,
            "grid_auto_columns": null,
            "grid_auto_flow": null,
            "grid_auto_rows": null,
            "grid_column": null,
            "grid_gap": null,
            "grid_row": null,
            "grid_template_areas": null,
            "grid_template_columns": null,
            "grid_template_rows": null,
            "height": null,
            "justify_content": null,
            "justify_items": null,
            "left": null,
            "margin": null,
            "max_height": null,
            "max_width": null,
            "min_height": null,
            "min_width": null,
            "object_fit": null,
            "object_position": null,
            "order": null,
            "overflow": null,
            "overflow_x": null,
            "overflow_y": null,
            "padding": null,
            "right": null,
            "top": null,
            "visibility": null,
            "width": null
          }
        },
        "6e7422968bc540ea9f8ed90c84955f21": {
          "model_module": "@jupyter-widgets/controls",
          "model_name": "DescriptionStyleModel",
          "model_module_version": "1.5.0",
          "state": {
            "_model_module": "@jupyter-widgets/controls",
            "_model_module_version": "1.5.0",
            "_model_name": "DescriptionStyleModel",
            "_view_count": null,
            "_view_module": "@jupyter-widgets/base",
            "_view_module_version": "1.2.0",
            "_view_name": "StyleView",
            "description_width": ""
          }
        },
        "8581a8fc43534224ab32894a6d7f8245": {
          "model_module": "@jupyter-widgets/base",
          "model_name": "LayoutModel",
          "model_module_version": "1.2.0",
          "state": {
            "_model_module": "@jupyter-widgets/base",
            "_model_module_version": "1.2.0",
            "_model_name": "LayoutModel",
            "_view_count": null,
            "_view_module": "@jupyter-widgets/base",
            "_view_module_version": "1.2.0",
            "_view_name": "LayoutView",
            "align_content": null,
            "align_items": null,
            "align_self": null,
            "border": null,
            "bottom": null,
            "display": null,
            "flex": null,
            "flex_flow": null,
            "grid_area": null,
            "grid_auto_columns": null,
            "grid_auto_flow": null,
            "grid_auto_rows": null,
            "grid_column": null,
            "grid_gap": null,
            "grid_row": null,
            "grid_template_areas": null,
            "grid_template_columns": null,
            "grid_template_rows": null,
            "height": null,
            "justify_content": null,
            "justify_items": null,
            "left": null,
            "margin": null,
            "max_height": null,
            "max_width": null,
            "min_height": null,
            "min_width": null,
            "object_fit": null,
            "object_position": null,
            "order": null,
            "overflow": null,
            "overflow_x": null,
            "overflow_y": null,
            "padding": null,
            "right": null,
            "top": null,
            "visibility": null,
            "width": null
          }
        },
        "a342347d6a63477bb9822d244fd587a4": {
          "model_module": "@jupyter-widgets/controls",
          "model_name": "ProgressStyleModel",
          "model_module_version": "1.5.0",
          "state": {
            "_model_module": "@jupyter-widgets/controls",
            "_model_module_version": "1.5.0",
            "_model_name": "ProgressStyleModel",
            "_view_count": null,
            "_view_module": "@jupyter-widgets/base",
            "_view_module_version": "1.2.0",
            "_view_name": "StyleView",
            "bar_color": null,
            "description_width": ""
          }
        },
        "60b784cf39a24110842c94c1522da29b": {
          "model_module": "@jupyter-widgets/base",
          "model_name": "LayoutModel",
          "model_module_version": "1.2.0",
          "state": {
            "_model_module": "@jupyter-widgets/base",
            "_model_module_version": "1.2.0",
            "_model_name": "LayoutModel",
            "_view_count": null,
            "_view_module": "@jupyter-widgets/base",
            "_view_module_version": "1.2.0",
            "_view_name": "LayoutView",
            "align_content": null,
            "align_items": null,
            "align_self": null,
            "border": null,
            "bottom": null,
            "display": null,
            "flex": null,
            "flex_flow": null,
            "grid_area": null,
            "grid_auto_columns": null,
            "grid_auto_flow": null,
            "grid_auto_rows": null,
            "grid_column": null,
            "grid_gap": null,
            "grid_row": null,
            "grid_template_areas": null,
            "grid_template_columns": null,
            "grid_template_rows": null,
            "height": null,
            "justify_content": null,
            "justify_items": null,
            "left": null,
            "margin": null,
            "max_height": null,
            "max_width": null,
            "min_height": null,
            "min_width": null,
            "object_fit": null,
            "object_position": null,
            "order": null,
            "overflow": null,
            "overflow_x": null,
            "overflow_y": null,
            "padding": null,
            "right": null,
            "top": null,
            "visibility": null,
            "width": null
          }
        },
        "b964bf688c2b43f79dafe4e0a5b3a730": {
          "model_module": "@jupyter-widgets/controls",
          "model_name": "DescriptionStyleModel",
          "model_module_version": "1.5.0",
          "state": {
            "_model_module": "@jupyter-widgets/controls",
            "_model_module_version": "1.5.0",
            "_model_name": "DescriptionStyleModel",
            "_view_count": null,
            "_view_module": "@jupyter-widgets/base",
            "_view_module_version": "1.2.0",
            "_view_name": "StyleView",
            "description_width": ""
          }
        },
        "1909e2a8b6bc498fbc8ff627a5afa38d": {
          "model_module": "@jupyter-widgets/controls",
          "model_name": "HBoxModel",
          "model_module_version": "1.5.0",
          "state": {
            "_dom_classes": [],
            "_model_module": "@jupyter-widgets/controls",
            "_model_module_version": "1.5.0",
            "_model_name": "HBoxModel",
            "_view_count": null,
            "_view_module": "@jupyter-widgets/controls",
            "_view_module_version": "1.5.0",
            "_view_name": "HBoxView",
            "box_style": "",
            "children": [
              "IPY_MODEL_199e1b47c0a94d47b205149fe9301742",
              "IPY_MODEL_233c30274fe94a3dbcf3706e982f8237",
              "IPY_MODEL_0b20c4f8def448da81f324ce257ff4b5"
            ],
            "layout": "IPY_MODEL_9ff49913e7844463a1eb54173a3695e4"
          }
        },
        "199e1b47c0a94d47b205149fe9301742": {
          "model_module": "@jupyter-widgets/controls",
          "model_name": "HTMLModel",
          "model_module_version": "1.5.0",
          "state": {
            "_dom_classes": [],
            "_model_module": "@jupyter-widgets/controls",
            "_model_module_version": "1.5.0",
            "_model_name": "HTMLModel",
            "_view_count": null,
            "_view_module": "@jupyter-widgets/controls",
            "_view_module_version": "1.5.0",
            "_view_name": "HTMLView",
            "description": "",
            "description_tooltip": null,
            "layout": "IPY_MODEL_6f59f54130c747e797701c1ba1534a75",
            "placeholder": "​",
            "style": "IPY_MODEL_c57ebfb357014a9bbcb27662bab286ad",
            "value": "Epoch 1 of 3:   0%"
          }
        },
        "233c30274fe94a3dbcf3706e982f8237": {
          "model_module": "@jupyter-widgets/controls",
          "model_name": "FloatProgressModel",
          "model_module_version": "1.5.0",
          "state": {
            "_dom_classes": [],
            "_model_module": "@jupyter-widgets/controls",
            "_model_module_version": "1.5.0",
            "_model_name": "FloatProgressModel",
            "_view_count": null,
            "_view_module": "@jupyter-widgets/controls",
            "_view_module_version": "1.5.0",
            "_view_name": "ProgressView",
            "bar_style": "",
            "description": "",
            "description_tooltip": null,
            "layout": "IPY_MODEL_19c562139fc448449a81edd450136858",
            "max": 3,
            "min": 0,
            "orientation": "horizontal",
            "style": "IPY_MODEL_0b09f79aaffb4c6eb1de39bf8d53bc60",
            "value": 0
          }
        },
        "0b20c4f8def448da81f324ce257ff4b5": {
          "model_module": "@jupyter-widgets/controls",
          "model_name": "HTMLModel",
          "model_module_version": "1.5.0",
          "state": {
            "_dom_classes": [],
            "_model_module": "@jupyter-widgets/controls",
            "_model_module_version": "1.5.0",
            "_model_name": "HTMLModel",
            "_view_count": null,
            "_view_module": "@jupyter-widgets/controls",
            "_view_module_version": "1.5.0",
            "_view_name": "HTMLView",
            "description": "",
            "description_tooltip": null,
            "layout": "IPY_MODEL_82404f61c78f403c94de1808fdf21671",
            "placeholder": "​",
            "style": "IPY_MODEL_9eee1d24fb994d19969ad990c4ed44a4",
            "value": " 0/3 [00:00&lt;?, ?it/s]"
          }
        },
        "9ff49913e7844463a1eb54173a3695e4": {
          "model_module": "@jupyter-widgets/base",
          "model_name": "LayoutModel",
          "model_module_version": "1.2.0",
          "state": {
            "_model_module": "@jupyter-widgets/base",
            "_model_module_version": "1.2.0",
            "_model_name": "LayoutModel",
            "_view_count": null,
            "_view_module": "@jupyter-widgets/base",
            "_view_module_version": "1.2.0",
            "_view_name": "LayoutView",
            "align_content": null,
            "align_items": null,
            "align_self": null,
            "border": null,
            "bottom": null,
            "display": null,
            "flex": null,
            "flex_flow": null,
            "grid_area": null,
            "grid_auto_columns": null,
            "grid_auto_flow": null,
            "grid_auto_rows": null,
            "grid_column": null,
            "grid_gap": null,
            "grid_row": null,
            "grid_template_areas": null,
            "grid_template_columns": null,
            "grid_template_rows": null,
            "height": null,
            "justify_content": null,
            "justify_items": null,
            "left": null,
            "margin": null,
            "max_height": null,
            "max_width": null,
            "min_height": null,
            "min_width": null,
            "object_fit": null,
            "object_position": null,
            "order": null,
            "overflow": null,
            "overflow_x": null,
            "overflow_y": null,
            "padding": null,
            "right": null,
            "top": null,
            "visibility": null,
            "width": null
          }
        },
        "6f59f54130c747e797701c1ba1534a75": {
          "model_module": "@jupyter-widgets/base",
          "model_name": "LayoutModel",
          "model_module_version": "1.2.0",
          "state": {
            "_model_module": "@jupyter-widgets/base",
            "_model_module_version": "1.2.0",
            "_model_name": "LayoutModel",
            "_view_count": null,
            "_view_module": "@jupyter-widgets/base",
            "_view_module_version": "1.2.0",
            "_view_name": "LayoutView",
            "align_content": null,
            "align_items": null,
            "align_self": null,
            "border": null,
            "bottom": null,
            "display": null,
            "flex": null,
            "flex_flow": null,
            "grid_area": null,
            "grid_auto_columns": null,
            "grid_auto_flow": null,
            "grid_auto_rows": null,
            "grid_column": null,
            "grid_gap": null,
            "grid_row": null,
            "grid_template_areas": null,
            "grid_template_columns": null,
            "grid_template_rows": null,
            "height": null,
            "justify_content": null,
            "justify_items": null,
            "left": null,
            "margin": null,
            "max_height": null,
            "max_width": null,
            "min_height": null,
            "min_width": null,
            "object_fit": null,
            "object_position": null,
            "order": null,
            "overflow": null,
            "overflow_x": null,
            "overflow_y": null,
            "padding": null,
            "right": null,
            "top": null,
            "visibility": null,
            "width": null
          }
        },
        "c57ebfb357014a9bbcb27662bab286ad": {
          "model_module": "@jupyter-widgets/controls",
          "model_name": "DescriptionStyleModel",
          "model_module_version": "1.5.0",
          "state": {
            "_model_module": "@jupyter-widgets/controls",
            "_model_module_version": "1.5.0",
            "_model_name": "DescriptionStyleModel",
            "_view_count": null,
            "_view_module": "@jupyter-widgets/base",
            "_view_module_version": "1.2.0",
            "_view_name": "StyleView",
            "description_width": ""
          }
        },
        "19c562139fc448449a81edd450136858": {
          "model_module": "@jupyter-widgets/base",
          "model_name": "LayoutModel",
          "model_module_version": "1.2.0",
          "state": {
            "_model_module": "@jupyter-widgets/base",
            "_model_module_version": "1.2.0",
            "_model_name": "LayoutModel",
            "_view_count": null,
            "_view_module": "@jupyter-widgets/base",
            "_view_module_version": "1.2.0",
            "_view_name": "LayoutView",
            "align_content": null,
            "align_items": null,
            "align_self": null,
            "border": null,
            "bottom": null,
            "display": null,
            "flex": null,
            "flex_flow": null,
            "grid_area": null,
            "grid_auto_columns": null,
            "grid_auto_flow": null,
            "grid_auto_rows": null,
            "grid_column": null,
            "grid_gap": null,
            "grid_row": null,
            "grid_template_areas": null,
            "grid_template_columns": null,
            "grid_template_rows": null,
            "height": null,
            "justify_content": null,
            "justify_items": null,
            "left": null,
            "margin": null,
            "max_height": null,
            "max_width": null,
            "min_height": null,
            "min_width": null,
            "object_fit": null,
            "object_position": null,
            "order": null,
            "overflow": null,
            "overflow_x": null,
            "overflow_y": null,
            "padding": null,
            "right": null,
            "top": null,
            "visibility": null,
            "width": null
          }
        },
        "0b09f79aaffb4c6eb1de39bf8d53bc60": {
          "model_module": "@jupyter-widgets/controls",
          "model_name": "ProgressStyleModel",
          "model_module_version": "1.5.0",
          "state": {
            "_model_module": "@jupyter-widgets/controls",
            "_model_module_version": "1.5.0",
            "_model_name": "ProgressStyleModel",
            "_view_count": null,
            "_view_module": "@jupyter-widgets/base",
            "_view_module_version": "1.2.0",
            "_view_name": "StyleView",
            "bar_color": null,
            "description_width": ""
          }
        },
        "82404f61c78f403c94de1808fdf21671": {
          "model_module": "@jupyter-widgets/base",
          "model_name": "LayoutModel",
          "model_module_version": "1.2.0",
          "state": {
            "_model_module": "@jupyter-widgets/base",
            "_model_module_version": "1.2.0",
            "_model_name": "LayoutModel",
            "_view_count": null,
            "_view_module": "@jupyter-widgets/base",
            "_view_module_version": "1.2.0",
            "_view_name": "LayoutView",
            "align_content": null,
            "align_items": null,
            "align_self": null,
            "border": null,
            "bottom": null,
            "display": null,
            "flex": null,
            "flex_flow": null,
            "grid_area": null,
            "grid_auto_columns": null,
            "grid_auto_flow": null,
            "grid_auto_rows": null,
            "grid_column": null,
            "grid_gap": null,
            "grid_row": null,
            "grid_template_areas": null,
            "grid_template_columns": null,
            "grid_template_rows": null,
            "height": null,
            "justify_content": null,
            "justify_items": null,
            "left": null,
            "margin": null,
            "max_height": null,
            "max_width": null,
            "min_height": null,
            "min_width": null,
            "object_fit": null,
            "object_position": null,
            "order": null,
            "overflow": null,
            "overflow_x": null,
            "overflow_y": null,
            "padding": null,
            "right": null,
            "top": null,
            "visibility": null,
            "width": null
          }
        },
        "9eee1d24fb994d19969ad990c4ed44a4": {
          "model_module": "@jupyter-widgets/controls",
          "model_name": "DescriptionStyleModel",
          "model_module_version": "1.5.0",
          "state": {
            "_model_module": "@jupyter-widgets/controls",
            "_model_module_version": "1.5.0",
            "_model_name": "DescriptionStyleModel",
            "_view_count": null,
            "_view_module": "@jupyter-widgets/base",
            "_view_module_version": "1.2.0",
            "_view_name": "StyleView",
            "description_width": ""
          }
        },
        "e94056808dd14997b08abdfea4357cab": {
          "model_module": "@jupyter-widgets/controls",
          "model_name": "HBoxModel",
          "model_module_version": "1.5.0",
          "state": {
            "_dom_classes": [],
            "_model_module": "@jupyter-widgets/controls",
            "_model_module_version": "1.5.0",
            "_model_name": "HBoxModel",
            "_view_count": null,
            "_view_module": "@jupyter-widgets/controls",
            "_view_module_version": "1.5.0",
            "_view_name": "HBoxView",
            "box_style": "",
            "children": [
              "IPY_MODEL_d72df7f0324048a895876c71b482bcdf",
              "IPY_MODEL_fe3cd066e3cf490b9d94e84f308faf3b",
              "IPY_MODEL_637c58b66b864f23b03edcf5d576a6d2"
            ],
            "layout": "IPY_MODEL_efc868a4fa9c48d58bfb38c68137ddac"
          }
        },
        "d72df7f0324048a895876c71b482bcdf": {
          "model_module": "@jupyter-widgets/controls",
          "model_name": "HTMLModel",
          "model_module_version": "1.5.0",
          "state": {
            "_dom_classes": [],
            "_model_module": "@jupyter-widgets/controls",
            "_model_module_version": "1.5.0",
            "_model_name": "HTMLModel",
            "_view_count": null,
            "_view_module": "@jupyter-widgets/controls",
            "_view_module_version": "1.5.0",
            "_view_name": "HTMLView",
            "description": "",
            "description_tooltip": null,
            "layout": "IPY_MODEL_e2d9abb698b1494b981888d0fc1d4d72",
            "placeholder": "​",
            "style": "IPY_MODEL_013421ca4516408583e003fcffac4faa",
            "value": "Epochs 1/3. Running Loss:    1.3411:  21%"
          }
        },
        "fe3cd066e3cf490b9d94e84f308faf3b": {
          "model_module": "@jupyter-widgets/controls",
          "model_name": "FloatProgressModel",
          "model_module_version": "1.5.0",
          "state": {
            "_dom_classes": [],
            "_model_module": "@jupyter-widgets/controls",
            "_model_module_version": "1.5.0",
            "_model_name": "FloatProgressModel",
            "_view_count": null,
            "_view_module": "@jupyter-widgets/controls",
            "_view_module_version": "1.5.0",
            "_view_name": "ProgressView",
            "bar_style": "",
            "description": "",
            "description_tooltip": null,
            "layout": "IPY_MODEL_4ab1e1bc41b140cabe9afc8f637612c2",
            "max": 3525,
            "min": 0,
            "orientation": "horizontal",
            "style": "IPY_MODEL_e4e988a17aa94390b228a829172821ca",
            "value": 753
          }
        },
        "637c58b66b864f23b03edcf5d576a6d2": {
          "model_module": "@jupyter-widgets/controls",
          "model_name": "HTMLModel",
          "model_module_version": "1.5.0",
          "state": {
            "_dom_classes": [],
            "_model_module": "@jupyter-widgets/controls",
            "_model_module_version": "1.5.0",
            "_model_name": "HTMLModel",
            "_view_count": null,
            "_view_module": "@jupyter-widgets/controls",
            "_view_module_version": "1.5.0",
            "_view_name": "HTMLView",
            "description": "",
            "description_tooltip": null,
            "layout": "IPY_MODEL_d4ee06322f9e4baa9c274d30d033e709",
            "placeholder": "​",
            "style": "IPY_MODEL_4671e029436448fa80871c4c43c89565",
            "value": " 753/3525 [03:49&lt;14:03,  3.28it/s]"
          }
        },
        "efc868a4fa9c48d58bfb38c68137ddac": {
          "model_module": "@jupyter-widgets/base",
          "model_name": "LayoutModel",
          "model_module_version": "1.2.0",
          "state": {
            "_model_module": "@jupyter-widgets/base",
            "_model_module_version": "1.2.0",
            "_model_name": "LayoutModel",
            "_view_count": null,
            "_view_module": "@jupyter-widgets/base",
            "_view_module_version": "1.2.0",
            "_view_name": "LayoutView",
            "align_content": null,
            "align_items": null,
            "align_self": null,
            "border": null,
            "bottom": null,
            "display": null,
            "flex": null,
            "flex_flow": null,
            "grid_area": null,
            "grid_auto_columns": null,
            "grid_auto_flow": null,
            "grid_auto_rows": null,
            "grid_column": null,
            "grid_gap": null,
            "grid_row": null,
            "grid_template_areas": null,
            "grid_template_columns": null,
            "grid_template_rows": null,
            "height": null,
            "justify_content": null,
            "justify_items": null,
            "left": null,
            "margin": null,
            "max_height": null,
            "max_width": null,
            "min_height": null,
            "min_width": null,
            "object_fit": null,
            "object_position": null,
            "order": null,
            "overflow": null,
            "overflow_x": null,
            "overflow_y": null,
            "padding": null,
            "right": null,
            "top": null,
            "visibility": null,
            "width": null
          }
        },
        "e2d9abb698b1494b981888d0fc1d4d72": {
          "model_module": "@jupyter-widgets/base",
          "model_name": "LayoutModel",
          "model_module_version": "1.2.0",
          "state": {
            "_model_module": "@jupyter-widgets/base",
            "_model_module_version": "1.2.0",
            "_model_name": "LayoutModel",
            "_view_count": null,
            "_view_module": "@jupyter-widgets/base",
            "_view_module_version": "1.2.0",
            "_view_name": "LayoutView",
            "align_content": null,
            "align_items": null,
            "align_self": null,
            "border": null,
            "bottom": null,
            "display": null,
            "flex": null,
            "flex_flow": null,
            "grid_area": null,
            "grid_auto_columns": null,
            "grid_auto_flow": null,
            "grid_auto_rows": null,
            "grid_column": null,
            "grid_gap": null,
            "grid_row": null,
            "grid_template_areas": null,
            "grid_template_columns": null,
            "grid_template_rows": null,
            "height": null,
            "justify_content": null,
            "justify_items": null,
            "left": null,
            "margin": null,
            "max_height": null,
            "max_width": null,
            "min_height": null,
            "min_width": null,
            "object_fit": null,
            "object_position": null,
            "order": null,
            "overflow": null,
            "overflow_x": null,
            "overflow_y": null,
            "padding": null,
            "right": null,
            "top": null,
            "visibility": null,
            "width": null
          }
        },
        "013421ca4516408583e003fcffac4faa": {
          "model_module": "@jupyter-widgets/controls",
          "model_name": "DescriptionStyleModel",
          "model_module_version": "1.5.0",
          "state": {
            "_model_module": "@jupyter-widgets/controls",
            "_model_module_version": "1.5.0",
            "_model_name": "DescriptionStyleModel",
            "_view_count": null,
            "_view_module": "@jupyter-widgets/base",
            "_view_module_version": "1.2.0",
            "_view_name": "StyleView",
            "description_width": ""
          }
        },
        "4ab1e1bc41b140cabe9afc8f637612c2": {
          "model_module": "@jupyter-widgets/base",
          "model_name": "LayoutModel",
          "model_module_version": "1.2.0",
          "state": {
            "_model_module": "@jupyter-widgets/base",
            "_model_module_version": "1.2.0",
            "_model_name": "LayoutModel",
            "_view_count": null,
            "_view_module": "@jupyter-widgets/base",
            "_view_module_version": "1.2.0",
            "_view_name": "LayoutView",
            "align_content": null,
            "align_items": null,
            "align_self": null,
            "border": null,
            "bottom": null,
            "display": null,
            "flex": null,
            "flex_flow": null,
            "grid_area": null,
            "grid_auto_columns": null,
            "grid_auto_flow": null,
            "grid_auto_rows": null,
            "grid_column": null,
            "grid_gap": null,
            "grid_row": null,
            "grid_template_areas": null,
            "grid_template_columns": null,
            "grid_template_rows": null,
            "height": null,
            "justify_content": null,
            "justify_items": null,
            "left": null,
            "margin": null,
            "max_height": null,
            "max_width": null,
            "min_height": null,
            "min_width": null,
            "object_fit": null,
            "object_position": null,
            "order": null,
            "overflow": null,
            "overflow_x": null,
            "overflow_y": null,
            "padding": null,
            "right": null,
            "top": null,
            "visibility": null,
            "width": null
          }
        },
        "e4e988a17aa94390b228a829172821ca": {
          "model_module": "@jupyter-widgets/controls",
          "model_name": "ProgressStyleModel",
          "model_module_version": "1.5.0",
          "state": {
            "_model_module": "@jupyter-widgets/controls",
            "_model_module_version": "1.5.0",
            "_model_name": "ProgressStyleModel",
            "_view_count": null,
            "_view_module": "@jupyter-widgets/base",
            "_view_module_version": "1.2.0",
            "_view_name": "StyleView",
            "bar_color": null,
            "description_width": ""
          }
        },
        "d4ee06322f9e4baa9c274d30d033e709": {
          "model_module": "@jupyter-widgets/base",
          "model_name": "LayoutModel",
          "model_module_version": "1.2.0",
          "state": {
            "_model_module": "@jupyter-widgets/base",
            "_model_module_version": "1.2.0",
            "_model_name": "LayoutModel",
            "_view_count": null,
            "_view_module": "@jupyter-widgets/base",
            "_view_module_version": "1.2.0",
            "_view_name": "LayoutView",
            "align_content": null,
            "align_items": null,
            "align_self": null,
            "border": null,
            "bottom": null,
            "display": null,
            "flex": null,
            "flex_flow": null,
            "grid_area": null,
            "grid_auto_columns": null,
            "grid_auto_flow": null,
            "grid_auto_rows": null,
            "grid_column": null,
            "grid_gap": null,
            "grid_row": null,
            "grid_template_areas": null,
            "grid_template_columns": null,
            "grid_template_rows": null,
            "height": null,
            "justify_content": null,
            "justify_items": null,
            "left": null,
            "margin": null,
            "max_height": null,
            "max_width": null,
            "min_height": null,
            "min_width": null,
            "object_fit": null,
            "object_position": null,
            "order": null,
            "overflow": null,
            "overflow_x": null,
            "overflow_y": null,
            "padding": null,
            "right": null,
            "top": null,
            "visibility": null,
            "width": null
          }
        },
        "4671e029436448fa80871c4c43c89565": {
          "model_module": "@jupyter-widgets/controls",
          "model_name": "DescriptionStyleModel",
          "model_module_version": "1.5.0",
          "state": {
            "_model_module": "@jupyter-widgets/controls",
            "_model_module_version": "1.5.0",
            "_model_name": "DescriptionStyleModel",
            "_view_count": null,
            "_view_module": "@jupyter-widgets/base",
            "_view_module_version": "1.2.0",
            "_view_name": "StyleView",
            "description_width": ""
          }
        }
      }
    },
    "accelerator": "GPU"
  },
  "cells": [
    {
      "cell_type": "markdown",
      "source": [
        "# MODELO DE RESPUESTA DE CLICKBAIT"
      ],
      "metadata": {
        "id": "xymgcoftuotV"
      }
    },
    {
      "cell_type": "markdown",
      "source": [
        "Esta es la implementación del proyecto de Clickbait Spoiling para la asignatura de Minería de Datos Textuales.\n",
        "\n",
        "El objetivo es explorar diferentes técnicas vistas en clase."
      ],
      "metadata": {
        "id": "S0fZ1eGo66Uf"
      }
    },
    {
      "cell_type": "markdown",
      "source": [
        "##Instalar e importar librerías"
      ],
      "metadata": {
        "id": "e04knJADNbhU"
      }
    },
    {
      "cell_type": "code",
      "source": [
        "%%capture\n",
        "\n",
        "!pip install tldextract\n",
        "!pip install simpletransformers\n",
        "!pip install bert_score"
      ],
      "metadata": {
        "id": "kyWXBjlZNgcg"
      },
      "execution_count": 23,
      "outputs": []
    },
    {
      "cell_type": "code",
      "source": [
        "import pandas as pd\n",
        "import numpy as np\n",
        "import json\n",
        "import torch\n",
        "import tldextract\n",
        "import re\n",
        "import warnings\n",
        "\n",
        "from statistics import mean\n",
        "\n",
        "import pandas as pd\n",
        "from sklearn.metrics import accuracy_score, f1_score, precision_score, recall_score\n",
        "from sklearn.preprocessing import LabelEncoder\n",
        "import sklearn\n",
        "import logging\n",
        "import wandb\n",
        "from simpletransformers.classification import ClassificationArgs, ClassificationModel\n",
        "from simpletransformers.question_answering import QuestionAnsweringModel\n",
        "\n",
        "from bert_score import score\n",
        "from nltk.translate.bleu_score import corpus_bleu\n",
        "from nltk.translate.bleu_score import sentence_bleu\n",
        "from nltk.tokenize import word_tokenize"
      ],
      "metadata": {
        "id": "53mQoa5zNjsj"
      },
      "execution_count": 24,
      "outputs": []
    },
    {
      "cell_type": "code",
      "source": [
        "from google.colab import drive\n",
        "drive.mount('/content/drive')"
      ],
      "metadata": {
        "id": "GUUOVI8LNlvj",
        "colab": {
          "base_uri": "https://localhost:8080/"
        },
        "outputId": "d79a379f-968e-4551-ee06-6e72daef62bf"
      },
      "execution_count": 25,
      "outputs": [
        {
          "output_type": "stream",
          "name": "stdout",
          "text": [
            "Drive already mounted at /content/drive; to attempt to forcibly remount, call drive.mount(\"/content/drive\", force_remount=True).\n"
          ]
        }
      ]
    },
    {
      "cell_type": "markdown",
      "source": [
        "Utilizar la GPU:"
      ],
      "metadata": {
        "id": "2YuvyTF2OnwO"
      }
    },
    {
      "cell_type": "code",
      "source": [
        "device = \"cuda\" if torch.cuda.is_available() else \"cpu\""
      ],
      "metadata": {
        "id": "8FHirENEOnBv"
      },
      "execution_count": 26,
      "outputs": []
    },
    {
      "cell_type": "markdown",
      "source": [
        "## Carga de los datos"
      ],
      "metadata": {
        "id": "-o4e6Zc1uroO"
      }
    },
    {
      "cell_type": "markdown",
      "source": [
        "El conjunto de datos se puede conseguir en la siguiente página web: [Clickbait challenge](https://pan.webis.de/semeval23/pan23-web/clickbait-challenge.html)"
      ],
      "metadata": {
        "id": "iK0VcKPo7QNT"
      }
    },
    {
      "cell_type": "code",
      "source": [
        "train_dir = '/content/drive/MyDrive/Colab Notebooks/MDT/PROYECTO/DATA/train.jsonl'\n",
        "val_dir = '/content/drive/MyDrive/Colab Notebooks/MDT/PROYECTO/DATA/validation.jsonl'\n",
        "test_dir = '/content/drive/MyDrive/Colab Notebooks/MDT/PROYECTO/DATA/test.jsonl'"
      ],
      "metadata": {
        "id": "LyE_q_jaSBlP"
      },
      "execution_count": null,
      "outputs": []
    },
    {
      "cell_type": "code",
      "execution_count": null,
      "metadata": {
        "id": "k8xen1dWt9Xm"
      },
      "outputs": [],
      "source": [
        "def create_df_json(file_dir):\n",
        "  data = []\n",
        "  with open(file_dir, \"r\") as file:\n",
        "    for line in file:\n",
        "      json_data = json.loads(line)\n",
        "      data.append(json_data)\n",
        "\n",
        "  df = pd.DataFrame(data)\n",
        "\n",
        "  return df\n",
        "\n",
        "train_df = create_df_json(train_dir)\n",
        "val_df = create_df_json(val_dir)\n",
        "test_df = create_df_json(test_dir)"
      ]
    },
    {
      "cell_type": "markdown",
      "source": [
        "Lo primero es realizar una exploración de los datos, para saber con qué estamos tratando y ver si vamos a necesitar hacer limpieza o transformación de ellos."
      ],
      "metadata": {
        "id": "qSPjo3oY7jay"
      }
    },
    {
      "cell_type": "code",
      "source": [
        "print(train_df.loc[0])"
      ],
      "metadata": {
        "colab": {
          "base_uri": "https://localhost:8080/"
        },
        "id": "8lcminsPvH-o",
        "outputId": "0b1cc7a9-6ad6-4f4f-8065-7a67f659794d"
      },
      "execution_count": null,
      "outputs": [
        {
          "output_type": "stream",
          "name": "stdout",
          "text": [
            "uuid                              0af11f6b-c889-4520-9372-66ba25cb7657\n",
            "postId                                                          532quh\n",
            "postText             [Wes Welker Wanted Dinner With Tom Brady, But ...\n",
            "postPlatform                                                    reddit\n",
            "targetParagraphs     [It’ll be just like old times this weekend for...\n",
            "targetTitle          Wes Welker Wanted Dinner With Tom Brady, But P...\n",
            "targetDescription    It'll be just like old times this weekend for ...\n",
            "targetKeywords         new england patriots, ricky doyle, top stories,\n",
            "targetMedia          [http://pixel.wp.com/b.gif?v=noscript, http://...\n",
            "targetUrl            http://nesn.com/2016/09/wes-welker-wanted-dinn...\n",
            "provenance           {'source': 'anonymized', 'humanSpoiler': 'They...\n",
            "spoiler                          [how about that morning we go throw?]\n",
            "spoilerPositions                                [[[3, 151], [3, 186]]]\n",
            "tags                                                         [passage]\n",
            "Name: 0, dtype: object\n"
          ]
        }
      ]
    },
    {
      "cell_type": "markdown",
      "source": [
        "Aquí vemos las particiones que tenemos en el conjunto de datos:"
      ],
      "metadata": {
        "id": "ya-1gS8s7vHh"
      }
    },
    {
      "cell_type": "code",
      "source": [
        "print(train_df.shape)\n",
        "print(val_df.shape)\n",
        "print(test_df.shape)"
      ],
      "metadata": {
        "colab": {
          "base_uri": "https://localhost:8080/"
        },
        "id": "qo-2AZ6uvM-n",
        "outputId": "e0261d6c-aef0-446b-cfd4-8143f3ba819e"
      },
      "execution_count": null,
      "outputs": [
        {
          "output_type": "stream",
          "name": "stdout",
          "text": [
            "(3200, 14)\n",
            "(800, 14)\n",
            "(1000, 14)\n"
          ]
        }
      ]
    },
    {
      "cell_type": "markdown",
      "source": [
        "Y de la siguiente forma comprobamos el número de valores null que tenemos en cada variable."
      ],
      "metadata": {
        "id": "DLv9SNVg71hB"
      }
    },
    {
      "cell_type": "code",
      "source": [
        "train_df.info()"
      ],
      "metadata": {
        "colab": {
          "base_uri": "https://localhost:8080/"
        },
        "id": "WA-fIBtmvPkE",
        "outputId": "43057fdd-90e0-43a3-d805-5e6d66c5b654"
      },
      "execution_count": null,
      "outputs": [
        {
          "output_type": "stream",
          "name": "stdout",
          "text": [
            "<class 'pandas.core.frame.DataFrame'>\n",
            "RangeIndex: 3200 entries, 0 to 3199\n",
            "Data columns (total 14 columns):\n",
            " #   Column             Non-Null Count  Dtype \n",
            "---  ------             --------------  ----- \n",
            " 0   uuid               3200 non-null   object\n",
            " 1   postId             3200 non-null   object\n",
            " 2   postText           3200 non-null   object\n",
            " 3   postPlatform       3200 non-null   object\n",
            " 4   targetParagraphs   3200 non-null   object\n",
            " 5   targetTitle        3200 non-null   object\n",
            " 6   targetDescription  2933 non-null   object\n",
            " 7   targetKeywords     2116 non-null   object\n",
            " 8   targetMedia        2685 non-null   object\n",
            " 9   targetUrl          2717 non-null   object\n",
            " 10  provenance         3200 non-null   object\n",
            " 11  spoiler            3200 non-null   object\n",
            " 12  spoilerPositions   3200 non-null   object\n",
            " 13  tags               3200 non-null   object\n",
            "dtypes: object(14)\n",
            "memory usage: 350.1+ KB\n"
          ]
        }
      ]
    },
    {
      "cell_type": "markdown",
      "source": [
        "En ninguna de ellas la cifra es demasiado grande, y en el caso de 'targetKeywords' no vamos a necesitarlo para las tareas."
      ],
      "metadata": {
        "id": "Nb3ZWzUG78U1"
      }
    },
    {
      "cell_type": "markdown",
      "source": [
        "Eliminamos aquellas columnas que no nos sirven para la tarea. Además, aplico varias transformaciones que nos vendrán bien."
      ],
      "metadata": {
        "id": "2ZlZmpXdvWXY"
      }
    },
    {
      "cell_type": "code",
      "source": [
        "def filter_df(df):\n",
        "  df['targetUrl'] = df['targetUrl'].astype(str)\n",
        "  df = df.fillna(\"\")\n",
        "  df['targetDescription'] = df['targetDescription'].astype(str)\n",
        "  df['postText'] = df['postText'].astype(str)\n",
        "  return df.drop(columns=['postId', 'targetDescription', 'targetKeywords', 'targetMedia'])\n",
        "\n",
        "train_df = filter_df(train_df)\n",
        "val_df = filter_df(val_df)\n",
        "test_df = filter_df(test_df)"
      ],
      "metadata": {
        "id": "KNuUm4SDvR-g"
      },
      "execution_count": null,
      "outputs": []
    },
    {
      "cell_type": "markdown",
      "source": [
        "También voy a cambiar la variable targetParagraphs por una en la que se dé el contexto completo. Los párrafos venían separados, y queremos que estén todos en la misma frase."
      ],
      "metadata": {
        "id": "L-Z_FEEF18OZ"
      }
    },
    {
      "cell_type": "code",
      "source": [
        "def create_context(df):\n",
        "  string_list = []\n",
        "  for index, row in df.iterrows():\n",
        "    string = \"\"\n",
        "    for k in row[\"targetParagraphs\"]:\n",
        "      string += k + \" \"\n",
        "    string_list.append(string)\n",
        "  df[\"full_context\"] = string_list\n",
        "  return df\n",
        "\n",
        "train_df = create_context(train_df)\n",
        "val_df = create_context(val_df)\n",
        "test_df = create_context(test_df)"
      ],
      "metadata": {
        "id": "I6CP_uZ_176-"
      },
      "execution_count": null,
      "outputs": []
    },
    {
      "cell_type": "code",
      "source": [
        "train_df.info()"
      ],
      "metadata": {
        "colab": {
          "base_uri": "https://localhost:8080/"
        },
        "id": "nSZK-6ZIvazI",
        "outputId": "f9d359aa-885c-4676-d1a6-aec957894fc4"
      },
      "execution_count": null,
      "outputs": [
        {
          "output_type": "stream",
          "name": "stdout",
          "text": [
            "<class 'pandas.core.frame.DataFrame'>\n",
            "RangeIndex: 3200 entries, 0 to 3199\n",
            "Data columns (total 11 columns):\n",
            " #   Column            Non-Null Count  Dtype \n",
            "---  ------            --------------  ----- \n",
            " 0   uuid              3200 non-null   object\n",
            " 1   postText          3200 non-null   object\n",
            " 2   postPlatform      3200 non-null   object\n",
            " 3   targetParagraphs  3200 non-null   object\n",
            " 4   targetTitle       3200 non-null   object\n",
            " 5   targetUrl         3200 non-null   object\n",
            " 6   provenance        3200 non-null   object\n",
            " 7   spoiler           3200 non-null   object\n",
            " 8   spoilerPositions  3200 non-null   object\n",
            " 9   tags              3200 non-null   object\n",
            " 10  full_context      3200 non-null   object\n",
            "dtypes: object(11)\n",
            "memory usage: 275.1+ KB\n"
          ]
        }
      ]
    },
    {
      "cell_type": "markdown",
      "source": [
        "Vemos cómo se separan los conjuntos de datos según la etiquetas (frase, pasaje o multi):"
      ],
      "metadata": {
        "id": "ny1pXoT--x8I"
      }
    },
    {
      "cell_type": "code",
      "source": [
        "print('On training dataset: \\n',train_df.tags.value_counts(), '\\n')\n",
        "print('On validation dataset: \\n',val_df.tags.value_counts(), '\\n')\n",
        "print('On test dataset: \\n',test_df.tags.value_counts(), '\\n')"
      ],
      "metadata": {
        "colab": {
          "base_uri": "https://localhost:8080/"
        },
        "id": "jUA0JmlI-xeg",
        "outputId": "d4112acc-376d-4391-c5ec-0a4bba051092"
      },
      "execution_count": null,
      "outputs": [
        {
          "output_type": "stream",
          "name": "stdout",
          "text": [
            "On training dataset: \n",
            " tags\n",
            "[phrase]     1367\n",
            "[passage]    1274\n",
            "[multi]       559\n",
            "Name: count, dtype: int64 \n",
            "\n",
            "On validation dataset: \n",
            " tags\n",
            "[phrase]     335\n",
            "[passage]    322\n",
            "[multi]      143\n",
            "Name: count, dtype: int64 \n",
            "\n",
            "On test dataset: \n",
            " tags\n",
            "[phrase]     423\n",
            "[passage]    403\n",
            "[multi]      174\n",
            "Name: count, dtype: int64 \n",
            "\n"
          ]
        }
      ]
    },
    {
      "cell_type": "markdown",
      "source": [
        "Es necesario transformar nuestros datos en algo que podamos meter en el modelo. Entonces, he decidido crear un texto con las distintas variables predictoras del dataset que pueden ser de ayuda e incluir el label.\n",
        "\n",
        "Se puede utilizar algún método de NER para sacar más información y crear un prompt más completo para cada instancia. Pero en un experimento inicial vi que no mejoraba los resultados de clasificación."
      ],
      "metadata": {
        "id": "x9XspvvqxdKj"
      }
    },
    {
      "cell_type": "code",
      "source": [
        "def combinar_features(df):\n",
        "  textos_df = []\n",
        "  labels = []\n",
        "\n",
        "  for index, row in df.iterrows():\n",
        "    texto = ''\n",
        "    texto += f'Title: {row[\"postText\"][1:-1]}. '\n",
        "    if re.match(\".*\\d+\\s*[\\.\\)].+\\d+?\\s*[\\.\\)].+?\\d+\\s*[\\.\\)]\",row[\"full_context\"], re.MULTILINE | re.IGNORECASE):\n",
        "            texto += f'Enumeration or multi-line. '\n",
        "\n",
        "    texto += f'Publishing Platform: {row[\"postPlatform\"]}. '\n",
        "    texto += f'Source Website {row[\"targetUrl\"]}. '\n",
        "    texto += f'Context: {row[\"full_context\"]}. '\n",
        "    texto = texto.replace('\"', \"'\")\n",
        "    textos_df.append(texto)\n",
        "    labels.append(row[\"tags\"][0])\n",
        "\n",
        "  return textos_df, labels"
      ],
      "metadata": {
        "id": "oDDgtw_nxp1z"
      },
      "execution_count": null,
      "outputs": []
    },
    {
      "cell_type": "markdown",
      "source": [
        "La siguiente función crea el dataframe final que voy a utilizar para la clasificación del spoiler:"
      ],
      "metadata": {
        "id": "Ds492b1V8xgB"
      }
    },
    {
      "cell_type": "code",
      "source": [
        "def crear_df_final(df):\n",
        "  textos, labels = combinar_features(df)\n",
        "  train_tsv = pd.DataFrame(list(zip(textos, labels)), columns=['text','label'])\n",
        "  return train_tsv\n",
        "\n",
        "train_tsv = crear_df_final(train_df)\n",
        "val_tsv = crear_df_final(val_df)\n",
        "test_tsv = crear_df_final(test_df)"
      ],
      "metadata": {
        "id": "JNoeBZF78wul"
      },
      "execution_count": null,
      "outputs": []
    },
    {
      "cell_type": "code",
      "source": [
        "train_tsv.text[1]"
      ],
      "metadata": {
        "colab": {
          "base_uri": "https://localhost:8080/",
          "height": 122
        },
        "id": "nZTCiZYn8tlV",
        "outputId": "74a8969c-fde3-48cd-880d-fe4d17e3e14d"
      },
      "execution_count": null,
      "outputs": [
        {
          "output_type": "execute_result",
          "data": {
            "text/plain": [
              "\"Title: 'NASA sets date for full recovery of ozone hole'. Publishing Platform: Twitter. Source Website http://huff.to/1cH672Z. Context: 2070 is shaping up to be a great year for Mother Earth. That's when NASA scientists are predicting the hole in the ozone layer might finally make a full recovery. Researchers announced their conclusion, in addition to other findings, in a presentation Wednesday during the annual American Geophysical Union meeting in San Francisco. The team of scientists specifically looked at the chemical composition of the ozone hole, which has shifted in both size and depth since the passing of the Montreal Protocol in 1987. The agreement banned its 197 signatory countries from using chemicals, like chlorofluorocarbons (CFCs), that break down into chlorine in the upper atmosphere and harm the ozone layer. They found that, while levels of chlorine in the atmosphere have indeed decreased as a result of the protocol, it's too soon to tie them to a healthier ozone layer. 'Ozone holes with smaller areas and a larger total amount of ozone are not necessarily evidence of recovery attributable to the expected chlorine decline,' Susan Strahan of NASA's Goddard Space Flight Center explained in a media briefing. 'That assumption is like trying to understand what's wrong with your car's engine without lifting the hood.' Instead, the scientists believe the most recent ozone hole changes, including both the largest hole ever, in 2006, and one of the smallest holes, in 2012, are primarily due to weather. Strong winds have the ability to move ozone in large quantities, effectively blocking the hole some years, while failing to block it in others. 'At the moment, it is winds and temperatures that are really controlling how big [the ozone hole] is,' Strahan told the BBC. LiveScience reports weather is expected to be the predominant factor in the ozone hole's size until 2025, at which point CFCs will have dropped enough as a result of the Montreal Protocol to become noticeable. By 2070, however, the ozone hole is expected to have made a full recovery. 'It’s not going to be a smooth ride,' Strahan cautioned the Los Angeles Times. 'There will be some bumps in the road, but overall the trend is downward.' . \""
            ],
            "application/vnd.google.colaboratory.intrinsic+json": {
              "type": "string"
            }
          },
          "metadata": {},
          "execution_count": 16
        }
      ]
    },
    {
      "cell_type": "markdown",
      "source": [
        "Ahora, guardo los nuevos datasets creados para no tener que hacer este proceso cada vez que los necesite."
      ],
      "metadata": {
        "id": "bc5kcFFsPMN3"
      }
    },
    {
      "cell_type": "code",
      "source": [
        "train_tsv.to_csv(\"/content/drive/MyDrive/Colab Notebooks/MDT/PROYECTO/DATA/train2.tsv\", sep=\"\\t\", encoding='utf-8', index=False)\n",
        "val_tsv.to_csv(\"/content/drive/MyDrive/Colab Notebooks/MDT/PROYECTO/DATA/val2.tsv\", sep=\"\\t\", encoding='utf-8', index=False)\n",
        "test_tsv.to_csv(\"/content/drive/MyDrive/Colab Notebooks/MDT/PROYECTO/DATA/test2.tsv\", sep=\"\\t\", encoding='utf-8', index=False)"
      ],
      "metadata": {
        "id": "qd4BrScV7hlk"
      },
      "execution_count": null,
      "outputs": []
    },
    {
      "cell_type": "markdown",
      "source": [
        "\n",
        "## Tarea 1: Clasificación del tipo de spoiler"
      ],
      "metadata": {
        "id": "yTuxSb5fygxT"
      }
    },
    {
      "cell_type": "markdown",
      "source": [
        "Como se menciona en el informe, vamos a probar diferentes modelos y obtener sus resultados para la tarea de clasificación del spoiler."
      ],
      "metadata": {
        "id": "lLDiuuYBTnOx"
      }
    },
    {
      "cell_type": "markdown",
      "source": [
        "Cargar los conjuntos de datos guardados. Así no hace falta ejecutar todas las celdas anteriores."
      ],
      "metadata": {
        "id": "kt9-s_a1Unq8"
      }
    },
    {
      "cell_type": "code",
      "source": [
        "train_df = pd.read_csv(\"/content/drive/MyDrive/Colab Notebooks/MDT/PROYECTO/DATA/train2.tsv\",sep='\\t')\n",
        "val_df = pd.read_csv(\"/content/drive/MyDrive/Colab Notebooks/MDT/PROYECTO/DATA/val2.tsv\",sep='\\t')\n",
        "test_df = pd.read_csv(\"/content/drive/MyDrive/Colab Notebooks/MDT/PROYECTO/DATA/test2.tsv\",sep='\\t')\n",
        "\n",
        "expanded_df = pd.concat([train_df, val_df], axis=0)"
      ],
      "metadata": {
        "id": "qkaWl_ttUnaG"
      },
      "execution_count": null,
      "outputs": []
    },
    {
      "cell_type": "code",
      "source": [
        "train_df.info()"
      ],
      "metadata": {
        "colab": {
          "base_uri": "https://localhost:8080/"
        },
        "id": "ipr1q2Ed97Kq",
        "outputId": "fde67666-4e2f-46cd-e95a-17720bf1ac95"
      },
      "execution_count": null,
      "outputs": [
        {
          "output_type": "stream",
          "name": "stdout",
          "text": [
            "<class 'pandas.core.frame.DataFrame'>\n",
            "RangeIndex: 3200 entries, 0 to 3199\n",
            "Data columns (total 2 columns):\n",
            " #   Column  Non-Null Count  Dtype \n",
            "---  ------  --------------  ----- \n",
            " 0   text    3200 non-null   object\n",
            " 1   label   3200 non-null   object\n",
            "dtypes: object(2)\n",
            "memory usage: 50.1+ KB\n"
          ]
        }
      ]
    },
    {
      "cell_type": "markdown",
      "source": [
        "El conjunto expandido incluye los datos de entrenamiento y validación concatenados. Este experimento no mejoró los resultados."
      ],
      "metadata": {
        "id": "s8RXSxA_9skx"
      }
    },
    {
      "cell_type": "code",
      "source": [
        "expanded_df.info()"
      ],
      "metadata": {
        "colab": {
          "base_uri": "https://localhost:8080/"
        },
        "id": "2vQCOu0LgCZx",
        "outputId": "6d3ee1c2-2f25-485c-be7b-20ddf0004d4e"
      },
      "execution_count": null,
      "outputs": [
        {
          "output_type": "stream",
          "name": "stdout",
          "text": [
            "<class 'pandas.core.frame.DataFrame'>\n",
            "Index: 4000 entries, 0 to 799\n",
            "Data columns (total 2 columns):\n",
            " #   Column  Non-Null Count  Dtype \n",
            "---  ------  --------------  ----- \n",
            " 0   text    4000 non-null   object\n",
            " 1   label   4000 non-null   object\n",
            "dtypes: object(2)\n",
            "memory usage: 93.8+ KB\n"
          ]
        }
      ]
    },
    {
      "cell_type": "markdown",
      "source": [
        "Función para transformar las etiquetas de los dataframes en valores numéricos. Guardamos el mapping para poder recuperar los valores posteriormente."
      ],
      "metadata": {
        "id": "xBkzOaR-WZIZ"
      }
    },
    {
      "cell_type": "code",
      "source": [
        "def encode_labels(df):\n",
        "  le = LabelEncoder()\n",
        "  df['label'] = le.fit_transform(df.label.values)\n",
        "  le_name_mapping = dict(zip(le.classes_, le.transform(le.classes_)))\n",
        "\n",
        "  return df, le_name_mapping\n",
        "\n",
        "train_df_clas, le_name_mapping = encode_labels(train_df)\n",
        "val_df_clas, _ = encode_labels(val_df)\n",
        "test_df_clas, _ = encode_labels(test_df)\n",
        "\n",
        "expanded_df_clas, _ = encode_labels(expanded_df)"
      ],
      "metadata": {
        "id": "kDD5tlTUVh2h"
      },
      "execution_count": null,
      "outputs": []
    },
    {
      "cell_type": "code",
      "source": [
        "le_name_mapping"
      ],
      "metadata": {
        "colab": {
          "base_uri": "https://localhost:8080/"
        },
        "id": "hW9V8DmMddTJ",
        "outputId": "bf6c00b3-4e9b-412f-ce30-fedea8ff3f64"
      },
      "execution_count": null,
      "outputs": [
        {
          "output_type": "execute_result",
          "data": {
            "text/plain": [
              "{'multi': 0, 'passage': 1, 'phrase': 2}"
            ]
          },
          "metadata": {},
          "execution_count": 21
        }
      ]
    },
    {
      "cell_type": "markdown",
      "source": [
        "Vemos que la variable 'label' ha cambiado de tipo a int64."
      ],
      "metadata": {
        "id": "PPpt8buZ99Lv"
      }
    },
    {
      "cell_type": "code",
      "source": [
        "train_df_clas.info()"
      ],
      "metadata": {
        "colab": {
          "base_uri": "https://localhost:8080/"
        },
        "id": "Hrz0ZY7o-gCZ",
        "outputId": "1a761c34-3059-43b1-f308-516fd9a4fbcd"
      },
      "execution_count": null,
      "outputs": [
        {
          "output_type": "stream",
          "name": "stdout",
          "text": [
            "<class 'pandas.core.frame.DataFrame'>\n",
            "RangeIndex: 3200 entries, 0 to 3199\n",
            "Data columns (total 2 columns):\n",
            " #   Column  Non-Null Count  Dtype \n",
            "---  ------  --------------  ----- \n",
            " 0   text    3200 non-null   object\n",
            " 1   label   3200 non-null   int64 \n",
            "dtypes: int64(1), object(1)\n",
            "memory usage: 50.1+ KB\n"
          ]
        }
      ]
    },
    {
      "cell_type": "markdown",
      "source": [
        "Tomamos los textos en un formato correcto para poder hacer las predicciones una vez entrenemos el modelo."
      ],
      "metadata": {
        "id": "YeUOvUiMPiiu"
      }
    },
    {
      "cell_type": "code",
      "source": [
        "train_df_texts = train_df_clas['text'].tolist()\n",
        "val_df_texts = val_df_clas['text'].tolist()\n",
        "test_df_texts = test_df_clas['text'].tolist()\n",
        "\n",
        "expanded_df_texts = expanded_df_clas['text'].tolist()"
      ],
      "metadata": {
        "id": "uojh6jFGIQTn"
      },
      "execution_count": null,
      "outputs": []
    },
    {
      "cell_type": "markdown",
      "source": [
        "Ahora vamos a tomar el modelo que usaremos para la clasificación. Primero, hay que definir los párametros del modelo. Para ello, he experimentado sobre el conjunto de validación con el modelo RoBERTa-base, y los hiperpárametros han quedado así:"
      ],
      "metadata": {
        "id": "98q55hiqeHxz"
      }
    },
    {
      "cell_type": "code",
      "source": [
        "model_args = ClassificationArgs()\n",
        "model_args.evaluate_during_training = False\n",
        "model_args.save_eval_checkpoints = False\n",
        "model_args.save_model_every_epoch = False\n",
        "model_args.learning_rate = 1e-5\n",
        "model_args.max_seq_length = 200\n",
        "model_args.num_train_epochs = 5\n",
        "model_args.overwrite_output_dir = True\n",
        "model_args.labels_list = [0, 1, 2]\n",
        "model_args.reprocess_input_data = True"
      ],
      "metadata": {
        "id": "1aCcA0hid8TE"
      },
      "execution_count": null,
      "outputs": []
    },
    {
      "cell_type": "markdown",
      "source": [
        "Comprobar que tenemos la GPU disponible."
      ],
      "metadata": {
        "id": "LhT6MnsefuOZ"
      }
    },
    {
      "cell_type": "code",
      "source": [
        "cuda_available = torch.cuda.is_available()\n",
        "print(cuda_available)"
      ],
      "metadata": {
        "colab": {
          "base_uri": "https://localhost:8080/"
        },
        "id": "vL62x4gvfr7Y",
        "outputId": "34fe5c17-e4b6-4774-9e6d-1eb020f399f3"
      },
      "execution_count": null,
      "outputs": [
        {
          "output_type": "stream",
          "name": "stdout",
          "text": [
            "True\n"
          ]
        }
      ]
    },
    {
      "cell_type": "markdown",
      "source": [
        "Y generamos la instancia de nuestro modelo, utilizando la librería simpletransformers, que facilita la implementación de los modelos Transformers. Para entrenar un modelo distinto simplemente hay que cambiar el nombre de este y el path a su repositorio de HuggingFace."
      ],
      "metadata": {
        "id": "Tsmv-p2LP8Bi"
      }
    },
    {
      "cell_type": "code",
      "source": [
        "model = ClassificationModel(\n",
        "    \"roberta\",\n",
        "    \"FacebookAI/roberta-base\",\n",
        "    use_cuda= cuda_available,\n",
        "    num_labels=3,\n",
        "    args=model_args\n",
        ")"
      ],
      "metadata": {
        "colab": {
          "base_uri": "https://localhost:8080/",
          "height": 403,
          "referenced_widgets": [
            "ed20fe223aa64022bcab2a0f2d808cb6",
            "ebcbb42540534dd88833dbad901c50a7",
            "51c14bf161ea4cb783c1d362545a928b",
            "616dced1bdd643a495e11cc663aba1c7",
            "1bd56459191c490499574fc58f498c64",
            "a9ea2ffcf22a47709f263371fc88bbd0",
            "348b4ea774394ca991415d94da40cb43",
            "a81be1b6c9ec4b1289718daba7f69dc8",
            "ee4320213d7845ea9732362ac1ec91bb",
            "433f8bab34804cfc9215d4aae84f7682",
            "aaa7337fe63343e79718b45046a5244a",
            "0ea8917e9ee04219acbf1a72aaa2dcf3",
            "a57cff9a6db04030b658feacaafc535e",
            "3e61b30e76ff4d55b35142e6bb17f500",
            "a14f4a250cf14dcea013e8ce3c1c98f9",
            "95052d04319d4d45ace3581161c34cd3",
            "1ca9a7289a46453a81b2c1952c6cb424",
            "5138a47de38a41fbbf743efae58c5882",
            "c54bf1d3255b4ae48689638a7097a42b",
            "f08e0344b62b4bf99e0394c5dcbff611",
            "56c73c647d554a79b40498f45cf5b578",
            "c9853fa3754d43ba8ab7377278d3a27a",
            "575c735988b942cfa64d9a79ab55da5e",
            "215624c5c2784db894aea4e0c20278d1",
            "97b3ce95190a49b5b8538dd0f84acf5e",
            "3a82c8a2b6de4aafb9ce6123bd81c85d",
            "ad5e429ea27f4dcca28207cf914c3440",
            "83fb9e7575bf4e09ba63a90e44ec3be9",
            "35ada48d89354a60a8b7e3d71215bdde",
            "00b435a72f6b4eacb3d47cab994baad8",
            "6102f72141c3404797ed72676764748c",
            "5265ebdfda71450a8eba7a234205cf1d",
            "8b3c8157315c47a1b9d9af11c1b8a5bf",
            "403bfc0c979949ebb93d0e67c48285c0",
            "6cee11717c4a426dadebaa161927ea9e",
            "74090536bc7548d39fde2409c61e651a",
            "dd335b8a8a994a98ae436fab74a58d51",
            "59c9cceabe864c39be95dfe1ae4d0dfe",
            "46b452b78f464d32926cabf3a5e25736",
            "8c20b59cb9224719ab0af48ed6f22f5d",
            "939b31d9162a40d2b187839961f38e78",
            "c45de9e2c265462686ee684085f7e645",
            "c6612d0c3b6d4daa87378edfe8cb95a2",
            "c78cea1366bd46a3abab6fe313dd7a40",
            "f511291da85e4d73a03f5122ab0a0e13",
            "38c1c8ee1ee7476183e808f9ffc96dd8",
            "f21251a6753347e0a306f2ef0e92c3ad",
            "45c08a9e9ca44922892c85d6ec297a92",
            "1b09875dd6bd47cdb7ccadd9ebc20f16",
            "f8f5ff9fdb364409aa8f5466bca17b72",
            "f26412790dff4028827071b6b2b6d931",
            "4273a1efcc6a4585ba2ce2b4f7613dbb",
            "e39593da53c1486dbaf1cd445c65ffa8",
            "fa4a517b6aec459d813bf6aada2c9274",
            "5d5418ebe6a446ebaa43421c2296b1ca",
            "5a7cdef7d89a4ec68c3f6ba68b8d7749",
            "aedeade85de8455382a9ce2c70c3a4bb",
            "36c69ef88c2f4b61abcbb81e2b9dd586",
            "b8e70b54c7a244838abb2af45f0914e1",
            "54750ea645484a59898874651631ff0f",
            "10cd3bd116124b418af10de80307d359",
            "d45caeb6ac764fa5ad5915c698a26be7",
            "eb342e55e91749fda448a3e6543954d8",
            "3e91cdcc201c4ba48da4452cb06b3f4c",
            "57287b8ddf9d4c8c8377b50f122a0483",
            "ba501da2958541de8cb7f8232ff6d3a1"
          ]
        },
        "id": "udw8X8gwftcF",
        "outputId": "2feafeef-1278-4f37-b0f4-d9ee3bb250f0"
      },
      "execution_count": null,
      "outputs": [
        {
          "output_type": "stream",
          "name": "stderr",
          "text": [
            "/usr/local/lib/python3.10/dist-packages/huggingface_hub/file_download.py:1132: FutureWarning: `resume_download` is deprecated and will be removed in version 1.0.0. Downloads always resume when possible. If you want to force a new download, use `force_download=True`.\n",
            "  warnings.warn(\n",
            "/usr/local/lib/python3.10/dist-packages/huggingface_hub/utils/_token.py:89: UserWarning: \n",
            "The secret `HF_TOKEN` does not exist in your Colab secrets.\n",
            "To authenticate with the Hugging Face Hub, create a token in your settings tab (https://huggingface.co/settings/tokens), set it as secret in your Google Colab and restart your session.\n",
            "You will be able to reuse this secret in all of your notebooks.\n",
            "Please note that authentication is recommended but still optional to access public models or datasets.\n",
            "  warnings.warn(\n"
          ]
        },
        {
          "output_type": "display_data",
          "data": {
            "text/plain": [
              "config.json:   0%|          | 0.00/481 [00:00<?, ?B/s]"
            ],
            "application/vnd.jupyter.widget-view+json": {
              "version_major": 2,
              "version_minor": 0,
              "model_id": "ed20fe223aa64022bcab2a0f2d808cb6"
            }
          },
          "metadata": {}
        },
        {
          "output_type": "display_data",
          "data": {
            "text/plain": [
              "model.safetensors:   0%|          | 0.00/499M [00:00<?, ?B/s]"
            ],
            "application/vnd.jupyter.widget-view+json": {
              "version_major": 2,
              "version_minor": 0,
              "model_id": "0ea8917e9ee04219acbf1a72aaa2dcf3"
            }
          },
          "metadata": {}
        },
        {
          "output_type": "stream",
          "name": "stderr",
          "text": [
            "Some weights of RobertaForSequenceClassification were not initialized from the model checkpoint at FacebookAI/roberta-base and are newly initialized: ['classifier.dense.bias', 'classifier.dense.weight', 'classifier.out_proj.bias', 'classifier.out_proj.weight']\n",
            "You should probably TRAIN this model on a down-stream task to be able to use it for predictions and inference.\n"
          ]
        },
        {
          "output_type": "display_data",
          "data": {
            "text/plain": [
              "tokenizer_config.json:   0%|          | 0.00/25.0 [00:00<?, ?B/s]"
            ],
            "application/vnd.jupyter.widget-view+json": {
              "version_major": 2,
              "version_minor": 0,
              "model_id": "575c735988b942cfa64d9a79ab55da5e"
            }
          },
          "metadata": {}
        },
        {
          "output_type": "display_data",
          "data": {
            "text/plain": [
              "vocab.json:   0%|          | 0.00/899k [00:00<?, ?B/s]"
            ],
            "application/vnd.jupyter.widget-view+json": {
              "version_major": 2,
              "version_minor": 0,
              "model_id": "403bfc0c979949ebb93d0e67c48285c0"
            }
          },
          "metadata": {}
        },
        {
          "output_type": "display_data",
          "data": {
            "text/plain": [
              "merges.txt:   0%|          | 0.00/456k [00:00<?, ?B/s]"
            ],
            "application/vnd.jupyter.widget-view+json": {
              "version_major": 2,
              "version_minor": 0,
              "model_id": "f511291da85e4d73a03f5122ab0a0e13"
            }
          },
          "metadata": {}
        },
        {
          "output_type": "display_data",
          "data": {
            "text/plain": [
              "tokenizer.json:   0%|          | 0.00/1.36M [00:00<?, ?B/s]"
            ],
            "application/vnd.jupyter.widget-view+json": {
              "version_major": 2,
              "version_minor": 0,
              "model_id": "5a7cdef7d89a4ec68c3f6ba68b8d7749"
            }
          },
          "metadata": {}
        }
      ]
    },
    {
      "cell_type": "markdown",
      "source": [
        "Entrenamos el modelo sobre el conjunto de entrenamiento:"
      ],
      "metadata": {
        "id": "bAl7RGm2gecd"
      }
    },
    {
      "cell_type": "code",
      "source": [
        "model.train_model(train_df_clas)\n",
        "#model.train_model(expanded_df_clas)"
      ],
      "metadata": {
        "colab": {
          "base_uri": "https://localhost:8080/",
          "height": 348,
          "referenced_widgets": [
            "f98f8a3af8cd47d6800a7a11bba8b9a6",
            "726e34a87b9647f7ac4f6de83cd796c6",
            "27c22bc496c04e25bdf8986d8f01cd1c",
            "7b6c49d384d9406a9f9c1ec5ccc9cab7",
            "d0ff8342dd5b41978bae851d9f3a6911",
            "911853082f474ed48226b9f0ea30a960",
            "e296aed75c644a6394b623b0a5276adb",
            "5f43b7575f5e4799ad1d8515a5f83858",
            "2ce29d9a12754a959d3e854ba429e2c3",
            "451d97a1decf4c9688b1a493f12a7308",
            "f788150a5fd64b718b9987387b04b088",
            "471a93885c7a4fb9aa16f9eb57db1817",
            "9ccf04ca21b14506b979c655c0e6d24a",
            "c3a460341f784bdbafb74171cd3218ad",
            "766f477fe124475fa97b44f60b0ca53b",
            "03c693bd47ad4386afd02a253b56a523",
            "73bc23fd857442cfbbf1bf65c5c50ea1",
            "cbb0107c995a49ccbbde5143e126794b",
            "8bc5df4a7b1d47a091ba1d11fa76cfbf",
            "407644b7042141a28cab15e171db8013",
            "341a3d68804a4fa0b9c3eed5a91248fd",
            "0a91f50d27254967a8fed28df6d9fb1a",
            "bb8fae7403874a0aa99b288d93888ba4",
            "8340cd26bd5f4acc973b157b75e5ff5c",
            "9b700e18ef3d44f8808ce48e8ae29de8",
            "ce5e53b8a35649ba866a800ec612cc80",
            "0307db60b1e14bc6ba81d349961dff1f",
            "e9688070f7de49d4bddf4cf52f08f4f8",
            "fea67e2e652d4433b2a040d2243fff94",
            "46f86ae8b02445de8dbe317cfcd31464",
            "72c6b5b5ff194a7188a9294711a0a5df",
            "b4dff469b46e4406aa41a0f288b7c97b",
            "4ef3dbcaa0714777b4d823e444716c3a",
            "8a4009729bec4aa4a27a9a2dae47bf5b",
            "70dad7327d4347f38e5863ad4f7afe24",
            "f90ff247f1fb4137bbba1441c6571325",
            "d6329d1b66494667a5a9c71da007f2c0",
            "aead074be5b544038c1e639be61d2f55",
            "46ad602b3568459da538451c07c6ca55",
            "511deeb26c044cbda1a7a31896ac12e4",
            "28be2348ff9c4b77a9bd48805a253f0c",
            "00769409b2c54b7583f2f7f2a58bdea8",
            "6a4f3621f1c44c128a17790c1185af35",
            "6490e4450ace40cdae23be196bbd8c70",
            "4e2b23a01bff406aa701c7efcfe8c859",
            "1fe3430016dd44a197c6fb4e435f2b62",
            "9a100a8e072a4e2fbc87585e46a029d2",
            "b0e7dac8f3e546729e18b14614c4dc48",
            "b16189a2d1a64c6db7dfe5ac09706fc3",
            "2bba3cfb159944e8a8ca550c50afe204",
            "556b941fb59949f78b1224d02515a3ca",
            "4108ce63ab244edfbf208474b5cc034d",
            "0b5214f0998d43479c531b11e260b545",
            "f15b8c42f3dd41d1af5ae5ef90814a1c",
            "19acb31c58c94a92af9ffcdac1b59b8b",
            "d42177c2b72a409b907494ca2ebd7a7f",
            "043c18560b6545528212241e5a928907",
            "d87aa02a71134fffbd964a06225652e7",
            "298c598aca77466aa8dbfc5f7e7f33fa",
            "a2e0b2ffc3c246bdbaf17505f9e4daa0",
            "a125eaa2edf2419092affe7682a7cdca",
            "84206943c08c490899cc06080cff5f54",
            "6c1811e512b04b72bf82a06db7ebf08c",
            "bbd3ac0d72ea4d0aa3daf514f86a1f7c",
            "2fb0223b62fd494baa7c408fa334d3a4",
            "e67e9b37f9fc429cb31ba77e159cf081",
            "3908fad99aae4cca97cc58a76d058f67",
            "3b7add3b71334b51b9f810eea22de243",
            "92e9d98909584e0286876c3897da0c1d",
            "db70f3cf03da4cf79fb77105f807c50d",
            "2db116a30c224fec8f052303037da705",
            "240ac7c3d8ac42de91586b08fe133be0",
            "a52e738d27a54f1597a470e929dfb4c6",
            "7de24ac1db7e475d8344aa39dced4414",
            "3bef298fb47f4236a1bc7830eab27d6b",
            "76c701b45e814fc6a8b8b38db7b5a69f",
            "968674e7562e4fc1a2b660cf16c1b692"
          ]
        },
        "id": "C55eDBLWf71t",
        "outputId": "a977766e-9d84-45b5-9a6b-46717ef17c51"
      },
      "execution_count": null,
      "outputs": [
        {
          "output_type": "stream",
          "name": "stderr",
          "text": [
            "/usr/local/lib/python3.10/dist-packages/simpletransformers/classification/classification_model.py:610: UserWarning: Dataframe headers not specified. Falling back to using column 0 as text and column 1 as labels.\n",
            "  warnings.warn(\n",
            "/usr/lib/python3.10/multiprocessing/popen_fork.py:66: RuntimeWarning: os.fork() was called. os.fork() is incompatible with multithreaded code, and JAX is multithreaded, so this will likely lead to a deadlock.\n",
            "  self.pid = os.fork()\n"
          ]
        },
        {
          "output_type": "display_data",
          "data": {
            "text/plain": [
              "  0%|          | 0/6 [00:00<?, ?it/s]"
            ],
            "application/vnd.jupyter.widget-view+json": {
              "version_major": 2,
              "version_minor": 0,
              "model_id": "f98f8a3af8cd47d6800a7a11bba8b9a6"
            }
          },
          "metadata": {}
        },
        {
          "output_type": "display_data",
          "data": {
            "text/plain": [
              "Epoch:   0%|          | 0/5 [00:00<?, ?it/s]"
            ],
            "application/vnd.jupyter.widget-view+json": {
              "version_major": 2,
              "version_minor": 0,
              "model_id": "471a93885c7a4fb9aa16f9eb57db1817"
            }
          },
          "metadata": {}
        },
        {
          "output_type": "display_data",
          "data": {
            "text/plain": [
              "Running Epoch 1 of 5:   0%|          | 0/400 [00:00<?, ?it/s]"
            ],
            "application/vnd.jupyter.widget-view+json": {
              "version_major": 2,
              "version_minor": 0,
              "model_id": "bb8fae7403874a0aa99b288d93888ba4"
            }
          },
          "metadata": {}
        },
        {
          "output_type": "display_data",
          "data": {
            "text/plain": [
              "Running Epoch 2 of 5:   0%|          | 0/400 [00:00<?, ?it/s]"
            ],
            "application/vnd.jupyter.widget-view+json": {
              "version_major": 2,
              "version_minor": 0,
              "model_id": "8a4009729bec4aa4a27a9a2dae47bf5b"
            }
          },
          "metadata": {}
        },
        {
          "output_type": "display_data",
          "data": {
            "text/plain": [
              "Running Epoch 3 of 5:   0%|          | 0/400 [00:00<?, ?it/s]"
            ],
            "application/vnd.jupyter.widget-view+json": {
              "version_major": 2,
              "version_minor": 0,
              "model_id": "4e2b23a01bff406aa701c7efcfe8c859"
            }
          },
          "metadata": {}
        },
        {
          "output_type": "display_data",
          "data": {
            "text/plain": [
              "Running Epoch 4 of 5:   0%|          | 0/400 [00:00<?, ?it/s]"
            ],
            "application/vnd.jupyter.widget-view+json": {
              "version_major": 2,
              "version_minor": 0,
              "model_id": "d42177c2b72a409b907494ca2ebd7a7f"
            }
          },
          "metadata": {}
        },
        {
          "output_type": "display_data",
          "data": {
            "text/plain": [
              "Running Epoch 5 of 5:   0%|          | 0/400 [00:00<?, ?it/s]"
            ],
            "application/vnd.jupyter.widget-view+json": {
              "version_major": 2,
              "version_minor": 0,
              "model_id": "3908fad99aae4cca97cc58a76d058f67"
            }
          },
          "metadata": {}
        },
        {
          "output_type": "execute_result",
          "data": {
            "text/plain": [
              "(2000, 0.6811846494674683)"
            ]
          },
          "metadata": {},
          "execution_count": 27
        }
      ]
    },
    {
      "cell_type": "markdown",
      "source": [
        "Realizamos las predicciones sobre el conjunto de validación:"
      ],
      "metadata": {
        "id": "AQQy8onx-lnx"
      }
    },
    {
      "cell_type": "code",
      "source": [
        "preds, model_outputs = model.predict(val_df_texts)"
      ],
      "metadata": {
        "id": "CclOogOPm1-N",
        "colab": {
          "base_uri": "https://localhost:8080/",
          "height": 81,
          "referenced_widgets": [
            "f373f6e8343b48e2a2fe39ff8309edd9",
            "525da94d400a4ed29678560a7988bdc6",
            "68f5871f1d8742208a29a8015be76f42",
            "0e039cb6925b479d9ef4f6f4120839b4",
            "fba5efe6f3c9410ab6bc723be77c54b9",
            "f9f0560a083644018aa18108d61febf7",
            "4c47702cfae44cffb5a6e2364af38055",
            "26ce93cef49d4ac787ebd71570ef6dea",
            "1ff20678eaec4da394ecc71eb920ac68",
            "6232741dc4614c0993cf9a28dc127879",
            "481f959f26834aad8f9a6ef9650227cd",
            "905ff14c19864f6999390a2564f58b0b",
            "105ee732cdd0410e8bb445e04c9048fa",
            "d73af82d88b24b7887ae9fa3179ec9a7",
            "f140004606ed474484f32c105dac17bd",
            "b7c47a3aa7c8402da9b1462cfdbfa353",
            "8e8998cc507b4b808702b47baf800c0b",
            "b9c404a0ec6e4a7d8f1bc747796a1930",
            "300722c7ee854bf89cb5c2e71471830b",
            "873b0761dfb4419cabdc9e97a73b6196",
            "ed7c6bfd2dfd4bd9aadb2dc7bc91ce1f",
            "18344ac1962848279d2cfa78c29118bc"
          ]
        },
        "outputId": "efe7dbee-4e07-44e4-f158-aa615cf52aed"
      },
      "execution_count": null,
      "outputs": [
        {
          "output_type": "display_data",
          "data": {
            "text/plain": [
              "  0%|          | 0/1 [00:00<?, ?it/s]"
            ],
            "application/vnd.jupyter.widget-view+json": {
              "version_major": 2,
              "version_minor": 0,
              "model_id": "f373f6e8343b48e2a2fe39ff8309edd9"
            }
          },
          "metadata": {}
        },
        {
          "output_type": "display_data",
          "data": {
            "text/plain": [
              "  0%|          | 0/8 [00:00<?, ?it/s]"
            ],
            "application/vnd.jupyter.widget-view+json": {
              "version_major": 2,
              "version_minor": 0,
              "model_id": "905ff14c19864f6999390a2564f58b0b"
            }
          },
          "metadata": {}
        }
      ]
    },
    {
      "cell_type": "markdown",
      "source": [
        "Vamos a ver el accuracy total y el de por cada label:"
      ],
      "metadata": {
        "id": "2qZLH4jHRoDt"
      }
    },
    {
      "cell_type": "code",
      "source": [
        "warnings.filterwarnings('ignore')\n",
        "\n",
        "label_map = {0: 'multi', 1: 'passage', 2: 'phrase'}\n",
        "\n",
        "y_true = val_df['label'].tolist()\n",
        "\n",
        "y_true = y_true\n",
        "\n",
        "accuracy_total = accuracy_score(y_true, preds)\n",
        "precision_total = precision_score(y_true, preds, average='weighted')\n",
        "recall_total = recall_score(y_true, preds, average='weighted')\n",
        "f1_total = f1_score(y_true, preds, average='weighted')\n",
        "\n",
        "accuracy_por_clase = {}\n",
        "precision_por_clase = {}\n",
        "recall_por_clase = {}\n",
        "f1_por_clase = {}\n",
        "\n",
        "y_true_mapped = [label_map[label] for label in y_true]\n",
        "preds_mapped = [label_map[label] for label in preds]\n",
        "\n",
        "print(y_true_mapped)\n",
        "print(preds_mapped)\n",
        "\n",
        "for label in label_map.values():\n",
        "  predicted_labels_for_class = [preds_mapped[i] for i in range(len(y_true_mapped)) if y_true_mapped[i] == label]\n",
        "  true_labels_for_class = [y_true_mapped[i] for i in range(len(y_true_mapped)) if y_true_mapped[i] == label]\n",
        "\n",
        "  accuracy_por_clase[label] = accuracy_score(true_labels_for_class, predicted_labels_for_class)\n",
        "  precision_por_clase[label] = precision_score(true_labels_for_class, predicted_labels_for_class, average='weighted')\n",
        "  recall_por_clase[label] = recall_score(true_labels_for_class, predicted_labels_for_class, average='weighted')\n",
        "  f1_por_clase[label] = f1_score(true_labels_for_class, predicted_labels_for_class, average='weighted')\n",
        "\n",
        "print(\"Accuracy total:\", accuracy_total)\n",
        "print(\"Precision total:\", precision_total)\n",
        "print(\"Recall total:\", recall_total)\n",
        "print(\"F1-score total:\", f1_total)\n",
        "\n",
        "print(\"\\n\")\n",
        "\n",
        "print(\"Accuracy por clase:\", accuracy_por_clase)\n",
        "print(\"Precision por clase:\", precision_por_clase)\n",
        "print(\"Recall por clase:\", recall_por_clase)\n",
        "print(\"F1-score por clase:\", f1_por_clase)"
      ],
      "metadata": {
        "id": "6siPQLdiRnlm",
        "colab": {
          "base_uri": "https://localhost:8080/"
        },
        "outputId": "772d05d2-d706-48b5-c145-c400014adb3a"
      },
      "execution_count": null,
      "outputs": [
        {
          "output_type": "stream",
          "name": "stdout",
          "text": [
            "['passage', 'multi', 'phrase', 'multi', 'passage', 'phrase', 'phrase', 'passage', 'passage', 'passage', 'multi', 'phrase', 'passage', 'multi', 'multi', 'phrase', 'phrase', 'passage', 'passage', 'passage', 'phrase', 'passage', 'passage', 'passage', 'phrase', 'phrase', 'multi', 'passage', 'passage', 'phrase', 'passage', 'phrase', 'phrase', 'phrase', 'multi', 'passage', 'phrase', 'multi', 'passage', 'phrase', 'multi', 'passage', 'phrase', 'phrase', 'phrase', 'passage', 'multi', 'multi', 'phrase', 'passage', 'phrase', 'passage', 'phrase', 'phrase', 'phrase', 'passage', 'phrase', 'phrase', 'passage', 'phrase', 'phrase', 'passage', 'multi', 'phrase', 'multi', 'phrase', 'passage', 'phrase', 'passage', 'phrase', 'multi', 'phrase', 'phrase', 'passage', 'phrase', 'phrase', 'phrase', 'phrase', 'multi', 'phrase', 'phrase', 'passage', 'passage', 'phrase', 'multi', 'passage', 'passage', 'passage', 'phrase', 'passage', 'multi', 'multi', 'phrase', 'multi', 'phrase', 'phrase', 'phrase', 'passage', 'phrase', 'phrase', 'phrase', 'passage', 'passage', 'phrase', 'phrase', 'passage', 'phrase', 'phrase', 'multi', 'passage', 'multi', 'multi', 'passage', 'multi', 'passage', 'passage', 'multi', 'multi', 'multi', 'phrase', 'passage', 'phrase', 'phrase', 'multi', 'multi', 'multi', 'phrase', 'phrase', 'multi', 'phrase', 'passage', 'passage', 'phrase', 'passage', 'passage', 'phrase', 'passage', 'phrase', 'phrase', 'passage', 'passage', 'passage', 'phrase', 'passage', 'multi', 'passage', 'phrase', 'passage', 'phrase', 'phrase', 'phrase', 'passage', 'passage', 'passage', 'phrase', 'multi', 'multi', 'phrase', 'phrase', 'multi', 'phrase', 'multi', 'phrase', 'phrase', 'passage', 'phrase', 'phrase', 'passage', 'passage', 'phrase', 'multi', 'phrase', 'phrase', 'phrase', 'passage', 'phrase', 'multi', 'multi', 'multi', 'phrase', 'phrase', 'multi', 'passage', 'passage', 'phrase', 'passage', 'multi', 'passage', 'multi', 'passage', 'multi', 'phrase', 'passage', 'phrase', 'phrase', 'phrase', 'passage', 'passage', 'multi', 'phrase', 'multi', 'phrase', 'passage', 'multi', 'phrase', 'passage', 'passage', 'passage', 'passage', 'multi', 'passage', 'phrase', 'multi', 'phrase', 'passage', 'passage', 'passage', 'phrase', 'passage', 'passage', 'phrase', 'multi', 'passage', 'passage', 'phrase', 'passage', 'multi', 'phrase', 'passage', 'phrase', 'passage', 'multi', 'multi', 'phrase', 'phrase', 'passage', 'phrase', 'phrase', 'phrase', 'passage', 'multi', 'passage', 'phrase', 'phrase', 'passage', 'phrase', 'passage', 'multi', 'phrase', 'multi', 'passage', 'multi', 'passage', 'phrase', 'passage', 'passage', 'phrase', 'passage', 'phrase', 'phrase', 'multi', 'multi', 'phrase', 'multi', 'multi', 'passage', 'phrase', 'multi', 'phrase', 'passage', 'multi', 'phrase', 'passage', 'passage', 'passage', 'passage', 'passage', 'phrase', 'phrase', 'phrase', 'passage', 'phrase', 'phrase', 'passage', 'passage', 'multi', 'phrase', 'phrase', 'passage', 'phrase', 'multi', 'phrase', 'passage', 'phrase', 'phrase', 'passage', 'multi', 'phrase', 'passage', 'passage', 'phrase', 'phrase', 'passage', 'multi', 'passage', 'multi', 'phrase', 'passage', 'phrase', 'phrase', 'phrase', 'passage', 'passage', 'passage', 'multi', 'passage', 'passage', 'phrase', 'passage', 'passage', 'passage', 'phrase', 'passage', 'phrase', 'passage', 'phrase', 'passage', 'phrase', 'passage', 'passage', 'phrase', 'passage', 'phrase', 'phrase', 'passage', 'multi', 'multi', 'multi', 'phrase', 'passage', 'passage', 'passage', 'multi', 'phrase', 'phrase', 'passage', 'passage', 'passage', 'phrase', 'phrase', 'phrase', 'multi', 'passage', 'multi', 'phrase', 'passage', 'multi', 'passage', 'multi', 'passage', 'phrase', 'passage', 'phrase', 'passage', 'passage', 'phrase', 'multi', 'passage', 'passage', 'passage', 'phrase', 'phrase', 'passage', 'passage', 'phrase', 'phrase', 'phrase', 'phrase', 'passage', 'multi', 'multi', 'phrase', 'passage', 'passage', 'phrase', 'passage', 'phrase', 'phrase', 'phrase', 'passage', 'passage', 'passage', 'passage', 'multi', 'multi', 'passage', 'multi', 'phrase', 'multi', 'multi', 'passage', 'passage', 'phrase', 'phrase', 'phrase', 'phrase', 'multi', 'phrase', 'phrase', 'passage', 'phrase', 'passage', 'phrase', 'passage', 'multi', 'phrase', 'passage', 'passage', 'multi', 'phrase', 'phrase', 'passage', 'phrase', 'phrase', 'passage', 'passage', 'passage', 'phrase', 'passage', 'multi', 'phrase', 'passage', 'phrase', 'phrase', 'phrase', 'passage', 'passage', 'phrase', 'phrase', 'phrase', 'phrase', 'passage', 'phrase', 'passage', 'phrase', 'phrase', 'passage', 'phrase', 'passage', 'phrase', 'passage', 'multi', 'multi', 'multi', 'phrase', 'phrase', 'passage', 'multi', 'passage', 'phrase', 'passage', 'passage', 'phrase', 'phrase', 'passage', 'passage', 'passage', 'phrase', 'passage', 'phrase', 'multi', 'phrase', 'multi', 'multi', 'passage', 'passage', 'phrase', 'multi', 'passage', 'phrase', 'phrase', 'phrase', 'phrase', 'passage', 'passage', 'passage', 'phrase', 'phrase', 'passage', 'passage', 'phrase', 'multi', 'phrase', 'multi', 'passage', 'phrase', 'passage', 'phrase', 'passage', 'passage', 'multi', 'multi', 'passage', 'phrase', 'phrase', 'passage', 'phrase', 'passage', 'passage', 'passage', 'multi', 'passage', 'passage', 'phrase', 'phrase', 'passage', 'phrase', 'phrase', 'passage', 'multi', 'passage', 'phrase', 'phrase', 'multi', 'passage', 'passage', 'phrase', 'phrase', 'phrase', 'passage', 'passage', 'phrase', 'phrase', 'passage', 'phrase', 'phrase', 'passage', 'multi', 'multi', 'passage', 'phrase', 'passage', 'multi', 'passage', 'passage', 'passage', 'passage', 'passage', 'passage', 'phrase', 'multi', 'phrase', 'phrase', 'multi', 'passage', 'phrase', 'multi', 'phrase', 'passage', 'phrase', 'phrase', 'phrase', 'multi', 'passage', 'phrase', 'passage', 'passage', 'phrase', 'multi', 'phrase', 'phrase', 'passage', 'phrase', 'phrase', 'phrase', 'phrase', 'phrase', 'phrase', 'phrase', 'passage', 'phrase', 'phrase', 'passage', 'phrase', 'phrase', 'passage', 'multi', 'passage', 'multi', 'passage', 'phrase', 'phrase', 'passage', 'phrase', 'passage', 'passage', 'phrase', 'passage', 'passage', 'passage', 'passage', 'multi', 'multi', 'phrase', 'passage', 'phrase', 'phrase', 'passage', 'phrase', 'passage', 'passage', 'phrase', 'passage', 'passage', 'multi', 'passage', 'phrase', 'phrase', 'passage', 'phrase', 'passage', 'passage', 'passage', 'passage', 'passage', 'phrase', 'passage', 'passage', 'phrase', 'passage', 'passage', 'phrase', 'phrase', 'multi', 'passage', 'phrase', 'passage', 'passage', 'phrase', 'passage', 'passage', 'passage', 'passage', 'passage', 'passage', 'phrase', 'passage', 'multi', 'phrase', 'passage', 'passage', 'phrase', 'phrase', 'passage', 'passage', 'phrase', 'phrase', 'phrase', 'passage', 'multi', 'passage', 'passage', 'phrase', 'passage', 'passage', 'phrase', 'phrase', 'passage', 'phrase', 'phrase', 'passage', 'multi', 'phrase', 'phrase', 'passage', 'passage', 'phrase', 'passage', 'passage', 'multi', 'passage', 'multi', 'phrase', 'multi', 'multi', 'phrase', 'passage', 'passage', 'phrase', 'phrase', 'multi', 'phrase', 'multi', 'passage', 'multi', 'phrase', 'phrase', 'passage', 'passage', 'phrase', 'multi', 'phrase', 'multi', 'multi', 'phrase', 'phrase', 'phrase', 'multi', 'phrase', 'phrase', 'phrase', 'phrase', 'phrase', 'phrase', 'phrase', 'phrase', 'passage', 'passage', 'phrase', 'passage', 'passage', 'phrase', 'phrase', 'passage', 'multi', 'passage', 'passage', 'phrase', 'passage', 'phrase', 'phrase', 'multi', 'passage', 'phrase', 'multi', 'phrase', 'passage', 'phrase', 'multi', 'phrase', 'passage', 'passage', 'phrase', 'phrase', 'passage', 'phrase', 'passage', 'phrase', 'passage', 'passage', 'phrase', 'passage', 'passage', 'multi', 'passage', 'phrase', 'phrase', 'passage', 'passage', 'passage', 'phrase', 'passage', 'multi', 'phrase', 'phrase', 'multi', 'phrase', 'passage', 'phrase', 'phrase', 'passage', 'passage', 'phrase', 'passage', 'passage', 'passage', 'phrase', 'phrase', 'phrase', 'phrase', 'passage', 'passage', 'phrase', 'passage', 'passage', 'multi', 'phrase', 'phrase', 'multi', 'multi', 'multi', 'phrase', 'passage', 'passage', 'passage', 'passage', 'phrase', 'multi', 'passage', 'phrase']\n",
            "['passage', 'passage', 'phrase', 'phrase', 'passage', 'phrase', 'phrase', 'passage', 'passage', 'passage', 'multi', 'phrase', 'passage', 'phrase', 'phrase', 'passage', 'passage', 'passage', 'passage', 'passage', 'phrase', 'passage', 'passage', 'multi', 'passage', 'phrase', 'multi', 'multi', 'passage', 'phrase', 'phrase', 'phrase', 'phrase', 'phrase', 'multi', 'phrase', 'phrase', 'multi', 'passage', 'phrase', 'multi', 'multi', 'phrase', 'phrase', 'phrase', 'passage', 'multi', 'multi', 'phrase', 'passage', 'passage', 'passage', 'phrase', 'phrase', 'phrase', 'passage', 'phrase', 'multi', 'passage', 'phrase', 'phrase', 'multi', 'passage', 'phrase', 'multi', 'phrase', 'passage', 'phrase', 'phrase', 'phrase', 'multi', 'phrase', 'phrase', 'passage', 'phrase', 'phrase', 'phrase', 'phrase', 'passage', 'phrase', 'phrase', 'passage', 'passage', 'phrase', 'multi', 'passage', 'passage', 'passage', 'passage', 'passage', 'multi', 'multi', 'passage', 'passage', 'phrase', 'phrase', 'phrase', 'passage', 'phrase', 'passage', 'phrase', 'phrase', 'passage', 'phrase', 'phrase', 'passage', 'phrase', 'phrase', 'multi', 'passage', 'multi', 'multi', 'passage', 'multi', 'passage', 'passage', 'multi', 'multi', 'phrase', 'phrase', 'phrase', 'passage', 'phrase', 'multi', 'multi', 'multi', 'passage', 'multi', 'phrase', 'passage', 'phrase', 'phrase', 'multi', 'passage', 'passage', 'phrase', 'passage', 'phrase', 'phrase', 'multi', 'passage', 'phrase', 'phrase', 'passage', 'multi', 'phrase', 'phrase', 'passage', 'phrase', 'phrase', 'phrase', 'passage', 'passage', 'phrase', 'passage', 'multi', 'phrase', 'phrase', 'phrase', 'phrase', 'phrase', 'multi', 'phrase', 'phrase', 'passage', 'phrase', 'phrase', 'passage', 'phrase', 'passage', 'multi', 'passage', 'phrase', 'phrase', 'passage', 'phrase', 'phrase', 'multi', 'passage', 'phrase', 'phrase', 'multi', 'passage', 'multi', 'phrase', 'passage', 'phrase', 'passage', 'multi', 'phrase', 'multi', 'passage', 'phrase', 'passage', 'phrase', 'passage', 'passage', 'passage', 'multi', 'passage', 'multi', 'phrase', 'passage', 'multi', 'passage', 'passage', 'passage', 'passage', 'passage', 'multi', 'passage', 'phrase', 'phrase', 'passage', 'passage', 'passage', 'passage', 'phrase', 'phrase', 'passage', 'phrase', 'multi', 'passage', 'passage', 'passage', 'passage', 'multi', 'phrase', 'phrase', 'phrase', 'passage', 'multi', 'passage', 'phrase', 'passage', 'passage', 'passage', 'phrase', 'phrase', 'passage', 'multi', 'phrase', 'phrase', 'passage', 'passage', 'phrase', 'multi', 'multi', 'phrase', 'multi', 'passage', 'multi', 'passage', 'phrase', 'passage', 'passage', 'phrase', 'passage', 'phrase', 'phrase', 'multi', 'multi', 'phrase', 'multi', 'multi', 'phrase', 'passage', 'multi', 'phrase', 'passage', 'phrase', 'phrase', 'passage', 'passage', 'passage', 'phrase', 'passage', 'phrase', 'phrase', 'phrase', 'passage', 'phrase', 'phrase', 'passage', 'passage', 'phrase', 'phrase', 'phrase', 'passage', 'multi', 'multi', 'phrase', 'passage', 'passage', 'passage', 'passage', 'multi', 'phrase', 'passage', 'passage', 'phrase', 'passage', 'phrase', 'passage', 'phrase', 'multi', 'phrase', 'passage', 'phrase', 'phrase', 'phrase', 'passage', 'multi', 'passage', 'multi', 'passage', 'passage', 'phrase', 'multi', 'passage', 'passage', 'phrase', 'phrase', 'phrase', 'passage', 'phrase', 'multi', 'phrase', 'passage', 'passage', 'phrase', 'passage', 'phrase', 'phrase', 'passage', 'phrase', 'passage', 'passage', 'phrase', 'passage', 'passage', 'phrase', 'phrase', 'passage', 'multi', 'passage', 'passage', 'phrase', 'phrase', 'passage', 'phrase', 'multi', 'phrase', 'multi', 'phrase', 'passage', 'phrase', 'multi', 'multi', 'passage', 'phrase', 'passage', 'phrase', 'passage', 'passage', 'passage', 'passage', 'passage', 'passage', 'passage', 'phrase', 'phrase', 'phrase', 'passage', 'phrase', 'phrase', 'phrase', 'phrase', 'phrase', 'passage', 'phrase', 'phrase', 'passage', 'passage', 'phrase', 'passage', 'phrase', 'phrase', 'phrase', 'passage', 'passage', 'passage', 'passage', 'multi', 'phrase', 'passage', 'passage', 'passage', 'multi', 'passage', 'phrase', 'passage', 'phrase', 'phrase', 'phrase', 'phrase', 'multi', 'passage', 'phrase', 'multi', 'passage', 'passage', 'phrase', 'passage', 'multi', 'phrase', 'passage', 'passage', 'multi', 'phrase', 'phrase', 'passage', 'passage', 'phrase', 'passage', 'passage', 'passage', 'passage', 'passage', 'multi', 'phrase', 'passage', 'phrase', 'passage', 'phrase', 'phrase', 'passage', 'phrase', 'passage', 'phrase', 'phrase', 'passage', 'phrase', 'passage', 'passage', 'phrase', 'passage', 'phrase', 'passage', 'passage', 'passage', 'passage', 'passage', 'multi', 'phrase', 'passage', 'phrase', 'multi', 'passage', 'phrase', 'passage', 'passage', 'phrase', 'phrase', 'multi', 'passage', 'phrase', 'phrase', 'passage', 'phrase', 'multi', 'phrase', 'multi', 'multi', 'passage', 'passage', 'phrase', 'multi', 'phrase', 'phrase', 'phrase', 'passage', 'phrase', 'passage', 'passage', 'passage', 'phrase', 'phrase', 'passage', 'phrase', 'phrase', 'multi', 'phrase', 'phrase', 'passage', 'phrase', 'passage', 'passage', 'passage', 'passage', 'multi', 'multi', 'passage', 'passage', 'phrase', 'phrase', 'phrase', 'passage', 'passage', 'passage', 'passage', 'passage', 'passage', 'phrase', 'phrase', 'passage', 'phrase', 'phrase', 'passage', 'multi', 'passage', 'phrase', 'phrase', 'passage', 'passage', 'passage', 'passage', 'passage', 'phrase', 'passage', 'passage', 'phrase', 'passage', 'passage', 'phrase', 'phrase', 'passage', 'phrase', 'multi', 'passage', 'phrase', 'phrase', 'multi', 'passage', 'passage', 'passage', 'passage', 'passage', 'passage', 'phrase', 'passage', 'phrase', 'phrase', 'multi', 'passage', 'passage', 'multi', 'phrase', 'multi', 'phrase', 'phrase', 'passage', 'passage', 'passage', 'phrase', 'passage', 'passage', 'phrase', 'multi', 'phrase', 'phrase', 'passage', 'phrase', 'phrase', 'phrase', 'phrase', 'passage', 'passage', 'phrase', 'phrase', 'phrase', 'phrase', 'passage', 'phrase', 'phrase', 'passage', 'passage', 'passage', 'multi', 'passage', 'passage', 'phrase', 'phrase', 'phrase', 'passage', 'passage', 'phrase', 'passage', 'phrase', 'phrase', 'multi', 'multi', 'phrase', 'phrase', 'passage', 'passage', 'phrase', 'phrase', 'phrase', 'phrase', 'passage', 'phrase', 'passage', 'passage', 'passage', 'passage', 'passage', 'phrase', 'phrase', 'phrase', 'passage', 'passage', 'passage', 'passage', 'passage', 'phrase', 'phrase', 'passage', 'phrase', 'multi', 'passage', 'phrase', 'phrase', 'multi', 'phrase', 'passage', 'passage', 'phrase', 'passage', 'passage', 'passage', 'passage', 'phrase', 'phrase', 'passage', 'phrase', 'passage', 'multi', 'passage', 'passage', 'passage', 'phrase', 'phrase', 'passage', 'passage', 'phrase', 'phrase', 'passage', 'passage', 'phrase', 'passage', 'passage', 'phrase', 'phrase', 'phrase', 'phrase', 'phrase', 'passage', 'phrase', 'phrase', 'multi', 'passage', 'passage', 'phrase', 'phrase', 'passage', 'phrase', 'passage', 'passage', 'phrase', 'passage', 'passage', 'phrase', 'multi', 'phrase', 'phrase', 'passage', 'passage', 'phrase', 'phrase', 'multi', 'phrase', 'multi', 'passage', 'multi', 'passage', 'phrase', 'passage', 'phrase', 'phrase', 'phrase', 'phrase', 'multi', 'multi', 'phrase', 'phrase', 'phrase', 'multi', 'phrase', 'phrase', 'phrase', 'passage', 'phrase', 'passage', 'phrase', 'phrase', 'passage', 'passage', 'phrase', 'phrase', 'phrase', 'phrase', 'phrase', 'phrase', 'multi', 'phrase', 'passage', 'phrase', 'passage', 'phrase', 'phrase', 'multi', 'passage', 'phrase', 'multi', 'phrase', 'passage', 'phrase', 'phrase', 'passage', 'passage', 'passage', 'phrase', 'passage', 'passage', 'phrase', 'passage', 'phrase', 'phrase', 'passage', 'phrase', 'passage', 'passage', 'multi', 'passage', 'passage', 'phrase', 'passage', 'phrase', 'phrase', 'phrase', 'passage', 'passage', 'passage', 'phrase', 'multi', 'phrase', 'passage', 'phrase', 'passage', 'passage', 'passage', 'passage', 'passage', 'phrase', 'phrase', 'phrase', 'phrase', 'phrase', 'phrase', 'passage', 'passage', 'phrase', 'passage', 'phrase', 'multi', 'phrase', 'phrase', 'multi', 'multi', 'multi', 'phrase', 'phrase', 'passage', 'passage', 'passage', 'multi', 'multi', 'passage', 'phrase']\n",
            "Accuracy total: 0.75\n",
            "Precision total: 0.75204109481329\n",
            "Recall total: 0.75\n",
            "F1-score total: 0.7494814638391375\n",
            "\n",
            "\n",
            "Accuracy por clase: {'multi': 0.6573426573426573, 'passage': 0.7577639751552795, 'phrase': 0.7820895522388059}\n",
            "Precision por clase: {'multi': 1.0, 'passage': 1.0, 'phrase': 1.0}\n",
            "Recall por clase: {'multi': 0.6573426573426573, 'passage': 0.7577639751552795, 'phrase': 0.7820895522388059}\n",
            "F1-score por clase: {'multi': 0.7932489451476793, 'passage': 0.862190812720848, 'phrase': 0.8777219430485762}\n"
          ]
        }
      ]
    },
    {
      "cell_type": "markdown",
      "source": [
        "Una vez determinados los hiperparámetros, evaluamos el modelo sobre el conjunto de test:"
      ],
      "metadata": {
        "id": "-hD5f_1IRuOl"
      }
    },
    {
      "cell_type": "code",
      "source": [
        "preds_test, model_outputs = model.predict(test_df_texts)"
      ],
      "metadata": {
        "id": "sTS0gZohWCmh",
        "colab": {
          "base_uri": "https://localhost:8080/",
          "height": 81,
          "referenced_widgets": [
            "6fa3ba7a8d8c47fb86307be442cef879",
            "4a6ebf13930d45afb687e4c9c69e086c",
            "9e80a06811f84bf390c13478f68eebe4",
            "a8f29fb78fc94421a5b7030295ef361b",
            "377146492d35436bb81b5573241a1fc4",
            "43842cc338eb46dd9ca99746f098a079",
            "7579ab3971f84e65aab06be25bc4bcab",
            "025e4248a96440d68e1f1acda499574a",
            "3b8465c06a1c472d8f68979efb59fefb",
            "353211d68a4945d6a12e876e63879d07",
            "eb684628098745d5b4ef987566e1c39d",
            "d228244c0c7843d9ad75be99ec00cb35",
            "7594b21649214b719b19c59ebaf58f63",
            "cac568dc489942ef8e8cba65cd822978",
            "8644213763b640c7a946393b823871f2",
            "0453add0dd9d48cbac4b5dd82b3a5c30",
            "24f9aa27c49f417fbd4187e21b0b38bd",
            "6e7422968bc540ea9f8ed90c84955f21",
            "8581a8fc43534224ab32894a6d7f8245",
            "a342347d6a63477bb9822d244fd587a4",
            "60b784cf39a24110842c94c1522da29b",
            "b964bf688c2b43f79dafe4e0a5b3a730"
          ]
        },
        "outputId": "751ab29a-4231-4582-8fb3-2c268271e475"
      },
      "execution_count": null,
      "outputs": [
        {
          "output_type": "display_data",
          "data": {
            "text/plain": [
              "  0%|          | 0/2 [00:00<?, ?it/s]"
            ],
            "application/vnd.jupyter.widget-view+json": {
              "version_major": 2,
              "version_minor": 0,
              "model_id": "6fa3ba7a8d8c47fb86307be442cef879"
            }
          },
          "metadata": {}
        },
        {
          "output_type": "display_data",
          "data": {
            "text/plain": [
              "  0%|          | 0/10 [00:00<?, ?it/s]"
            ],
            "application/vnd.jupyter.widget-view+json": {
              "version_major": 2,
              "version_minor": 0,
              "model_id": "d228244c0c7843d9ad75be99ec00cb35"
            }
          },
          "metadata": {}
        }
      ]
    },
    {
      "cell_type": "code",
      "source": [
        "label_map = {0: 'multi', 1: 'passage', 2: 'phrase'}\n",
        "\n",
        "y_true = test_df['label'].tolist()\n",
        "\n",
        "\n",
        "accuracy_total = accuracy_score(y_true, preds_test)\n",
        "precision_total = precision_score(y_true, preds_test, average='weighted')\n",
        "recall_total = recall_score(y_true, preds_test, average='weighted')\n",
        "f1_total = f1_score(y_true, preds_test, average='weighted')\n",
        "accuracy_por_clase = {}\n",
        "\n",
        "y_true_mapped = [label_map[label] for label in y_true]\n",
        "preds_mapped = [label_map[label] for label in preds_test]\n",
        "\n",
        "for label in label_map.values():\n",
        "  predicted_labels_for_class = [preds_mapped[i] for i in range(len(y_true_mapped)) if y_true_mapped[i] == label]\n",
        "  true_labels_for_class = [y_true_mapped[i] for i in range(len(y_true_mapped)) if y_true_mapped[i] == label]\n",
        "\n",
        "  accuracy_por_clase[label] = accuracy_score(true_labels_for_class, predicted_labels_for_class)\n",
        "\n",
        "\n",
        "print(\"Accuracy total:\", accuracy_total)\n",
        "print(\"Precision total:\", precision_total)\n",
        "print(\"Recall total:\", recall_total)\n",
        "print(\"F1-score total:\", f1_total)\n",
        "\n",
        "print(\"Accuracy por clase:\", accuracy_por_clase)"
      ],
      "metadata": {
        "id": "WCf5ZBGrR1jW",
        "colab": {
          "base_uri": "https://localhost:8080/"
        },
        "outputId": "fcdda3bc-2a90-4a01-804d-bbd503e6e9fc"
      },
      "execution_count": null,
      "outputs": [
        {
          "output_type": "stream",
          "name": "stdout",
          "text": [
            "Accuracy total: 0.733\n",
            "Precision total: 0.7356338120580302\n",
            "Recall total: 0.733\n",
            "F1-score total: 0.7310072682227511\n",
            "Accuracy por clase: {'multi': 0.5804597701149425, 'passage': 0.7344913151364765, 'phrase': 0.7943262411347518}\n"
          ]
        }
      ]
    },
    {
      "cell_type": "markdown",
      "source": [
        "## Tarea 2: Generación de spoiler\n",
        "\n"
      ],
      "metadata": {
        "id": "2TijaGTVM_Cy"
      }
    },
    {
      "cell_type": "markdown",
      "source": [
        "Primero de todo, vamos a tener que convertir nuestros datos a un formato correcto en base a la aproximación que tomamos.\n",
        "\n",
        "La generación del spoiler se puede hacer con dos aproximaciones distintas:\n",
        "\n",
        "1) En base a la clasificación del tipo de spoiler, utilizar un modelo de QA o uno de Passage retrieval.\n",
        "\n",
        "2) Si la clasificación no es lo suficientemente buena, generar directamente el spoiler con un modelo de QA e ignorar su clasificación."
      ],
      "metadata": {
        "id": "xgJYKuybNGwa"
      }
    },
    {
      "cell_type": "markdown",
      "source": [
        "En un principio, voy a optar por la segunda aproximación."
      ],
      "metadata": {
        "id": "tmx_jo2eQyzI"
      }
    },
    {
      "cell_type": "markdown",
      "source": [
        "Entonces, hay que cambiar el formato del conjunto de datos. El conjunto de datos más conocido de la literatura para la tarea de Question Answering es SQuAD, desarrollado por la universidad de Stanford, y la respuesta a cada pregunta es un segmento de un texto. Así que será muy apropiado para esta tarea. Además, la mayoría de los modelos de QA más conocidos han sido fine-tuneados sobre este dataset."
      ],
      "metadata": {
        "id": "kzLAE0c9Q-QX"
      }
    },
    {
      "cell_type": "code",
      "source": [
        "train_dir = '/content/drive/MyDrive/Colab Notebooks/MDT/PROYECTO/DATA/train.jsonl'\n",
        "val_dir = '/content/drive/MyDrive/Colab Notebooks/MDT/PROYECTO/DATA/validation.jsonl'\n",
        "test_dir = '/content/drive/MyDrive/Colab Notebooks/MDT/PROYECTO/DATA/test.jsonl'"
      ],
      "metadata": {
        "id": "wEsOSKU2QwCX"
      },
      "execution_count": null,
      "outputs": []
    },
    {
      "cell_type": "code",
      "source": [
        "train_df = pd.read_json(path_or_buf=train_dir, lines=True)\n",
        "val_df = pd.read_json(path_or_buf=val_dir, lines=True)\n",
        "test_df = pd.read_json(path_or_buf=test_dir, lines=True)"
      ],
      "metadata": {
        "id": "Ugy38OdQTWKA"
      },
      "execution_count": null,
      "outputs": []
    },
    {
      "cell_type": "markdown",
      "source": [
        "Quitamos las instancias del conjunto de entrenamiento que requieran de QA abstractivo."
      ],
      "metadata": {
        "id": "kmaDZgW4ykmM"
      }
    },
    {
      "cell_type": "code",
      "source": [
        "def drop_abstractive(df):\n",
        "  counter = 0\n",
        "  index_list = []\n",
        "\n",
        "  for i, j in df.iterrows():\n",
        "    string = \"\"\n",
        "    for k in j[\"targetParagraphs\"]:\n",
        "      string += k\n",
        "    for l in j[\"spoiler\"]:\n",
        "      if l not in string:\n",
        "        index_list.append(i)\n",
        "        counter +=1\n",
        "  print('Drop:', counter)\n",
        "  return df.drop(index=index_list)\n",
        "\n",
        "train_df = drop_abstractive(train_df)"
      ],
      "metadata": {
        "colab": {
          "base_uri": "https://localhost:8080/"
        },
        "id": "9_5b-CY8ykZE",
        "outputId": "c3cf5f09-6b21-4aba-d901-a9e873a1d0ba"
      },
      "execution_count": null,
      "outputs": [
        {
          "output_type": "stream",
          "name": "stdout",
          "text": [
            "Drop: 152\n"
          ]
        }
      ]
    },
    {
      "cell_type": "markdown",
      "source": [
        "La siguiente función convierte el dataset al formato SQuAD requerido por los modelos de Question Answering."
      ],
      "metadata": {
        "id": "uruQ1T-TXPE5"
      }
    },
    {
      "cell_type": "code",
      "source": [
        "def convert_to_squad_format(jsonObj):\n",
        "  list_of_spoiler_dicts = []\n",
        "  for _, j in jsonObj.iterrows():\n",
        "    spoiler_dict = {}\n",
        "    spoiler_dict[\"title\"] = j[\"targetTitle\"]\n",
        "    context = \"\"\n",
        "    for k in j[\"targetParagraphs\"]:\n",
        "      context += k + \" \"\n",
        "    list_ans = []\n",
        "    dict_ans = {}\n",
        "    dict_ans[\"question\"] = j[\"postText\"][0]\n",
        "    dict_ans[\"id\"] = j[\"uuid\"]\n",
        "    list_ans_2 = []\n",
        "    for l in range(len(j[\"spoiler\"])):\n",
        "      dict_ans_2 = {}\n",
        "      dict_ans_2[\"text\"] = j[\"spoiler\"][l]\n",
        "      offset = 0\n",
        "      counter = 0\n",
        "      for k in j[\"targetParagraphs\"]:\n",
        "        if counter == j[\"spoilerPositions\"][l][0][0]:\n",
        "          break\n",
        "        offset += len(k) + 1\n",
        "        counter += 1\n",
        "      if len(j[\"spoilerPositions\"][l]) == 2:\n",
        "        if j[\"spoilerPositions\"][l][0][0] == j[\"spoilerPositions\"][l][1][0]:\n",
        "          if context[j[\"spoilerPositions\"][l][0][1] + offset : j[\"spoilerPositions\"][l][0][1] + offset + len(j[\"spoiler\"][l])].startswith(\" \"):\n",
        "            dict_ans_2[\"answer_start\"] = j[\"spoilerPositions\"][l][0][1] + offset + 1\n",
        "          elif context[j[\"spoilerPositions\"][l][0][1] + offset : j[\"spoilerPositions\"][l][0][1] + offset + len(j[\"spoiler\"][l])].endswith(\" \"):\n",
        "            dict_ans_2[\"answer_start\"] = j[\"spoilerPositions\"][l][0][1] + offset + 2\n",
        "          else:\n",
        "            dict_ans_2[\"answer_start\"] = j[\"spoilerPositions\"][l][0][1] + offset\n",
        "        else:\n",
        "          dict_ans_2[\"answer_start\"] = j[\"spoilerPositions\"][l][0][1] - 1\n",
        "      elif len(j[\"spoilerPositions\"][l]) == 1:\n",
        "        dict_ans_2[\"answer_start\"] = j[\"spoilerPositions\"][l][0][1]\n",
        "      list_ans_2.append(dict_ans_2)\n",
        "    dict_ans[\"answers\"] = list_ans_2\n",
        "    list_ans.append(dict_ans)\n",
        "    dict_final = {}\n",
        "    dict_final[\"title\"] = j[\"targetTitle\"]\n",
        "    dict_final[\"context\"] = context\n",
        "    dict_final[\"qas\"] = list_ans\n",
        "    list_of_spoiler_dicts.append(dict_final)\n",
        "\n",
        "  return list_of_spoiler_dicts"
      ],
      "metadata": {
        "id": "Pv2cuzAKV9Z0"
      },
      "execution_count": null,
      "outputs": []
    },
    {
      "cell_type": "code",
      "source": [
        "dict_train = convert_to_squad_format(train_df)\n",
        "dict_val = convert_to_squad_format(val_df)\n",
        "dict_test = convert_to_squad_format(test_df)"
      ],
      "metadata": {
        "id": "39UXwIq6XbSn"
      },
      "execution_count": null,
      "outputs": []
    },
    {
      "cell_type": "code",
      "source": [
        "cuda_available = torch.cuda.is_available()\n",
        "print(cuda_available)"
      ],
      "metadata": {
        "id": "Axyv2iHD9Csn",
        "colab": {
          "base_uri": "https://localhost:8080/"
        },
        "outputId": "889216aa-36ef-4c19-e740-7cf3a2d75834"
      },
      "execution_count": null,
      "outputs": [
        {
          "output_type": "stream",
          "name": "stdout",
          "text": [
            "True\n"
          ]
        }
      ]
    },
    {
      "cell_type": "markdown",
      "source": [
        "Cargamos el modelo que queramos utilizar. Para probar distintos modelos simplemente hay que cambiar el nombre del modelo."
      ],
      "metadata": {
        "id": "uDSbgl5PRzrG"
      }
    },
    {
      "cell_type": "code",
      "source": [
        "model_name = \"FacebookAI/roberta-base\"\n",
        "\n",
        "model = QuestionAnsweringModel('roberta',\n",
        "                               model_name,\n",
        "                               args={'reprocess_input_data': True,\n",
        "                                     'overwrite_output_dir': True,\n",
        "                                     'learning_rate': 5e-5,\n",
        "                                     'num_train_epochs': 3,\n",
        "                                     'max_seq_length': 192,\n",
        "                                     'doc_stride': 64,\n",
        "                                     'train_batch_size': 8,\n",
        "                                     'fp16': False,\n",
        "                                    },\n",
        "                              use_cuda=cuda_available)"
      ],
      "metadata": {
        "id": "O3N1x5o_RzL_",
        "colab": {
          "base_uri": "https://localhost:8080/"
        },
        "outputId": "ac808e7f-0dd6-455e-9eec-1b5d387c790b"
      },
      "execution_count": null,
      "outputs": [
        {
          "output_type": "stream",
          "name": "stderr",
          "text": [
            "Some weights of RobertaForQuestionAnswering were not initialized from the model checkpoint at FacebookAI/roberta-base and are newly initialized: ['qa_outputs.bias', 'qa_outputs.weight']\n",
            "You should probably TRAIN this model on a down-stream task to be able to use it for predictions and inference.\n"
          ]
        }
      ]
    },
    {
      "cell_type": "markdown",
      "source": [
        "Y ahora lo podemos entrenar con la función de train_model de la librería simpletransformers."
      ],
      "metadata": {
        "id": "FXOVaIOYSY_C"
      }
    },
    {
      "cell_type": "code",
      "source": [
        "model.train_model(dict_train)"
      ],
      "metadata": {
        "id": "jHZNSJTKSWod",
        "colab": {
          "base_uri": "https://localhost:8080/",
          "height": 116,
          "referenced_widgets": [
            "1909e2a8b6bc498fbc8ff627a5afa38d",
            "199e1b47c0a94d47b205149fe9301742",
            "233c30274fe94a3dbcf3706e982f8237",
            "0b20c4f8def448da81f324ce257ff4b5",
            "9ff49913e7844463a1eb54173a3695e4",
            "6f59f54130c747e797701c1ba1534a75",
            "c57ebfb357014a9bbcb27662bab286ad",
            "19c562139fc448449a81edd450136858",
            "0b09f79aaffb4c6eb1de39bf8d53bc60",
            "82404f61c78f403c94de1808fdf21671",
            "9eee1d24fb994d19969ad990c4ed44a4",
            "e94056808dd14997b08abdfea4357cab",
            "d72df7f0324048a895876c71b482bcdf",
            "fe3cd066e3cf490b9d94e84f308faf3b",
            "637c58b66b864f23b03edcf5d576a6d2",
            "efc868a4fa9c48d58bfb38c68137ddac",
            "e2d9abb698b1494b981888d0fc1d4d72",
            "013421ca4516408583e003fcffac4faa",
            "4ab1e1bc41b140cabe9afc8f637612c2",
            "e4e988a17aa94390b228a829172821ca",
            "d4ee06322f9e4baa9c274d30d033e709",
            "4671e029436448fa80871c4c43c89565"
          ]
        },
        "outputId": "4efabed0-247d-4036-c6bc-d1d769fd8d75"
      },
      "execution_count": null,
      "outputs": [
        {
          "metadata": {
            "tags": null
          },
          "name": "stderr",
          "output_type": "stream",
          "text": [
            "convert squad examples to features: 100%|██████████| 3070/3070 [03:55<00:00, 13.02it/s]\n",
            "add example index and unique id: 100%|██████████| 3070/3070 [00:00<00:00, 118474.44it/s]\n"
          ]
        },
        {
          "data": {
            "application/vnd.jupyter.widget-view+json": {
              "model_id": "1909e2a8b6bc498fbc8ff627a5afa38d",
              "version_major": 2,
              "version_minor": 0
            },
            "text/plain": [
              "Epoch:   0%|          | 0/3 [00:00<?, ?it/s]"
            ]
          },
          "metadata": {},
          "output_type": "display_data"
        },
        {
          "data": {
            "application/vnd.jupyter.widget-view+json": {
              "model_id": "e94056808dd14997b08abdfea4357cab",
              "version_major": 2,
              "version_minor": 0
            },
            "text/plain": [
              "Running Epoch 1 of 3:   0%|          | 0/3525 [00:00<?, ?it/s]"
            ]
          },
          "metadata": {},
          "output_type": "display_data"
        }
      ]
    },
    {
      "cell_type": "markdown",
      "source": [
        "Y realizamos las predicciones sobre el conjunto de test. Para buscar los mejores parámetros he realizado la predicción primero sobre el conjunto de validación y después lo he cambiado por el de test."
      ],
      "metadata": {
        "id": "7RVyk0HUSka4"
      }
    },
    {
      "cell_type": "code",
      "source": [
        "predictions = model.predict(dict_test)"
      ],
      "metadata": {
        "id": "nJRVoPIsSjv4"
      },
      "execution_count": null,
      "outputs": []
    },
    {
      "cell_type": "markdown",
      "source": [
        "La siguiente función le da un formato correcto a las predicciones para poder evaluarlas. Esto se debe a que las predicciones contienen una lista de soluciones por cada instancia, siendo la primera la que mayor probabilidad tiene asociada. Por tanto, nos quedamos con esa primera."
      ],
      "metadata": {
        "id": "JeCXW7jvTW_J"
      }
    },
    {
      "cell_type": "code",
      "source": [
        "def cambiar_predicciones(predictions):\n",
        "  predicciones = []\n",
        "  i=0\n",
        "\n",
        "  for lista_inst in predictions:\n",
        "    if i == 0:\n",
        "      for inst in lista_inst:\n",
        "        inst_id = inst['id']\n",
        "        answer_mas_prob = inst['answer'][0] if inst['answer'] else None\n",
        "\n",
        "        predicciones.append({'id': inst_id, 'answer': answer_mas_prob})\n",
        "    i+=1\n",
        "  return predicciones"
      ],
      "metadata": {
        "id": "3DwWoTIXTWMx"
      },
      "execution_count": null,
      "outputs": []
    },
    {
      "cell_type": "markdown",
      "source": [
        "Guardamos las predicciones"
      ],
      "metadata": {
        "id": "MeCYlkLmTzj0"
      }
    },
    {
      "cell_type": "code",
      "source": [
        "predicciones = cambiar_predicciones(predictions)\n",
        "preds_df = pd.DataFrame(predicciones)\n",
        "preds_df.to_csv('predicciones_roberta_base.csv', index=False)"
      ],
      "metadata": {
        "id": "JkUh6E3ATrdg"
      },
      "execution_count": null,
      "outputs": []
    },
    {
      "cell_type": "markdown",
      "source": [
        "Volvemos a cargar el diccionario de test para la evaluación, y sacamos las respuestas."
      ],
      "metadata": {
        "id": "PmNGZtS4T7bB"
      }
    },
    {
      "cell_type": "code",
      "source": [
        "dict_test = convert_to_squad_format(test_df)"
      ],
      "metadata": {
        "id": "lCDWV0uwT4_h"
      },
      "execution_count": null,
      "outputs": []
    },
    {
      "cell_type": "code",
      "source": [
        "answers_test = []\n",
        "\n",
        "for instance in dict_test:\n",
        "  qas = instance['qas']\n",
        "\n",
        "  answers_instance = []\n",
        "\n",
        "  for qa in qas:\n",
        "    answers_instance.extend([answer['text'] for answer in qa['answers']])\n",
        "\n",
        "  answers_test.append(answers_instance)"
      ],
      "metadata": {
        "id": "iTOWPkgjUCpQ"
      },
      "execution_count": null,
      "outputs": []
    },
    {
      "cell_type": "markdown",
      "source": [
        "Calculamos el valor de la métrica BLEU de la siguiente forma:"
      ],
      "metadata": {
        "id": "XASDf_l9qcsa"
      }
    },
    {
      "cell_type": "code",
      "source": [
        "reference_tokens = [[word_tokenize(sentence.lower()) for sentence in solution] for solution in answers_test]\n",
        "\n",
        "hypotheses = []\n",
        "\n",
        "for index, row in preds_df.iterrows():\n",
        "    prediction = row['answer']\n",
        "    prediction_tokens = word_tokenize(prediction.lower())\n",
        "    hypotheses.append(prediction_tokens)\n",
        "\n",
        "bleu_score = corpus_bleu(reference_tokens, hypotheses)\n",
        "\n",
        "print(\"Puntaje BLEU:\", bleu_score)"
      ],
      "metadata": {
        "id": "GGXjU-MkULIh"
      },
      "execution_count": null,
      "outputs": []
    },
    {
      "cell_type": "markdown",
      "source": [
        "Función para calcular el exact matching:"
      ],
      "metadata": {
        "id": "h-SRDkqsqwtC"
      }
    },
    {
      "cell_type": "code",
      "source": [
        "def calculate_exact_matches(predictions_df, solutions_list):\n",
        "  total_exact_matches = 0\n",
        "  for index, prediction in predictions_df.iterrows():\n",
        "    exact_matches = 0\n",
        "    solutions = solutions_list[index]\n",
        "    found_solutions = set()\n",
        "    for solution in solutions:\n",
        "      if solution in found_solutions:\n",
        "        continue\n",
        "      if prediction.iloc[1] == solution:\n",
        "        exact_matches += 1\n",
        "        found_solutions.add(solution)\n",
        "    total_exact_matches += exact_matches\n",
        "  return total_exact_matches"
      ],
      "metadata": {
        "id": "jrR3gtjNUQdw"
      },
      "execution_count": null,
      "outputs": []
    },
    {
      "cell_type": "code",
      "source": [
        "print('Proporción de exact matches: ', calculate_exact_matches(preds_df, answers_test)/len(preds_df))"
      ],
      "metadata": {
        "id": "kM5MhI8XUSGo"
      },
      "execution_count": null,
      "outputs": []
    },
    {
      "cell_type": "markdown",
      "source": [
        "Cacular el BertScore. Como valor final he cogido el del F1."
      ],
      "metadata": {
        "id": "drewEXXVq74i"
      }
    },
    {
      "cell_type": "code",
      "source": [
        "preds_df['answer'] = preds_df['answer'].fillna(\"\")\n",
        "candidates = preds_df['answer'].tolist()\n",
        "P, R, F1 = score(candidates, answers_test, lang='en', verbose=True)\n",
        "print('Bertscore P: ', P.mean())\n",
        "print('Bertscore R: ', R.mean())\n",
        "print('Bertscore F1: ', F1.mean())"
      ],
      "metadata": {
        "id": "WREegN2SUSp5"
      },
      "execution_count": null,
      "outputs": []
    },
    {
      "cell_type": "markdown",
      "source": [
        "Ahora, voy a realizar un experimento para ver cómo funcionan las métricas"
      ],
      "metadata": {
        "id": "3z9vfkel6kcO"
      }
    },
    {
      "cell_type": "markdown",
      "source": [
        "Lo primero, cargo las predicciones de los modelos que quiero comparar"
      ],
      "metadata": {
        "id": "CIFAoiRi7ZEM"
      }
    },
    {
      "cell_type": "code",
      "source": [
        "preds_roberta_squad_dir = '/content/drive/MyDrive/Colab Notebooks/MDT/PROYECTO/DATA/predicciones/predicciones_roberta_base_squad.csv'\n",
        "preds_electra_dir = '/content/drive/MyDrive/Colab Notebooks/MDT/PROYECTO/DATA/predicciones/predicciones_electra_base.csv'"
      ],
      "metadata": {
        "id": "ECofWzh16sKa"
      },
      "execution_count": null,
      "outputs": []
    },
    {
      "cell_type": "code",
      "source": [
        "preds_roberta_squad = pd.read_csv(preds_roberta_squad_dir)\n",
        "preds_electra = pd.read_csv(preds_electra_dir)"
      ],
      "metadata": {
        "id": "7QWYW_ej7iDK"
      },
      "execution_count": null,
      "outputs": []
    },
    {
      "cell_type": "code",
      "source": [
        "train_df = pd.read_json(path_or_buf=train_dir, lines=True)\n",
        "val_df = pd.read_json(path_or_buf=val_dir, lines=True)\n",
        "test_df = pd.read_json(path_or_buf=test_dir, lines=True)"
      ],
      "metadata": {
        "id": "c9bWgxAV7mDq"
      },
      "execution_count": null,
      "outputs": []
    },
    {
      "cell_type": "code",
      "source": [
        "val_df.iloc[795]"
      ],
      "metadata": {
        "colab": {
          "base_uri": "https://localhost:8080/"
        },
        "id": "lN4UHNvY7nNZ",
        "outputId": "0e9516d6-2cd3-4ca3-8cd7-0885097cf3bb"
      },
      "execution_count": null,
      "outputs": [
        {
          "output_type": "execute_result",
          "data": {
            "text/plain": [
              "uuid                              1189d343-42eb-47e7-8395-ff978a683875\n",
              "postId                                              428006164904034305\n",
              "postText             [This is what happens when you leave a hotel c...\n",
              "postPlatform                                                   Twitter\n",
              "targetParagraphs     [Instead of encountering a mound of dirty towe...\n",
              "targetTitle          This Is What Happens When You Leave A Hotel Cl...\n",
              "targetDescription    Instead of encountering a mound of dirty towel...\n",
              "targetKeywords       givebackfilms,give back films,video,random act...\n",
              "targetMedia          [http://s.m.huffpost.com/assets/Logo_Huffingto...\n",
              "targetUrl                                       http://huff.to/1ebARdm\n",
              "provenance           {'source': 'anonymized', 'humanSpoiler': 'She ...\n",
              "spoiler              [The video below shows the stunned cleaner ini...\n",
              "spoilerPositions                                  [[[3, 0], [3, 150]]]\n",
              "tags                                                         [passage]\n",
              "Name: 795, dtype: object"
            ]
          },
          "metadata": {},
          "execution_count": 16
        }
      ]
    },
    {
      "cell_type": "markdown",
      "source": [
        "Vamos a ver cuáles son las predicciones de los dos modelos y la respuestas real."
      ],
      "metadata": {
        "id": "7xGiEwGh8k-o"
      }
    },
    {
      "cell_type": "code",
      "source": [
        "caso_roberta_squad = preds_roberta_squad.iloc[795]['answer']\n",
        "caso_electra = preds_electra.iloc[795]['answer']\n",
        "respuesta = val_df.iloc[795]['spoiler'][0]"
      ],
      "metadata": {
        "id": "9kMJ4p1Q767t"
      },
      "execution_count": null,
      "outputs": []
    },
    {
      "cell_type": "code",
      "source": [
        "print('Predicción de RoBERTa-squad: ', caso_roberta_squad)\n",
        "print('\\nPredicción de Electra: ', caso_electra)\n",
        "print('\\nRespuesta real: ', respuesta)"
      ],
      "metadata": {
        "colab": {
          "base_uri": "https://localhost:8080/"
        },
        "id": "rGW3IwAH8EYv",
        "outputId": "c480933c-3d2a-44c3-dd4f-bdd8316cba77"
      },
      "execution_count": null,
      "outputs": [
        {
          "output_type": "stream",
          "name": "stdout",
          "text": [
            "Predicción de RoBERTa-squad:  The video below shows the stunned cleaner initially refusing to accept the tip, before another hotel worker reassured her by saying, \"You deserve it.\"\n",
            "\n",
            "Predicción de Electra:  The video below shows the stunned cleaner initially refusing to accept the tip,\n",
            "\n",
            "Respuesta real:  The video below shows the stunned cleaner initially refusing to accept the tip, before another hotel worker reassured her by saying, \"You deserve it.\"\n"
          ]
        }
      ]
    },
    {
      "cell_type": "markdown",
      "source": [
        "Calculamos el BLEU score de cada modelo."
      ],
      "metadata": {
        "id": "Rm6Kv5Qk8qSW"
      }
    },
    {
      "cell_type": "code",
      "source": [
        "caso_rs_token = caso_roberta_squad.split()\n",
        "caso_el_token = caso_electra.split()\n",
        "res_token = respuesta.split()\n",
        "\n",
        "bleu_score_rs = sentence_bleu([caso_rs_token], res_token)\n",
        "bleu_score_el = sentence_bleu([caso_el_token], res_token)\n",
        "\n",
        "print(\"BLEU Score de la predicción de RoBERTa-squad:\", bleu_score_rs)\n",
        "print(\"BLEU Score de la predicción de Electra:\", bleu_score_el)"
      ],
      "metadata": {
        "colab": {
          "base_uri": "https://localhost:8080/"
        },
        "id": "pXj4pK798Sd6",
        "outputId": "5a473718-182e-4643-df00-20f3f125c519"
      },
      "execution_count": null,
      "outputs": [
        {
          "output_type": "stream",
          "name": "stdout",
          "text": [
            "BLEU Score de la predicción de RoBERTa-squad: 1.0\n",
            "BLEU Score de la predicción de Electra: 0.5093121744590026\n"
          ]
        }
      ]
    },
    {
      "cell_type": "markdown",
      "source": [
        "Y ahora el BertScore"
      ],
      "metadata": {
        "id": "y2XFbpg28tZf"
      }
    },
    {
      "cell_type": "code",
      "source": [
        "lista_rs = [caso_roberta_squad]\n",
        "lista_el = [caso_electra]\n",
        "lista_res = [respuesta]\n",
        "\n",
        "p, r, f1 = score(lista_rs, lista_res, lang=\"en\")\n",
        "p2, r2, f1_2 = score(lista_el, lista_res, lang=\"en\")\n",
        "\n",
        "print('BertScore de la predicción de Roberta-squad: ', f1)\n",
        "print('BertScore de la predicción de electra: ', f1_2)"
      ],
      "metadata": {
        "colab": {
          "base_uri": "https://localhost:8080/",
          "height": 472,
          "referenced_widgets": [
            "5cf5a984423340abb5ee27af5af372c4",
            "2e49d4af96214fe88d5dda90fd51fe52",
            "28c713e101a346e79bcf8d9625c5acde",
            "f509b8f679c74f07ab7d8482ca8fe7d2",
            "f2af6e3fbf334b0c83fbd919b8df8854",
            "91d83c0d3a5b466caf5d1c678770807a",
            "cfc1b30ea90c4c12b790b2322e8e1325",
            "effd6c51f90044088e18d1a73607f74d",
            "abfc09269bdb43a8aec0390e47d5c819",
            "1352bfd8f46243fba1fc9fe83775f8fd",
            "a6e2fe81499a4c2289eee87ca4b747dd",
            "7e22604318c041c1b6fb1e98920a2621",
            "155622d589f74e6b97a9f832989d7b0a",
            "205588f5a60c4547b9ce415226f2b8d1",
            "be4dd0eaf96a45658451aed5c0495aff",
            "5eb8051e04e546bfbe902af9d4a502f3",
            "d5ae04f53b67430f98b362babd14f110",
            "bf28f301c36f4f1d91a74d36d660b0cc",
            "21be8dd99a234255b10833e0e0825c4f",
            "57658961051644e2b8eba559c9289222",
            "7f70bb3794204988ac651300e997be1b",
            "99309cccb0ac45b98e6b439058cbfb14",
            "c63e678d637b457396988a70654eaabb",
            "2e14c2c039224fb5b7054d87b0446022",
            "620d7fc5201f4493a94d019850a263d3",
            "1c83b60399d544388d4196187c812f1d",
            "cb779822d82640eeb04255a9ff0609b7",
            "6be5237024b6443384dcb1bf6ce14276",
            "7ad45100ecb7448a91f7869bb5b39006",
            "9fae101ca23840c69a4be014309208cd",
            "af60347e1c9f40f2831fe674dc5f3cb9",
            "721b773ad4264d18954c7417e704e279",
            "147a6937c88a446694a27f079fc8bb18",
            "8dd123e35aab46efaad6551a5a975834",
            "bf232195f54a4374877e1fa5bc16847d",
            "1dbc5a602d5b4b31beb105d77af889ae",
            "1b82b997050c45688f48080c5f17ab83",
            "90e3a1b15ba84ec7a9af595877a3f2b8",
            "93b2b7ac5edd427abe983e48619cc6aa",
            "545f41b64f61450fa64b87b93acfaf08",
            "fc2a0f91debb4121bea207d5083ba238",
            "b3785f0aed914bcd8efa8a90e3dff608",
            "270d0f3348004811b1952477542f8867",
            "c83c20959e8a4c49992bc79248fab135",
            "4b6cdc6d63c24382a6522414b602a736",
            "b8e79318adc847feacec45661194df67",
            "4786e53e3cfe4abb81a26dbb3631d50a",
            "a148e73b71144da7b524367bbf563e6b",
            "6dcc4ad601b144b59af9f145d895dd83",
            "e1439b7bb6c44a10a0c8fc8bf83efea0",
            "e33ffda4f587426983ef025f349f50cd",
            "33d9879097cb4eec893b5e9eb80a037b",
            "31a7ddbd2364417680afb274698e410a",
            "e193b0ea9d244f0fa2c292d13c4c5dfa",
            "139fcbe2d2b24f59a782f692b656729f",
            "7082ffe1934e4acb9e2e8885559b43eb",
            "ae285149ac764671a4dc399e918617b5",
            "f4d4f8d264544c9e85f8c9c8e19dd916",
            "044cca7bca2349d5b0e7314a661febfc",
            "bd527de1db7649cf82e8a9f2f9046640",
            "c5a9409ae81e4aad952e288880bd7690",
            "7fb9f670cbe745509f2a0769a7a52efe",
            "4636198a5cc44300b5416f054ea200cb",
            "d8437a009257464b8f781a6c9c0ff03f",
            "8a1a2095eefb4520b013156692421c25",
            "803b3c61882741da96bd89f32a864823"
          ]
        },
        "id": "ssz5bthN8W-N",
        "outputId": "8d55abd8-62f3-4145-c84f-16c02feaa236"
      },
      "execution_count": null,
      "outputs": [
        {
          "output_type": "stream",
          "name": "stderr",
          "text": [
            "/usr/local/lib/python3.10/dist-packages/huggingface_hub/file_download.py:1132: FutureWarning: `resume_download` is deprecated and will be removed in version 1.0.0. Downloads always resume when possible. If you want to force a new download, use `force_download=True`.\n",
            "  warnings.warn(\n",
            "/usr/local/lib/python3.10/dist-packages/huggingface_hub/utils/_token.py:89: UserWarning: \n",
            "The secret `HF_TOKEN` does not exist in your Colab secrets.\n",
            "To authenticate with the Hugging Face Hub, create a token in your settings tab (https://huggingface.co/settings/tokens), set it as secret in your Google Colab and restart your session.\n",
            "You will be able to reuse this secret in all of your notebooks.\n",
            "Please note that authentication is recommended but still optional to access public models or datasets.\n",
            "  warnings.warn(\n"
          ]
        },
        {
          "output_type": "display_data",
          "data": {
            "text/plain": [
              "tokenizer_config.json:   0%|          | 0.00/25.0 [00:00<?, ?B/s]"
            ],
            "application/vnd.jupyter.widget-view+json": {
              "version_major": 2,
              "version_minor": 0,
              "model_id": "5cf5a984423340abb5ee27af5af372c4"
            }
          },
          "metadata": {}
        },
        {
          "output_type": "display_data",
          "data": {
            "text/plain": [
              "config.json:   0%|          | 0.00/482 [00:00<?, ?B/s]"
            ],
            "application/vnd.jupyter.widget-view+json": {
              "version_major": 2,
              "version_minor": 0,
              "model_id": "7e22604318c041c1b6fb1e98920a2621"
            }
          },
          "metadata": {}
        },
        {
          "output_type": "display_data",
          "data": {
            "text/plain": [
              "vocab.json:   0%|          | 0.00/899k [00:00<?, ?B/s]"
            ],
            "application/vnd.jupyter.widget-view+json": {
              "version_major": 2,
              "version_minor": 0,
              "model_id": "c63e678d637b457396988a70654eaabb"
            }
          },
          "metadata": {}
        },
        {
          "output_type": "display_data",
          "data": {
            "text/plain": [
              "merges.txt:   0%|          | 0.00/456k [00:00<?, ?B/s]"
            ],
            "application/vnd.jupyter.widget-view+json": {
              "version_major": 2,
              "version_minor": 0,
              "model_id": "8dd123e35aab46efaad6551a5a975834"
            }
          },
          "metadata": {}
        },
        {
          "output_type": "display_data",
          "data": {
            "text/plain": [
              "tokenizer.json:   0%|          | 0.00/1.36M [00:00<?, ?B/s]"
            ],
            "application/vnd.jupyter.widget-view+json": {
              "version_major": 2,
              "version_minor": 0,
              "model_id": "4b6cdc6d63c24382a6522414b602a736"
            }
          },
          "metadata": {}
        },
        {
          "output_type": "display_data",
          "data": {
            "text/plain": [
              "model.safetensors:   0%|          | 0.00/1.42G [00:00<?, ?B/s]"
            ],
            "application/vnd.jupyter.widget-view+json": {
              "version_major": 2,
              "version_minor": 0,
              "model_id": "7082ffe1934e4acb9e2e8885559b43eb"
            }
          },
          "metadata": {}
        },
        {
          "output_type": "stream",
          "name": "stderr",
          "text": [
            "Some weights of RobertaModel were not initialized from the model checkpoint at roberta-large and are newly initialized: ['roberta.pooler.dense.bias', 'roberta.pooler.dense.weight']\n",
            "You should probably TRAIN this model on a down-stream task to be able to use it for predictions and inference.\n",
            "Some weights of RobertaModel were not initialized from the model checkpoint at roberta-large and are newly initialized: ['roberta.pooler.dense.bias', 'roberta.pooler.dense.weight']\n",
            "You should probably TRAIN this model on a down-stream task to be able to use it for predictions and inference.\n"
          ]
        },
        {
          "output_type": "stream",
          "name": "stdout",
          "text": [
            "BertScore de la predicción de Roberta-squad:  tensor([1.])\n",
            "BertScore de la predicción de electra:  tensor([0.9443])\n"
          ]
        }
      ]
    }
  ]
}